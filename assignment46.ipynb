{
 "cells": [
  {
   "cell_type": "markdown",
   "metadata": {},
   "source": [
    "# Assignment 46 \n",
    "## Verification of Stokes' Theoreom using SymPy\n",
    "\n",
    "In general, what Stokes' theorem holds is that the left and right hand sides of the below are related through equality subject to certain assumptions:\n",
    "\n",
    "$$\\oint_{C} \\mathbf{V} \\cdot d\\mathbf{r} = \\int\\int_{S} \\nabla \\times \\mathbf{V} \\cdot d\\mathbf{S}$$\n",
    "\n",
    "The equality holds provided that\n",
    "\n",
    "+ 1) The derivatives of $\\mathbf{V}$ exist and are continuous in the region bounded by the closed loop $C$\n",
    "+ 2) $C$ is a 'simple closed loop', meaning that it involves no intersections (this condition can be relaxed slightly in certain instances by defining an appropriate orientation of the curve)\n",
    "+ 3) The surface $S$ must be simply connected\n",
    "\n",
    "Thus, let $$\\mathbf{A} = (3x - y)\\mathbf{\\hat{e}}_{x} + \\frac{8}{7}yz^{7}\\mathbf{\\hat{e}}_{y} + 4y^{2}z^{6}\\mathbf{\\hat{e}}_{z}$$\n",
    "\n",
    "play the role of $\\mathbf{V}$ in the above, let $S$ be the upper hemisphere of the unit sphere ($z > 0$) and $C$ denote the intersection of the same with the $x - y$ plane. \n",
    "\n",
    "It's easiset to do the line integral if we parameterize the curve by $t$. Thus we have, in the $x - y$ plane where $z = 0$,\n",
    "\n",
    "$$\\mathbf{r} = x\\mathbf{\\hat{i}} + y\\mathbf{\\hat{j}} + z\\mathbf{\\hat{k}} = \\cos(t)\\mathbf{\\hat{i}} + \\sin(t)\\mathbf{\\hat{j}} \\text{ where } 0 \\leq t \\leq 2\\pi$$\n",
    "\n",
    "We must then obtain the parametric form of $\\mathbf{A}$ as well:\n",
    "\n",
    "$$\\mathbf{A} = \\mathbf{A}(\\mathbf{r}(t)) = (3\\cos(t) - \\sin(t))\\mathbf{\\hat{i}}$$\n",
    "\n",
    "Then we have, \n",
    "\n",
    "$$\\oint A \\cdot dr = \\int_{0}^{2\\pi} \\mathbf{A}(\\mathbf{r}(t)) \\cdot d\\mathbf{r} = \\int_{0}^{2\\pi} (3\\cos(t) - \\sin(t)) \\mathbf{\\hat{i}} \\cdot - \\sin(t)\\mathbf{\\hat{i}} + \\cos(t)\\mathbf{\\hat{j}} dt$$\n",
    "\n",
    "$$ = \\int_{0}^{2\\pi} (\\sin^{2}(t) - 3\\cos(t)\\sin(t))dt = \\frac{t}{2} - \\frac{3\\sin^{2}(t)}{2} - \\frac{\\sin(t)\\cos(t)}{2} \\Big\\vert_{0}^{2\\pi} = \\frac{2\\pi}{2} = \\pi$$\n",
    "\n",
    "We now treat of the LHS, involving the line integral over $C$, using SymPy."
   ]
  },
  {
   "cell_type": "code",
   "execution_count": 1,
   "metadata": {},
   "outputs": [],
   "source": [
    "from sympy import *\n",
    "from sympy import cos, sin, pi\n",
    "from sympy.vector import CoordSys3D, curl\n",
    "\n",
    "N = CoordSys3D('N')\n",
    "x,y,z,t = symbols('x,y,z,t')\n",
    "r = x*N.i + y*N.j + z*N.k\n",
    "\n",
    "# in the plane z = 0\n",
    "r = r.subs({z: 0})\n",
    "\n",
    "# it's easiest to parameterize r\n",
    "r = r.subs({x: cos(t), y: sin(t)})\n",
    "\n",
    "A = (3 * x - y) * N.i + (Rational(8, 7) * y * z ** 7) * N.j + (4* y**2 * z**6) * N.k\n",
    "\n",
    "# we parameterize A as well\n",
    "A = A.subs({x:cos(t), y:sin(t), z:0})\n",
    "\n",
    "dr = diff(r, t)\n",
    "\n",
    "intrgrnd = A.dot(dr)\n",
    "\n",
    "line_intrgrl = integrate(intrgrnd, (t, 0, 2 * pi))"
   ]
  },
  {
   "cell_type": "code",
   "execution_count": 2,
   "metadata": {},
   "outputs": [
    {
     "data": {
      "text/latex": [
       "$\\displaystyle (\\cos{\\left(t \\right)})\\mathbf{\\hat{i}_{N}} + (\\sin{\\left(t \\right)})\\mathbf{\\hat{j}_{N}}$"
      ],
      "text/plain": [
       "(cos(t))*N.i + (sin(t))*N.j"
      ]
     },
     "execution_count": 2,
     "metadata": {},
     "output_type": "execute_result"
    }
   ],
   "source": [
    "r"
   ]
  },
  {
   "cell_type": "code",
   "execution_count": 3,
   "metadata": {},
   "outputs": [
    {
     "data": {
      "text/latex": [
       "$\\displaystyle (- \\sin{\\left(t \\right)})\\mathbf{\\hat{i}_{N}} + (\\cos{\\left(t \\right)})\\mathbf{\\hat{j}_{N}}$"
      ],
      "text/plain": [
       "(-sin(t))*N.i + (cos(t))*N.j"
      ]
     },
     "execution_count": 3,
     "metadata": {},
     "output_type": "execute_result"
    }
   ],
   "source": [
    "dr"
   ]
  },
  {
   "cell_type": "code",
   "execution_count": 4,
   "metadata": {},
   "outputs": [
    {
     "data": {
      "text/latex": [
       "$\\displaystyle (- \\sin{\\left(t \\right)} + 3 \\cos{\\left(t \\right)})\\mathbf{\\hat{i}_{N}}$"
      ],
      "text/plain": [
       "(-sin(t) + 3*cos(t))*N.i"
      ]
     },
     "execution_count": 4,
     "metadata": {},
     "output_type": "execute_result"
    }
   ],
   "source": [
    "A"
   ]
  },
  {
   "cell_type": "code",
   "execution_count": 5,
   "metadata": {},
   "outputs": [
    {
     "data": {
      "text/latex": [
       "$\\displaystyle - \\frac{3 \\sin{\\left(2 t \\right)}}{2} - \\frac{\\cos{\\left(2 t \\right)}}{2} + \\frac{1}{2}$"
      ],
      "text/plain": [
       "-3*sin(2*t)/2 - cos(2*t)/2 + 1/2"
      ]
     },
     "execution_count": 5,
     "metadata": {},
     "output_type": "execute_result"
    }
   ],
   "source": [
    "simplify(intrgrnd)"
   ]
  },
  {
   "cell_type": "code",
   "execution_count": 6,
   "metadata": {},
   "outputs": [
    {
     "data": {
      "text/latex": [
       "$\\displaystyle \\pi$"
      ],
      "text/plain": [
       "pi"
      ]
     },
     "execution_count": 6,
     "metadata": {},
     "output_type": "execute_result"
    }
   ],
   "source": [
    "line_intrgrl"
   ]
  },
  {
   "cell_type": "markdown",
   "metadata": {},
   "source": [
    "Now we compute the RHS of the above, starting with \n",
    "\n",
    "$$ \\nabla \\times \\mathbf{A}$$\n",
    "\n",
    "We have \n",
    "\n",
    "$${\\nabla \\times \\mathbf {A} ={\\begin{vmatrix}{{\\hat {\\mathbf{i}}}}&{{\\hat {\\mathbf{j}}}}&{{\\hat{\\mathbf{k}}}}\\\\[5pt]{\\dfrac {\\partial }{\\partial x}}&{\\dfrac {\\partial }{\\partial y}}&{\\dfrac {\\partial }{\\partial z}}\\\\3x - y&\\frac{8}{7}yz^{7}&4y^{2}z^{6}\\end{vmatrix}}}$$\n",
    "\n",
    "$$={{\\begin{vmatrix}\\\\{\\dfrac {\\partial }{\\partial y}}&{\\dfrac {\\partial }{\\partial z}}\\\\ \\frac{8}{7}yz^{7}&4y^{2}z^{6}\\end{vmatrix}}} \\ \\hat{\\mathbf{i}} \\ \\ - \\ \\ {{\\begin{vmatrix}\\\\{\\dfrac {\\partial }{\\partial x}}&{\\dfrac {\\partial }{\\partial z}}\\\\ 3x - y&4y^{2}z^{6}\\end{vmatrix}}} \\ \\hat{\\mathbf{j}} \\ \\ + \\ \\ {{\\begin{vmatrix}\\\\{\\dfrac {\\partial }{\\partial x}}&{\\dfrac {\\partial }{\\partial y}}\\\\ 3x - y&\\frac{8}{7}yz^{7}\\end{vmatrix}}} \\ \\hat{\\mathbf{k}}$$\n",
    "\n",
    "$$= (8yz^{6} - 8yz^{6})\\hat{\\mathbf{i}} - 0\\hat{\\mathbf{j}} - -\\hat{\\mathbf{k}}$$\n",
    "\n",
    "$$ = \\hat{\\mathbf{k}}$$"
   ]
  },
  {
   "cell_type": "code",
   "execution_count": 7,
   "metadata": {},
   "outputs": [],
   "source": [
    "A = (3 * N.x - N.y) * N.i + (Rational(8,7) * N.y * N.z ** 7) * N.j + (4* N.y**2 * N.z**6) * N.k"
   ]
  },
  {
   "cell_type": "code",
   "execution_count": 8,
   "metadata": {},
   "outputs": [
    {
     "data": {
      "text/latex": [
       "$\\displaystyle (3 \\mathbf{{x}_{N}} - \\mathbf{{y}_{N}})\\mathbf{\\hat{i}_{N}} + (\\frac{8 \\mathbf{{y}_{N}} \\mathbf{{z}_{N}}^{7}}{7})\\mathbf{\\hat{j}_{N}} + (4 \\mathbf{{y}_{N}}^{2} \\mathbf{{z}_{N}}^{6})\\mathbf{\\hat{k}_{N}}$"
      ],
      "text/plain": [
       "(3*N.x - N.y)*N.i + 8*N.y*N.z**7/7*N.j + 4*N.y**2*N.z**6*N.k"
      ]
     },
     "execution_count": 8,
     "metadata": {},
     "output_type": "execute_result"
    }
   ],
   "source": [
    "A"
   ]
  },
  {
   "cell_type": "code",
   "execution_count": 9,
   "metadata": {},
   "outputs": [
    {
     "data": {
      "text/latex": [
       "$\\displaystyle \\mathbf{\\hat{k}_{N}}$"
      ],
      "text/plain": [
       "N.k"
      ]
     },
     "execution_count": 9,
     "metadata": {},
     "output_type": "execute_result"
    }
   ],
   "source": [
    "curl(A)"
   ]
  },
  {
   "cell_type": "markdown",
   "metadata": {},
   "source": [
    "Now, the spherical representation of $\\hat{\\mathbf{k}}$ is given by\n",
    "\n",
    "$$\\hat{\\mathbf{k}} = \\cos(\\phi)\\hat{\\mathbf{\\rho}} - \\sin(\\phi)\\hat{\\mathbf{\\theta}}$$\n",
    "\n",
    "where $\\phi$ is the angle from the $z$ axis to $\\rho$, the so-called 'azimuthal angle'. \n",
    "\n",
    "Moreover, on the surface of the unit sphere. we have it that\n",
    "\n",
    "$$d\\mathbf{S} = \\hat{\\rho}\\sin(\\phi)d\\theta d\\phi$$\n",
    "\n",
    "Consequently, out integrand becomes \n",
    "\n",
    "$$\\hat{\\mathbf{k}} \\cdot d\\mathbf{S} =(\\cos(\\phi)\\hat{\\mathbf{\\rho}} - \\sin(\\phi)\\hat{\\mathbf{\\theta}}) \\cdot \\hat{\\rho}\\sin(\\phi)d\\theta d\\phi = \\sin(\\phi)\\cos(\\phi)d\\phi d\\theta$$\n",
    "\n",
    "But then, \n",
    "\n",
    "$$\\int \\int_{S} \\nabla \\times \\mathbf{A} \\cdot d\\mathbf{S} = \\int_{0}^{2\\pi} \\int_{0}^{\\frac{\\pi}{2}} \\sin(\\phi)\\cos(\\phi)d\\phi d\\theta = \\int_{0}^{\\frac{\\pi}{2}} \\sin(\\phi)\\cos(\\phi)d\\phi \\int_{0}^{2\\pi} d\\theta = \\frac{1}{2} \\cdot 2\\pi = \\pi$$"
   ]
  },
  {
   "cell_type": "code",
   "execution_count": 10,
   "metadata": {},
   "outputs": [],
   "source": [
    "intrgrnd = sin(x) * cos(x)"
   ]
  },
  {
   "cell_type": "code",
   "execution_count": 17,
   "metadata": {},
   "outputs": [],
   "source": [
    "intgrl = integrate(intrgrnd, (x, 0, pi/2)) "
   ]
  },
  {
   "cell_type": "code",
   "execution_count": 18,
   "metadata": {},
   "outputs": [
    {
     "data": {
      "text/latex": [
       "$\\displaystyle \\pi$"
      ],
      "text/plain": [
       "pi"
      ]
     },
     "execution_count": 18,
     "metadata": {},
     "output_type": "execute_result"
    }
   ],
   "source": [
    "intgrl*2*pi"
   ]
  },
  {
   "cell_type": "code",
   "execution_count": null,
   "metadata": {},
   "outputs": [],
   "source": []
  }
 ],
 "metadata": {
  "kernelspec": {
   "display_name": "Python 3",
   "language": "python",
   "name": "python3"
  },
  "language_info": {
   "codemirror_mode": {
    "name": "ipython",
    "version": 3
   },
   "file_extension": ".py",
   "mimetype": "text/x-python",
   "name": "python",
   "nbconvert_exporter": "python",
   "pygments_lexer": "ipython3",
   "version": "3.6.8"
  }
 },
 "nbformat": 4,
 "nbformat_minor": 4
}
