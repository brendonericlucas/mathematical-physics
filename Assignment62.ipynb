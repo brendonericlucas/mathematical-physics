{
 "cells": [
  {
   "cell_type": "markdown",
   "metadata": {},
   "source": [
    "# Assignment 62: Gaussian elimination"
   ]
  },
  {
   "cell_type": "code",
   "execution_count": 1,
   "metadata": {},
   "outputs": [],
   "source": [
    "import time\n",
    "import numpy as np\n",
    "import matplotlib.pyplot as plt\n",
    "\n",
    "np.random.seed(42)\n",
    "\n",
    "plt.style.use('seaborn-whitegrid')\n",
    "\n",
    "N = 100\n",
    "\n",
    "random_matrices = [np.random.rand(n, n) for n in range(1, N + 1)]\n",
    "\n",
    "execution_times = [0]*len(random_matrices)\n",
    "\n",
    "# 'eliminate' column j of n x n matrix M\n",
    "def eliminate(M, j, n):\n",
    "    M_out = M[:,:].copy()\n",
    "    row = M[j,:]\n",
    "    for i in range(j + 1, n):\n",
    "        l = M[i,j]/M[j,j]\n",
    "        u = l * row\n",
    "        z = np.zeros([n, n])\n",
    "        z[i,:] = -u\n",
    "        M_out = M_out + z\n",
    "        \n",
    "    return M_out\n",
    "        \n",
    "\n",
    "# repeatedly 'eliminate' columns until matrix\n",
    "# is in upper triangular form\n",
    "def upper_triangular(M):\n",
    "    M_out = M.copy()\n",
    "    n = M.shape[0]\n",
    "    for j in range(n - 1):\n",
    "        M_out = eliminate(M_out, j, n)\n",
    "        \n",
    "    return M_out\n",
    "        \n",
    "# compute the determinant of a matrix M in \n",
    "# upper triangular form\n",
    "def determinant(M):\n",
    "    det = 1.0\n",
    "    n = M.shape[0]\n",
    "    ut = upper_triangular(M)\n",
    "    for i in range(n):\n",
    "        det *= ut[i, i]\n",
    "        \n",
    "    return det\n",
    "\n",
    "execution_times = [0]*len(random_matrices)\n",
    "\n",
    "for i, M in enumerate(random_matrices):\n",
    "    ti = time.perf_counter()\n",
    "    determinant(M)\n",
    "    tf = time.perf_counter()\n",
    "    execution_times[i] = tf - ti\n",
    "\n",
    "x = [n for n in range(1, N + 1)]"
   ]
  },
  {
   "cell_type": "code",
   "execution_count": 2,
   "metadata": {},
   "outputs": [
    {
     "data": {
      "text/plain": [
       "[<matplotlib.lines.Line2D at 0x7f77a122c400>]"
      ]
     },
     "execution_count": 2,
     "metadata": {},
     "output_type": "execute_result"
    },
    {
     "data": {
      "image/png": "[encoded data removed]",
      "text/plain": [
       "<Figure size 432x288 with 1 Axes>"
      ]
     },
     "metadata": {
      "needs_background": "light"
     },
     "output_type": "display_data"
    }
   ],
   "source": [
    "plt.plot(x, execution_times)"
   ]
  },
  {
   "cell_type": "markdown",
   "metadata": {},
   "source": [
    "The plot above shows that computing the determinant of an upper triangular matrix by multiplying the diagonal elements of said matrix is orders of magntude faster than using the recursive algorithm based on the Laplace expansion, even with the additional overhead from having to put the matrix into upper triangular form. \n",
    "\n",
    "To estimate the number of elementary ops required to compute the determinant in the manner above, we first note that \n",
    "\n",
    "$$\\text{Total ops = ops to put matrix into upper triangular form + ops to compute the determinant} $$\n",
    "\n",
    "For a matrix of order $n$, it will require a constant number of ops to compute the values $\\lambda_{i}$. Each $\\lambda_{i}$ multiplies a row with $n$ elements. As there are $n$ rows total, we have order $n^{2}$ total ops. Each resulting row is then subtracted from the corresponding row of the input matrix, which is an order $n$ operation over the entire matrix. Since we have to make repeated passes over the input matrix, the total number of ops to eliminate all of the entries below the diagonal is an additional order $n$ term. This gets us to order $n^{3}$. \n",
    "\n",
    "Once we have an equaivalent uper triangular matrix, it's an additional order $n$ multiplications to compute the determinant. \n",
    "\n",
    "Thus, we're looking at $\\mathcal{O}(n^{3})$ asymptotic running time in the order of the input matrix. This is a polynomial worst-case runtime, and so is a vast improvement over the recursive algorithm, whose exponential runtime implied that it was virtually worthless for all practical purposes. "
   ]
  },
  {
   "cell_type": "code",
   "execution_count": null,
   "metadata": {},
   "outputs": [],
   "source": []
  }
 ],
 "metadata": {
  "kernelspec": {
   "display_name": "Python 3",
   "language": "python",
   "name": "python3"
  },
  "language_info": {
   "codemirror_mode": {
    "name": "ipython",
    "version": 3
   },
   "file_extension": ".py",
   "mimetype": "text/x-python",
   "name": "python",
   "nbconvert_exporter": "python",
   "pygments_lexer": "ipython3",
   "version": "3.6.8"
  }
 },
 "nbformat": 4,
 "nbformat_minor": 4
}
