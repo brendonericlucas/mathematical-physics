{
 "cells": [
  {
   "cell_type": "markdown",
   "metadata": {},
   "source": [
    "# Assignment 63: Calculate this Jacobian"
   ]
  },
  {
   "cell_type": "code",
   "execution_count": 1,
   "metadata": {},
   "outputs": [],
   "source": [
    "import sympy as sp\n",
    "\n",
    "x0, x1, x2, x3, x4 = sp.symbols('x_{0}, x_{1}, x_{2}, x_{3}, x_{4}')\n",
    "\n",
    "q0 = x0 + x1 + x2 + x3 + x4\n",
    "q1 = x0**2 + x1**2 + x2**2 + x3**2 + x4**2\n",
    "q2 = x0**3 + x1**3 + x2**3 + x3**3 + x4**3\n",
    "q3 = x0**4 + x1**4 + x2**4 + x3**4 + x4**4\n",
    "q4 = q1*q2\n",
    "\n",
    "grad  = lambda f: [f.diff(x0), f.diff(x1), f.diff(x2), f.diff(x3), f.diff(x4)]\n",
    "\n",
    "jacobian_matrix = lambda F: sp.Matrix([grad(f) for f in F])\n",
    "\n",
    "F = [q0, q1, q2, q3, q4]\n",
    "\n",
    "J = jacobian_matrix(F)"
   ]
  },
  {
   "cell_type": "code",
   "execution_count": 4,
   "metadata": {},
   "outputs": [
    {
     "data": {
      "text/latex": [
       "$\\displaystyle \\left[\\begin{matrix}1 & 1 & 1 & 1 & 1\\\\2 x_{0} & 2 x_{1} & 2 x_{2} & 2 x_{3} & 2 x_{4}\\\\3 x_{0}^{2} & 3 x_{1}^{2} & 3 x_{2}^{2} & 3 x_{3}^{2} & 3 x_{4}^{2}\\\\4 x_{0}^{3} & 4 x_{1}^{3} & 4 x_{2}^{3} & 4 x_{3}^{3} & 4 x_{4}^{3}\\\\x_{0} \\left(2 x_{0}^{3} + 3 x_{0} \\left(x_{0}^{2} + x_{1}^{2} + x_{2}^{2} + x_{3}^{2} + x_{4}^{2}\\right) + 2 x_{1}^{3} + 2 x_{2}^{3} + 2 x_{3}^{3} + 2 x_{4}^{3}\\right) & x_{1} \\left(2 x_{0}^{3} + 2 x_{1}^{3} + 3 x_{1} \\left(x_{0}^{2} + x_{1}^{2} + x_{2}^{2} + x_{3}^{2} + x_{4}^{2}\\right) + 2 x_{2}^{3} + 2 x_{3}^{3} + 2 x_{4}^{3}\\right) & x_{2} \\left(2 x_{0}^{3} + 2 x_{1}^{3} + 2 x_{2}^{3} + 3 x_{2} \\left(x_{0}^{2} + x_{1}^{2} + x_{2}^{2} + x_{3}^{2} + x_{4}^{2}\\right) + 2 x_{3}^{3} + 2 x_{4}^{3}\\right) & x_{3} \\left(2 x_{0}^{3} + 2 x_{1}^{3} + 2 x_{2}^{3} + 2 x_{3}^{3} + 3 x_{3} \\left(x_{0}^{2} + x_{1}^{2} + x_{2}^{2} + x_{3}^{2} + x_{4}^{2}\\right) + 2 x_{4}^{3}\\right) & x_{4} \\left(2 x_{0}^{3} + 2 x_{1}^{3} + 2 x_{2}^{3} + 2 x_{3}^{3} + 2 x_{4}^{3} + 3 x_{4} \\left(x_{0}^{2} + x_{1}^{2} + x_{2}^{2} + x_{3}^{2} + x_{4}^{2}\\right)\\right)\\end{matrix}\\right]$"
      ],
      "text/plain": [
       "Matrix([\n",
       "[                                                                                                                                      1,                                                                                                                                       1,                                                                                                                                       1,                                                                                                                                       1,                                                                                                                                       1],\n",
       "[                                                                                                                                2*x_{0},                                                                                                                                 2*x_{1},                                                                                                                                 2*x_{2},                                                                                                                                 2*x_{3},                                                                                                                                 2*x_{4}],\n",
       "[                                                                                                                             3*x_{0}**2,                                                                                                                              3*x_{1}**2,                                                                                                                              3*x_{2}**2,                                                                                                                              3*x_{3}**2,                                                                                                                              3*x_{4}**2],\n",
       "[                                                                                                                             4*x_{0}**3,                                                                                                                              4*x_{1}**3,                                                                                                                              4*x_{2}**3,                                                                                                                              4*x_{3}**3,                                                                                                                              4*x_{4}**3],\n",
       "[x_{0}*(2*x_{0}**3 + 3*x_{0}*(x_{0}**2 + x_{1}**2 + x_{2}**2 + x_{3}**2 + x_{4}**2) + 2*x_{1}**3 + 2*x_{2}**3 + 2*x_{3}**3 + 2*x_{4}**3), x_{1}*(2*x_{0}**3 + 2*x_{1}**3 + 3*x_{1}*(x_{0}**2 + x_{1}**2 + x_{2}**2 + x_{3}**2 + x_{4}**2) + 2*x_{2}**3 + 2*x_{3}**3 + 2*x_{4}**3), x_{2}*(2*x_{0}**3 + 2*x_{1}**3 + 2*x_{2}**3 + 3*x_{2}*(x_{0}**2 + x_{1}**2 + x_{2}**2 + x_{3}**2 + x_{4}**2) + 2*x_{3}**3 + 2*x_{4}**3), x_{3}*(2*x_{0}**3 + 2*x_{1}**3 + 2*x_{2}**3 + 2*x_{3}**3 + 3*x_{3}*(x_{0}**2 + x_{1}**2 + x_{2}**2 + x_{3}**2 + x_{4}**2) + 2*x_{4}**3), x_{4}*(2*x_{0}**3 + 2*x_{1}**3 + 2*x_{2}**3 + 2*x_{3}**3 + 2*x_{4}**3 + 3*x_{4}*(x_{0}**2 + x_{1}**2 + x_{2}**2 + x_{3}**2 + x_{4}**2))]])"
      ]
     },
     "execution_count": 4,
     "metadata": {},
     "output_type": "execute_result"
    }
   ],
   "source": [
    "sp.simplify(J)"
   ]
  },
  {
   "cell_type": "code",
   "execution_count": 5,
   "metadata": {},
   "outputs": [],
   "source": [
    "det = sp.simplify(J.det())"
   ]
  },
  {
   "cell_type": "code",
   "execution_count": 6,
   "metadata": {},
   "outputs": [
    {
     "data": {
      "text/latex": [
       "$\\displaystyle 0$"
      ],
      "text/plain": [
       "0"
      ]
     },
     "execution_count": 6,
     "metadata": {},
     "output_type": "execute_result"
    }
   ],
   "source": [
    "det"
   ]
  },
  {
   "cell_type": "markdown",
   "metadata": {},
   "source": [
    "From the fact that the Jacobian Determinant is identically equal to zero for all $(x_{0}, x_{1}, x_{2}, x_{3}, x_{4})$ we conclude, firstly, that the vector valued function $q: \\mathbb{R}^{5} \\rightarrow \\mathbb{R}^{5}$ given by the $q_{i} = q_{i}(x_{0}, x_{1}, x_{2}, x_{3}, x_{4})$ is nowhere invertible. \n",
    "\n",
    "We can also conclude that the mapping produces parallelotopes of zero volume at every point. That is, at any particular point in "
   ]
  },
  {
   "cell_type": "code",
   "execution_count": null,
   "metadata": {},
   "outputs": [],
   "source": []
  }
 ],
 "metadata": {
  "kernelspec": {
   "display_name": "Python 3",
   "language": "python",
   "name": "python3"
  },
  "language_info": {
   "codemirror_mode": {
    "name": "ipython",
    "version": 3
   },
   "file_extension": ".py",
   "mimetype": "text/x-python",
   "name": "python",
   "nbconvert_exporter": "python",
   "pygments_lexer": "ipython3",
   "version": "3.6.8"
  }
 },
 "nbformat": 4,
 "nbformat_minor": 4
}
