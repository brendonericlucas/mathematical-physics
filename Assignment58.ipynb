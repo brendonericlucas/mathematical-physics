{
 "cells": [
  {
   "cell_type": "markdown",
   "metadata": {},
   "source": [
    "# Assignment 58, Uniformly sampling SO(3)—1\n",
    "\n",
    "Every unit quaternion - or versor - is equivalent to some member of $SO(3)$, with the equivalence given by the following mapping from a quaternion $Q$ to an equivalent rotation matrix $R(Q)$: \n",
    "\n",
    "$$R(Q) = \\begin{bmatrix} \n",
    "             2(q_{0}^{2} + q_{1}^{2}) - 1 & 2(q_{1}q_{2} - q_{0}q_{3}) & 2(q_{1}q_{3} + q_{0}q_{2}) \\\\\n",
    "             2(q_{1}q_{2} + q_{0}q_{3}) & 2(q_{0}^{2} + q_{2}^{2}) - 1 & 2(q_{2}q_{3} - q_{0}q_{1}) \\\\\n",
    "             2(q_{1}q_{3} - q_{0}q_{2}) & 2(q_{2}q_{3} + q_{0}q_{1}) & 2(q_{0}^{2} + q_{3}^{2}) - 1\n",
    "         \\end{bmatrix}$$\n",
    "         \n",
    "The above thus presents us with an efficent way of generating random members of $SO(3)$. To wit, we first generate a random versor (i.e., unit quaternion), and then use the mapping above to transform it into the equaivlent matrix representation of the corresponding member of $SO(3)$. "
   ]
  },
  {
   "cell_type": "code",
   "execution_count": 1,
   "metadata": {},
   "outputs": [],
   "source": [
    "import numpy as np\n",
    "import matplotlib.pyplot as plt\n",
    "from scipy.stats import ks_2samp\n",
    "\n",
    "# set seed\n",
    "np.random.seed(42)\n",
    "\n",
    "# number of group elements\n",
    "N = 10000\n",
    "\n",
    "# map versors to corresponding rotation matrices\n",
    "def to_matrix(q):\n",
    "    return np.array([[2.0*(q[0]**2 + q[1]**2) - 1.0, 2.0*(q[1]*q[2] - q[0]*q[3]), 2.0*(q[1]*q[3] + q[0]*q[2])],\n",
    "                     [2.0*(q[1]*q[2] + q[0]*q[3]), 2.0*(q[0]**2 + q[2]**2) - 1.0, 2.0*(q[2]*q[3] - q[0]*q[1])],\n",
    "                     [2.0*(q[1]*q[3] - q[0]*q[2]), 2.0*(q[2]*q[3] + q[0]*q[1]), 2.0*(q[0]**2 + q[3]**2) - 1]])\n",
    "\n",
    "# define a function on the matrix representations\n",
    "# this is the sum over the abs values of the matrix elements\n",
    "f = lambda M: np.sum(np.abs(M.flatten()))\n",
    "\n",
    "f_R_values = [0]*N\n",
    "\n",
    "f_R0_R_values = [0]*N\n",
    "\n",
    "# pick one of the matrices at random to be R0\n",
    "Q0 = np.random.normal(size=4)\n",
    "NQ0 = (1.0 / np.sqrt(np.dot(Q0, Q0))) * Q0\n",
    "R0 = to_matrix(NQ0)\n",
    "               \n",
    "for j in range(N):\n",
    "    # random quaternion\n",
    "    Q = np.random.normal(size=4)\n",
    "    # normalized quaternion\n",
    "    NQ = (1.0 / np.sqrt(np.dot(Q, Q))) * Q\n",
    "    # equivalent rotation matrix R\n",
    "    R = to_matrix(NQ)\n",
    "    # value of f(R)\n",
    "    f_R_values[j] = f(R)\n",
    "    # value of f(R0 x R)\n",
    "    f_R0_R_values[j] = f(R0 @ R)\n",
    "\n",
    "\n",
    "def plot_hist(z, N):\n",
    "    plt.hist(z, density = True, bins = int(np.sqrt(N)))\n",
    "    plt.show()\n",
    "    plt.close()"
   ]
  },
  {
   "cell_type": "code",
   "execution_count": 2,
   "metadata": {},
   "outputs": [
    {
     "data": {
      "image/png": "[encoded data removed]",
      "text/plain": [
       "<Figure size 432x288 with 1 Axes>"
      ]
     },
     "metadata": {
      "needs_background": "light"
     },
     "output_type": "display_data"
    }
   ],
   "source": [
    "plot_hist(f_R_values, N)"
   ]
  },
  {
   "cell_type": "code",
   "execution_count": 3,
   "metadata": {},
   "outputs": [
    {
     "data": {
      "image/png": "[encoded data removed]",
      "text/plain": [
       "<Figure size 432x288 with 1 Axes>"
      ]
     },
     "metadata": {
      "needs_background": "light"
     },
     "output_type": "display_data"
    }
   ],
   "source": [
    "plot_hist(f_R0_R_values, N)"
   ]
  },
  {
   "cell_type": "code",
   "execution_count": 4,
   "metadata": {},
   "outputs": [
    {
     "data": {
      "text/plain": [
       "KstestResult(statistic=0.0135, pvalue=0.32189015194890147)"
      ]
     },
     "execution_count": 4,
     "metadata": {},
     "output_type": "execute_result"
    }
   ],
   "source": [
    "ks_2samp(f_R_values, f_R0_R_values)"
   ]
  },
  {
   "cell_type": "markdown",
   "metadata": {},
   "source": [
    "The intuitive meaing of the Kolmogorov - Smirnov statistic is that it takes on the value of the largest absolute difference between the two empirical distributions above. Clearly, then, two distributions share greater similarlity the smaller the value of the statistic is (that is, the closer it is to zero). If the value of the statistic is *exactly* equal to zero, then the two distributions are in fact completely identical. \n",
    "\n",
    "The p - value above quantifies the probability of obtaining two empirical distributions at least as similar to the ones we actually obtained under the null hypothesis, which is here that the data in the two historgrams comes from *different* underlying generating probability densities. \n",
    "\n"
   ]
  },
  {
   "cell_type": "code",
   "execution_count": null,
   "metadata": {},
   "outputs": [],
   "source": []
  }
 ],
 "metadata": {
  "kernelspec": {
   "display_name": "Python 3",
   "language": "python",
   "name": "python3"
  },
  "language_info": {
   "codemirror_mode": {
    "name": "ipython",
    "version": 3
   },
   "file_extension": ".py",
   "mimetype": "text/x-python",
   "name": "python",
   "nbconvert_exporter": "python",
   "pygments_lexer": "ipython3",
   "version": "3.6.8"
  }
 },
 "nbformat": 4,
 "nbformat_minor": 4
}
