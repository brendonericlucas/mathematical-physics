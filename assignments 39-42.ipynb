{
 "cells": [
  {
   "cell_type": "markdown",
   "id": "9f06e48d",
   "metadata": {},
   "source": [
    "# Assignment 39\n",
    "## Vector Product Identities"
   ]
  },
  {
   "cell_type": "markdown",
   "id": "c1d03039",
   "metadata": {},
   "source": [
    "### Verification of an Identity Relating the Levi-Civita Symbol and the Kronecker Delta using the Einstein summation Convention"
   ]
  },
  {
   "cell_type": "markdown",
   "id": "a384ce2f",
   "metadata": {},
   "source": [
    "The identity is given by \n",
    "$$\\epsilon_{ijk}\\epsilon_{klm} = \\delta_{il}\\delta_{jm} - \\delta_{im}\\delta_{jl},$$ \n",
    "\n",
    "where all latin alphabet indices are understood to run over $\\{1, 2, 3\\}$, and the summation over $k$ is implied by the repeated indices in the same term on the LHS in accordance with the Einstein Summation Convention. It's important to note that only repeated indices *in the same term* imply summation; in particular, since all indices except for $k$ are free on the LHS, they are *also* free on the RHS. There is thus no summation on the RHS. "
   ]
  },
  {
   "cell_type": "code",
   "execution_count": 1,
   "id": "aedc8bf4",
   "metadata": {},
   "outputs": [
    {
     "name": "stdout",
     "output_type": "stream",
     "text": [
      "IPython console for SymPy 1.11.1 (Python 3.10.7-64-bit) (ground types: python)\n",
      "\n",
      "These commands were executed:\n",
      ">>> from sympy import *\n",
      ">>> x, y, z, t = symbols('x y z t')\n",
      ">>> k, m, n = symbols('k m n', integer=True)\n",
      ">>> f, g, h = symbols('f g h', cls=Function)\n",
      ">>> init_printing()\n",
      "\n",
      "Documentation can be found at https://docs.sympy.org/1.11.1/\n",
      "\n",
      "True\n"
     ]
    },
    {
     "data": {
      "text/html": [
       "<style type=\"text/css\">\n",
       "#T_92db6_row0_col0, #T_92db6_row0_col1, #T_92db6_row1_col0, #T_92db6_row1_col1, #T_92db6_row2_col0, #T_92db6_row2_col1, #T_92db6_row3_col0, #T_92db6_row3_col1, #T_92db6_row4_col0, #T_92db6_row4_col1, #T_92db6_row5_col0, #T_92db6_row5_col1, #T_92db6_row6_col0, #T_92db6_row6_col1, #T_92db6_row7_col0, #T_92db6_row7_col1, #T_92db6_row8_col0, #T_92db6_row8_col1, #T_92db6_row9_col0, #T_92db6_row9_col1, #T_92db6_row10_col0, #T_92db6_row10_col1, #T_92db6_row11_col0, #T_92db6_row11_col1, #T_92db6_row12_col0, #T_92db6_row12_col1, #T_92db6_row13_col0, #T_92db6_row13_col1, #T_92db6_row14_col0, #T_92db6_row14_col1, #T_92db6_row15_col0, #T_92db6_row15_col1, #T_92db6_row16_col0, #T_92db6_row16_col1, #T_92db6_row17_col0, #T_92db6_row17_col1, #T_92db6_row18_col0, #T_92db6_row18_col1, #T_92db6_row19_col0, #T_92db6_row19_col1, #T_92db6_row20_col0, #T_92db6_row20_col1, #T_92db6_row21_col0, #T_92db6_row21_col1, #T_92db6_row22_col0, #T_92db6_row22_col1, #T_92db6_row23_col0, #T_92db6_row23_col1, #T_92db6_row24_col0, #T_92db6_row24_col1, #T_92db6_row25_col0, #T_92db6_row25_col1, #T_92db6_row26_col0, #T_92db6_row26_col1, #T_92db6_row27_col0, #T_92db6_row27_col1, #T_92db6_row28_col0, #T_92db6_row28_col1, #T_92db6_row29_col0, #T_92db6_row29_col1, #T_92db6_row30_col0, #T_92db6_row30_col1, #T_92db6_row31_col0, #T_92db6_row31_col1, #T_92db6_row32_col0, #T_92db6_row32_col1, #T_92db6_row33_col0, #T_92db6_row33_col1, #T_92db6_row34_col0, #T_92db6_row34_col1, #T_92db6_row35_col0, #T_92db6_row35_col1, #T_92db6_row36_col0, #T_92db6_row36_col1, #T_92db6_row37_col0, #T_92db6_row37_col1, #T_92db6_row38_col0, #T_92db6_row38_col1, #T_92db6_row39_col0, #T_92db6_row39_col1, #T_92db6_row40_col0, #T_92db6_row40_col1, #T_92db6_row41_col0, #T_92db6_row41_col1, #T_92db6_row42_col0, #T_92db6_row42_col1, #T_92db6_row43_col0, #T_92db6_row43_col1, #T_92db6_row44_col0, #T_92db6_row44_col1, #T_92db6_row45_col0, #T_92db6_row45_col1, #T_92db6_row46_col0, #T_92db6_row46_col1, #T_92db6_row47_col0, #T_92db6_row47_col1, #T_92db6_row48_col0, #T_92db6_row48_col1, #T_92db6_row49_col0, #T_92db6_row49_col1, #T_92db6_row50_col0, #T_92db6_row50_col1, #T_92db6_row51_col0, #T_92db6_row51_col1, #T_92db6_row52_col0, #T_92db6_row52_col1, #T_92db6_row53_col0, #T_92db6_row53_col1, #T_92db6_row54_col0, #T_92db6_row54_col1, #T_92db6_row55_col0, #T_92db6_row55_col1, #T_92db6_row56_col0, #T_92db6_row56_col1, #T_92db6_row57_col0, #T_92db6_row57_col1, #T_92db6_row58_col0, #T_92db6_row58_col1, #T_92db6_row59_col0, #T_92db6_row59_col1, #T_92db6_row60_col0, #T_92db6_row60_col1, #T_92db6_row61_col0, #T_92db6_row61_col1, #T_92db6_row62_col0, #T_92db6_row62_col1, #T_92db6_row63_col0, #T_92db6_row63_col1, #T_92db6_row64_col0, #T_92db6_row64_col1, #T_92db6_row65_col0, #T_92db6_row65_col1, #T_92db6_row66_col0, #T_92db6_row66_col1, #T_92db6_row67_col0, #T_92db6_row67_col1, #T_92db6_row68_col0, #T_92db6_row68_col1, #T_92db6_row69_col0, #T_92db6_row69_col1, #T_92db6_row70_col0, #T_92db6_row70_col1, #T_92db6_row71_col0, #T_92db6_row71_col1, #T_92db6_row72_col0, #T_92db6_row72_col1, #T_92db6_row73_col0, #T_92db6_row73_col1, #T_92db6_row74_col0, #T_92db6_row74_col1, #T_92db6_row75_col0, #T_92db6_row75_col1, #T_92db6_row76_col0, #T_92db6_row76_col1, #T_92db6_row77_col0, #T_92db6_row77_col1, #T_92db6_row78_col0, #T_92db6_row78_col1, #T_92db6_row79_col0, #T_92db6_row79_col1, #T_92db6_row80_col0, #T_92db6_row80_col1, #T_92db6_row81_col0, #T_92db6_row81_col1, #T_92db6_row82_col0, #T_92db6_row82_col1, #T_92db6_row83_col0, #T_92db6_row83_col1, #T_92db6_row84_col0, #T_92db6_row84_col1, #T_92db6_row85_col0, #T_92db6_row85_col1, #T_92db6_row86_col0, #T_92db6_row86_col1, #T_92db6_row87_col0, #T_92db6_row87_col1, #T_92db6_row88_col0, #T_92db6_row88_col1, #T_92db6_row89_col0, #T_92db6_row89_col1, #T_92db6_row90_col0, #T_92db6_row90_col1, #T_92db6_row91_col0, #T_92db6_row91_col1, #T_92db6_row92_col0, #T_92db6_row92_col1, #T_92db6_row93_col0, #T_92db6_row93_col1, #T_92db6_row94_col0, #T_92db6_row94_col1, #T_92db6_row95_col0, #T_92db6_row95_col1, #T_92db6_row96_col0, #T_92db6_row96_col1, #T_92db6_row97_col0, #T_92db6_row97_col1, #T_92db6_row98_col0, #T_92db6_row98_col1, #T_92db6_row99_col0, #T_92db6_row99_col1, #T_92db6_row100_col0, #T_92db6_row100_col1, #T_92db6_row101_col0, #T_92db6_row101_col1, #T_92db6_row102_col0, #T_92db6_row102_col1, #T_92db6_row103_col0, #T_92db6_row103_col1, #T_92db6_row104_col0, #T_92db6_row104_col1, #T_92db6_row105_col0, #T_92db6_row105_col1, #T_92db6_row106_col0, #T_92db6_row106_col1, #T_92db6_row107_col0, #T_92db6_row107_col1, #T_92db6_row108_col0, #T_92db6_row108_col1, #T_92db6_row109_col0, #T_92db6_row109_col1, #T_92db6_row110_col0, #T_92db6_row110_col1, #T_92db6_row111_col0, #T_92db6_row111_col1, #T_92db6_row112_col0, #T_92db6_row112_col1, #T_92db6_row113_col0, #T_92db6_row113_col1, #T_92db6_row114_col0, #T_92db6_row114_col1, #T_92db6_row115_col0, #T_92db6_row115_col1, #T_92db6_row116_col0, #T_92db6_row116_col1, #T_92db6_row117_col0, #T_92db6_row117_col1, #T_92db6_row118_col0, #T_92db6_row118_col1, #T_92db6_row119_col0, #T_92db6_row119_col1, #T_92db6_row120_col0, #T_92db6_row120_col1, #T_92db6_row121_col0, #T_92db6_row121_col1, #T_92db6_row122_col0, #T_92db6_row122_col1, #T_92db6_row123_col0, #T_92db6_row123_col1, #T_92db6_row124_col0, #T_92db6_row124_col1, #T_92db6_row125_col0, #T_92db6_row125_col1, #T_92db6_row126_col0, #T_92db6_row126_col1, #T_92db6_row127_col0, #T_92db6_row127_col1, #T_92db6_row128_col0, #T_92db6_row128_col1, #T_92db6_row129_col0, #T_92db6_row129_col1, #T_92db6_row130_col0, #T_92db6_row130_col1, #T_92db6_row131_col0, #T_92db6_row131_col1, #T_92db6_row132_col0, #T_92db6_row132_col1, #T_92db6_row133_col0, #T_92db6_row133_col1, #T_92db6_row134_col0, #T_92db6_row134_col1, #T_92db6_row135_col0, #T_92db6_row135_col1, #T_92db6_row136_col0, #T_92db6_row136_col1, #T_92db6_row137_col0, #T_92db6_row137_col1, #T_92db6_row138_col0, #T_92db6_row138_col1, #T_92db6_row139_col0, #T_92db6_row139_col1, #T_92db6_row140_col0, #T_92db6_row140_col1, #T_92db6_row141_col0, #T_92db6_row141_col1, #T_92db6_row142_col0, #T_92db6_row142_col1, #T_92db6_row143_col0, #T_92db6_row143_col1, #T_92db6_row144_col0, #T_92db6_row144_col1, #T_92db6_row145_col0, #T_92db6_row145_col1, #T_92db6_row146_col0, #T_92db6_row146_col1, #T_92db6_row147_col0, #T_92db6_row147_col1, #T_92db6_row148_col0, #T_92db6_row148_col1, #T_92db6_row149_col0, #T_92db6_row149_col1, #T_92db6_row150_col0, #T_92db6_row150_col1, #T_92db6_row151_col0, #T_92db6_row151_col1, #T_92db6_row152_col0, #T_92db6_row152_col1, #T_92db6_row153_col0, #T_92db6_row153_col1, #T_92db6_row154_col0, #T_92db6_row154_col1, #T_92db6_row155_col0, #T_92db6_row155_col1, #T_92db6_row156_col0, #T_92db6_row156_col1, #T_92db6_row157_col0, #T_92db6_row157_col1, #T_92db6_row158_col0, #T_92db6_row158_col1, #T_92db6_row159_col0, #T_92db6_row159_col1, #T_92db6_row160_col0, #T_92db6_row160_col1, #T_92db6_row161_col0, #T_92db6_row161_col1, #T_92db6_row162_col0, #T_92db6_row162_col1, #T_92db6_row163_col0, #T_92db6_row163_col1, #T_92db6_row164_col0, #T_92db6_row164_col1, #T_92db6_row165_col0, #T_92db6_row165_col1, #T_92db6_row166_col0, #T_92db6_row166_col1, #T_92db6_row167_col0, #T_92db6_row167_col1, #T_92db6_row168_col0, #T_92db6_row168_col1, #T_92db6_row169_col0, #T_92db6_row169_col1, #T_92db6_row170_col0, #T_92db6_row170_col1, #T_92db6_row171_col0, #T_92db6_row171_col1, #T_92db6_row172_col0, #T_92db6_row172_col1, #T_92db6_row173_col0, #T_92db6_row173_col1, #T_92db6_row174_col0, #T_92db6_row174_col1, #T_92db6_row175_col0, #T_92db6_row175_col1, #T_92db6_row176_col0, #T_92db6_row176_col1, #T_92db6_row177_col0, #T_92db6_row177_col1, #T_92db6_row178_col0, #T_92db6_row178_col1, #T_92db6_row179_col0, #T_92db6_row179_col1, #T_92db6_row180_col0, #T_92db6_row180_col1, #T_92db6_row181_col0, #T_92db6_row181_col1, #T_92db6_row182_col0, #T_92db6_row182_col1, #T_92db6_row183_col0, #T_92db6_row183_col1, #T_92db6_row184_col0, #T_92db6_row184_col1, #T_92db6_row185_col0, #T_92db6_row185_col1, #T_92db6_row186_col0, #T_92db6_row186_col1, #T_92db6_row187_col0, #T_92db6_row187_col1, #T_92db6_row188_col0, #T_92db6_row188_col1, #T_92db6_row189_col0, #T_92db6_row189_col1, #T_92db6_row190_col0, #T_92db6_row190_col1, #T_92db6_row191_col0, #T_92db6_row191_col1, #T_92db6_row192_col0, #T_92db6_row192_col1, #T_92db6_row193_col0, #T_92db6_row193_col1, #T_92db6_row194_col0, #T_92db6_row194_col1, #T_92db6_row195_col0, #T_92db6_row195_col1, #T_92db6_row196_col0, #T_92db6_row196_col1, #T_92db6_row197_col0, #T_92db6_row197_col1, #T_92db6_row198_col0, #T_92db6_row198_col1, #T_92db6_row199_col0, #T_92db6_row199_col1, #T_92db6_row200_col0, #T_92db6_row200_col1, #T_92db6_row201_col0, #T_92db6_row201_col1, #T_92db6_row202_col0, #T_92db6_row202_col1, #T_92db6_row203_col0, #T_92db6_row203_col1, #T_92db6_row204_col0, #T_92db6_row204_col1, #T_92db6_row205_col0, #T_92db6_row205_col1, #T_92db6_row206_col0, #T_92db6_row206_col1, #T_92db6_row207_col0, #T_92db6_row207_col1, #T_92db6_row208_col0, #T_92db6_row208_col1, #T_92db6_row209_col0, #T_92db6_row209_col1, #T_92db6_row210_col0, #T_92db6_row210_col1, #T_92db6_row211_col0, #T_92db6_row211_col1, #T_92db6_row212_col0, #T_92db6_row212_col1, #T_92db6_row213_col0, #T_92db6_row213_col1, #T_92db6_row214_col0, #T_92db6_row214_col1, #T_92db6_row215_col0, #T_92db6_row215_col1, #T_92db6_row216_col0, #T_92db6_row216_col1, #T_92db6_row217_col0, #T_92db6_row217_col1, #T_92db6_row218_col0, #T_92db6_row218_col1, #T_92db6_row219_col0, #T_92db6_row219_col1, #T_92db6_row220_col0, #T_92db6_row220_col1, #T_92db6_row221_col0, #T_92db6_row221_col1, #T_92db6_row222_col0, #T_92db6_row222_col1, #T_92db6_row223_col0, #T_92db6_row223_col1, #T_92db6_row224_col0, #T_92db6_row224_col1, #T_92db6_row225_col0, #T_92db6_row225_col1, #T_92db6_row226_col0, #T_92db6_row226_col1, #T_92db6_row227_col0, #T_92db6_row227_col1, #T_92db6_row228_col0, #T_92db6_row228_col1, #T_92db6_row229_col0, #T_92db6_row229_col1, #T_92db6_row230_col0, #T_92db6_row230_col1, #T_92db6_row231_col0, #T_92db6_row231_col1, #T_92db6_row232_col0, #T_92db6_row232_col1, #T_92db6_row233_col0, #T_92db6_row233_col1, #T_92db6_row234_col0, #T_92db6_row234_col1, #T_92db6_row235_col0, #T_92db6_row235_col1, #T_92db6_row236_col0, #T_92db6_row236_col1, #T_92db6_row237_col0, #T_92db6_row237_col1, #T_92db6_row238_col0, #T_92db6_row238_col1, #T_92db6_row239_col0, #T_92db6_row239_col1, #T_92db6_row240_col0, #T_92db6_row240_col1, #T_92db6_row241_col0, #T_92db6_row241_col1, #T_92db6_row242_col0, #T_92db6_row242_col1 {\n",
       "  text-align: left;\n",
       "}\n",
       "</style>\n",
       "<table id=\"T_92db6\">\n",
       "  <thead>\n",
       "    <tr>\n",
       "      <th id=\"T_92db6_level0_col0\" class=\"col_heading level0 col0\" >$(i,j,k,l,m)$</th>\n",
       "      <th id=\"T_92db6_level0_col1\" class=\"col_heading level0 col1\" >$\\epsilon_{ijk}\\epsilon_{klm} = \\delta_{il}\\delta_{jm} - \\delta_{im}\\delta_{jl}$</th>\n",
       "    </tr>\n",
       "  </thead>\n",
       "  <tbody>\n",
       "    <tr>\n",
       "      <td id=\"T_92db6_row0_col0\" class=\"data row0 col0\" >(1, 1, 1, 1, 1)</td>\n",
       "      <td id=\"T_92db6_row0_col1\" class=\"data row0 col1\" >0</td>\n",
       "    </tr>\n",
       "    <tr>\n",
       "      <td id=\"T_92db6_row1_col0\" class=\"data row1 col0\" >(1, 1, 1, 1, 2)</td>\n",
       "      <td id=\"T_92db6_row1_col1\" class=\"data row1 col1\" >0</td>\n",
       "    </tr>\n",
       "    <tr>\n",
       "      <td id=\"T_92db6_row2_col0\" class=\"data row2 col0\" >(1, 1, 1, 1, 3)</td>\n",
       "      <td id=\"T_92db6_row2_col1\" class=\"data row2 col1\" >0</td>\n",
       "    </tr>\n",
       "    <tr>\n",
       "      <td id=\"T_92db6_row3_col0\" class=\"data row3 col0\" >(1, 1, 1, 2, 1)</td>\n",
       "      <td id=\"T_92db6_row3_col1\" class=\"data row3 col1\" >0</td>\n",
       "    </tr>\n",
       "    <tr>\n",
       "      <td id=\"T_92db6_row4_col0\" class=\"data row4 col0\" >(1, 1, 1, 2, 2)</td>\n",
       "      <td id=\"T_92db6_row4_col1\" class=\"data row4 col1\" >0</td>\n",
       "    </tr>\n",
       "    <tr>\n",
       "      <td id=\"T_92db6_row5_col0\" class=\"data row5 col0\" >(1, 1, 1, 2, 3)</td>\n",
       "      <td id=\"T_92db6_row5_col1\" class=\"data row5 col1\" >0</td>\n",
       "    </tr>\n",
       "    <tr>\n",
       "      <td id=\"T_92db6_row6_col0\" class=\"data row6 col0\" >(1, 1, 1, 3, 1)</td>\n",
       "      <td id=\"T_92db6_row6_col1\" class=\"data row6 col1\" >0</td>\n",
       "    </tr>\n",
       "    <tr>\n",
       "      <td id=\"T_92db6_row7_col0\" class=\"data row7 col0\" >(1, 1, 1, 3, 2)</td>\n",
       "      <td id=\"T_92db6_row7_col1\" class=\"data row7 col1\" >0</td>\n",
       "    </tr>\n",
       "    <tr>\n",
       "      <td id=\"T_92db6_row8_col0\" class=\"data row8 col0\" >(1, 1, 1, 3, 3)</td>\n",
       "      <td id=\"T_92db6_row8_col1\" class=\"data row8 col1\" >0</td>\n",
       "    </tr>\n",
       "    <tr>\n",
       "      <td id=\"T_92db6_row9_col0\" class=\"data row9 col0\" >(1, 1, 2, 1, 1)</td>\n",
       "      <td id=\"T_92db6_row9_col1\" class=\"data row9 col1\" >0</td>\n",
       "    </tr>\n",
       "    <tr>\n",
       "      <td id=\"T_92db6_row10_col0\" class=\"data row10 col0\" >(1, 1, 2, 1, 2)</td>\n",
       "      <td id=\"T_92db6_row10_col1\" class=\"data row10 col1\" >0</td>\n",
       "    </tr>\n",
       "    <tr>\n",
       "      <td id=\"T_92db6_row11_col0\" class=\"data row11 col0\" >(1, 1, 2, 1, 3)</td>\n",
       "      <td id=\"T_92db6_row11_col1\" class=\"data row11 col1\" >0</td>\n",
       "    </tr>\n",
       "    <tr>\n",
       "      <td id=\"T_92db6_row12_col0\" class=\"data row12 col0\" >(1, 1, 2, 2, 1)</td>\n",
       "      <td id=\"T_92db6_row12_col1\" class=\"data row12 col1\" >0</td>\n",
       "    </tr>\n",
       "    <tr>\n",
       "      <td id=\"T_92db6_row13_col0\" class=\"data row13 col0\" >(1, 1, 2, 2, 2)</td>\n",
       "      <td id=\"T_92db6_row13_col1\" class=\"data row13 col1\" >0</td>\n",
       "    </tr>\n",
       "    <tr>\n",
       "      <td id=\"T_92db6_row14_col0\" class=\"data row14 col0\" >(1, 1, 2, 2, 3)</td>\n",
       "      <td id=\"T_92db6_row14_col1\" class=\"data row14 col1\" >0</td>\n",
       "    </tr>\n",
       "    <tr>\n",
       "      <td id=\"T_92db6_row15_col0\" class=\"data row15 col0\" >(1, 1, 2, 3, 1)</td>\n",
       "      <td id=\"T_92db6_row15_col1\" class=\"data row15 col1\" >0</td>\n",
       "    </tr>\n",
       "    <tr>\n",
       "      <td id=\"T_92db6_row16_col0\" class=\"data row16 col0\" >(1, 1, 2, 3, 2)</td>\n",
       "      <td id=\"T_92db6_row16_col1\" class=\"data row16 col1\" >0</td>\n",
       "    </tr>\n",
       "    <tr>\n",
       "      <td id=\"T_92db6_row17_col0\" class=\"data row17 col0\" >(1, 1, 2, 3, 3)</td>\n",
       "      <td id=\"T_92db6_row17_col1\" class=\"data row17 col1\" >0</td>\n",
       "    </tr>\n",
       "    <tr>\n",
       "      <td id=\"T_92db6_row18_col0\" class=\"data row18 col0\" >(1, 1, 3, 1, 1)</td>\n",
       "      <td id=\"T_92db6_row18_col1\" class=\"data row18 col1\" >0</td>\n",
       "    </tr>\n",
       "    <tr>\n",
       "      <td id=\"T_92db6_row19_col0\" class=\"data row19 col0\" >(1, 1, 3, 1, 2)</td>\n",
       "      <td id=\"T_92db6_row19_col1\" class=\"data row19 col1\" >0</td>\n",
       "    </tr>\n",
       "    <tr>\n",
       "      <td id=\"T_92db6_row20_col0\" class=\"data row20 col0\" >(1, 1, 3, 1, 3)</td>\n",
       "      <td id=\"T_92db6_row20_col1\" class=\"data row20 col1\" >0</td>\n",
       "    </tr>\n",
       "    <tr>\n",
       "      <td id=\"T_92db6_row21_col0\" class=\"data row21 col0\" >(1, 1, 3, 2, 1)</td>\n",
       "      <td id=\"T_92db6_row21_col1\" class=\"data row21 col1\" >0</td>\n",
       "    </tr>\n",
       "    <tr>\n",
       "      <td id=\"T_92db6_row22_col0\" class=\"data row22 col0\" >(1, 1, 3, 2, 2)</td>\n",
       "      <td id=\"T_92db6_row22_col1\" class=\"data row22 col1\" >0</td>\n",
       "    </tr>\n",
       "    <tr>\n",
       "      <td id=\"T_92db6_row23_col0\" class=\"data row23 col0\" >(1, 1, 3, 2, 3)</td>\n",
       "      <td id=\"T_92db6_row23_col1\" class=\"data row23 col1\" >0</td>\n",
       "    </tr>\n",
       "    <tr>\n",
       "      <td id=\"T_92db6_row24_col0\" class=\"data row24 col0\" >(1, 1, 3, 3, 1)</td>\n",
       "      <td id=\"T_92db6_row24_col1\" class=\"data row24 col1\" >0</td>\n",
       "    </tr>\n",
       "    <tr>\n",
       "      <td id=\"T_92db6_row25_col0\" class=\"data row25 col0\" >(1, 1, 3, 3, 2)</td>\n",
       "      <td id=\"T_92db6_row25_col1\" class=\"data row25 col1\" >0</td>\n",
       "    </tr>\n",
       "    <tr>\n",
       "      <td id=\"T_92db6_row26_col0\" class=\"data row26 col0\" >(1, 1, 3, 3, 3)</td>\n",
       "      <td id=\"T_92db6_row26_col1\" class=\"data row26 col1\" >0</td>\n",
       "    </tr>\n",
       "    <tr>\n",
       "      <td id=\"T_92db6_row27_col0\" class=\"data row27 col0\" >(1, 2, 1, 1, 1)</td>\n",
       "      <td id=\"T_92db6_row27_col1\" class=\"data row27 col1\" >0</td>\n",
       "    </tr>\n",
       "    <tr>\n",
       "      <td id=\"T_92db6_row28_col0\" class=\"data row28 col0\" >(1, 2, 1, 1, 2)</td>\n",
       "      <td id=\"T_92db6_row28_col1\" class=\"data row28 col1\" >0</td>\n",
       "    </tr>\n",
       "    <tr>\n",
       "      <td id=\"T_92db6_row29_col0\" class=\"data row29 col0\" >(1, 2, 1, 1, 3)</td>\n",
       "      <td id=\"T_92db6_row29_col1\" class=\"data row29 col1\" >0</td>\n",
       "    </tr>\n",
       "    <tr>\n",
       "      <td id=\"T_92db6_row30_col0\" class=\"data row30 col0\" >(1, 2, 1, 2, 1)</td>\n",
       "      <td id=\"T_92db6_row30_col1\" class=\"data row30 col1\" >0</td>\n",
       "    </tr>\n",
       "    <tr>\n",
       "      <td id=\"T_92db6_row31_col0\" class=\"data row31 col0\" >(1, 2, 1, 2, 2)</td>\n",
       "      <td id=\"T_92db6_row31_col1\" class=\"data row31 col1\" >0</td>\n",
       "    </tr>\n",
       "    <tr>\n",
       "      <td id=\"T_92db6_row32_col0\" class=\"data row32 col0\" >(1, 2, 1, 2, 3)</td>\n",
       "      <td id=\"T_92db6_row32_col1\" class=\"data row32 col1\" >0</td>\n",
       "    </tr>\n",
       "    <tr>\n",
       "      <td id=\"T_92db6_row33_col0\" class=\"data row33 col0\" >(1, 2, 1, 3, 1)</td>\n",
       "      <td id=\"T_92db6_row33_col1\" class=\"data row33 col1\" >0</td>\n",
       "    </tr>\n",
       "    <tr>\n",
       "      <td id=\"T_92db6_row34_col0\" class=\"data row34 col0\" >(1, 2, 1, 3, 2)</td>\n",
       "      <td id=\"T_92db6_row34_col1\" class=\"data row34 col1\" >0</td>\n",
       "    </tr>\n",
       "    <tr>\n",
       "      <td id=\"T_92db6_row35_col0\" class=\"data row35 col0\" >(1, 2, 1, 3, 3)</td>\n",
       "      <td id=\"T_92db6_row35_col1\" class=\"data row35 col1\" >0</td>\n",
       "    </tr>\n",
       "    <tr>\n",
       "      <td id=\"T_92db6_row36_col0\" class=\"data row36 col0\" >(1, 2, 2, 1, 1)</td>\n",
       "      <td id=\"T_92db6_row36_col1\" class=\"data row36 col1\" >0</td>\n",
       "    </tr>\n",
       "    <tr>\n",
       "      <td id=\"T_92db6_row37_col0\" class=\"data row37 col0\" >(1, 2, 2, 1, 2)</td>\n",
       "      <td id=\"T_92db6_row37_col1\" class=\"data row37 col1\" >0</td>\n",
       "    </tr>\n",
       "    <tr>\n",
       "      <td id=\"T_92db6_row38_col0\" class=\"data row38 col0\" >(1, 2, 2, 1, 3)</td>\n",
       "      <td id=\"T_92db6_row38_col1\" class=\"data row38 col1\" >0</td>\n",
       "    </tr>\n",
       "    <tr>\n",
       "      <td id=\"T_92db6_row39_col0\" class=\"data row39 col0\" >(1, 2, 2, 2, 1)</td>\n",
       "      <td id=\"T_92db6_row39_col1\" class=\"data row39 col1\" >0</td>\n",
       "    </tr>\n",
       "    <tr>\n",
       "      <td id=\"T_92db6_row40_col0\" class=\"data row40 col0\" >(1, 2, 2, 2, 2)</td>\n",
       "      <td id=\"T_92db6_row40_col1\" class=\"data row40 col1\" >0</td>\n",
       "    </tr>\n",
       "    <tr>\n",
       "      <td id=\"T_92db6_row41_col0\" class=\"data row41 col0\" >(1, 2, 2, 2, 3)</td>\n",
       "      <td id=\"T_92db6_row41_col1\" class=\"data row41 col1\" >0</td>\n",
       "    </tr>\n",
       "    <tr>\n",
       "      <td id=\"T_92db6_row42_col0\" class=\"data row42 col0\" >(1, 2, 2, 3, 1)</td>\n",
       "      <td id=\"T_92db6_row42_col1\" class=\"data row42 col1\" >0</td>\n",
       "    </tr>\n",
       "    <tr>\n",
       "      <td id=\"T_92db6_row43_col0\" class=\"data row43 col0\" >(1, 2, 2, 3, 2)</td>\n",
       "      <td id=\"T_92db6_row43_col1\" class=\"data row43 col1\" >0</td>\n",
       "    </tr>\n",
       "    <tr>\n",
       "      <td id=\"T_92db6_row44_col0\" class=\"data row44 col0\" >(1, 2, 2, 3, 3)</td>\n",
       "      <td id=\"T_92db6_row44_col1\" class=\"data row44 col1\" >0</td>\n",
       "    </tr>\n",
       "    <tr>\n",
       "      <td id=\"T_92db6_row45_col0\" class=\"data row45 col0\" >(1, 2, 3, 1, 1)</td>\n",
       "      <td id=\"T_92db6_row45_col1\" class=\"data row45 col1\" >0</td>\n",
       "    </tr>\n",
       "    <tr>\n",
       "      <td id=\"T_92db6_row46_col0\" class=\"data row46 col0\" >(1, 2, 3, 1, 2)</td>\n",
       "      <td id=\"T_92db6_row46_col1\" class=\"data row46 col1\" >0</td>\n",
       "    </tr>\n",
       "    <tr>\n",
       "      <td id=\"T_92db6_row47_col0\" class=\"data row47 col0\" >(1, 2, 3, 1, 3)</td>\n",
       "      <td id=\"T_92db6_row47_col1\" class=\"data row47 col1\" >0</td>\n",
       "    </tr>\n",
       "    <tr>\n",
       "      <td id=\"T_92db6_row48_col0\" class=\"data row48 col0\" >(1, 2, 3, 2, 1)</td>\n",
       "      <td id=\"T_92db6_row48_col1\" class=\"data row48 col1\" >0</td>\n",
       "    </tr>\n",
       "    <tr>\n",
       "      <td id=\"T_92db6_row49_col0\" class=\"data row49 col0\" >(1, 2, 3, 2, 2)</td>\n",
       "      <td id=\"T_92db6_row49_col1\" class=\"data row49 col1\" >0</td>\n",
       "    </tr>\n",
       "    <tr>\n",
       "      <td id=\"T_92db6_row50_col0\" class=\"data row50 col0\" >(1, 2, 3, 2, 3)</td>\n",
       "      <td id=\"T_92db6_row50_col1\" class=\"data row50 col1\" >0</td>\n",
       "    </tr>\n",
       "    <tr>\n",
       "      <td id=\"T_92db6_row51_col0\" class=\"data row51 col0\" >(1, 2, 3, 3, 1)</td>\n",
       "      <td id=\"T_92db6_row51_col1\" class=\"data row51 col1\" >0</td>\n",
       "    </tr>\n",
       "    <tr>\n",
       "      <td id=\"T_92db6_row52_col0\" class=\"data row52 col0\" >(1, 2, 3, 3, 2)</td>\n",
       "      <td id=\"T_92db6_row52_col1\" class=\"data row52 col1\" >0</td>\n",
       "    </tr>\n",
       "    <tr>\n",
       "      <td id=\"T_92db6_row53_col0\" class=\"data row53 col0\" >(1, 2, 3, 3, 3)</td>\n",
       "      <td id=\"T_92db6_row53_col1\" class=\"data row53 col1\" >0</td>\n",
       "    </tr>\n",
       "    <tr>\n",
       "      <td id=\"T_92db6_row54_col0\" class=\"data row54 col0\" >(1, 3, 1, 1, 1)</td>\n",
       "      <td id=\"T_92db6_row54_col1\" class=\"data row54 col1\" >0</td>\n",
       "    </tr>\n",
       "    <tr>\n",
       "      <td id=\"T_92db6_row55_col0\" class=\"data row55 col0\" >(1, 3, 1, 1, 2)</td>\n",
       "      <td id=\"T_92db6_row55_col1\" class=\"data row55 col1\" >0</td>\n",
       "    </tr>\n",
       "    <tr>\n",
       "      <td id=\"T_92db6_row56_col0\" class=\"data row56 col0\" >(1, 3, 1, 1, 3)</td>\n",
       "      <td id=\"T_92db6_row56_col1\" class=\"data row56 col1\" >0</td>\n",
       "    </tr>\n",
       "    <tr>\n",
       "      <td id=\"T_92db6_row57_col0\" class=\"data row57 col0\" >(1, 3, 1, 2, 1)</td>\n",
       "      <td id=\"T_92db6_row57_col1\" class=\"data row57 col1\" >0</td>\n",
       "    </tr>\n",
       "    <tr>\n",
       "      <td id=\"T_92db6_row58_col0\" class=\"data row58 col0\" >(1, 3, 1, 2, 2)</td>\n",
       "      <td id=\"T_92db6_row58_col1\" class=\"data row58 col1\" >0</td>\n",
       "    </tr>\n",
       "    <tr>\n",
       "      <td id=\"T_92db6_row59_col0\" class=\"data row59 col0\" >(1, 3, 1, 2, 3)</td>\n",
       "      <td id=\"T_92db6_row59_col1\" class=\"data row59 col1\" >0</td>\n",
       "    </tr>\n",
       "    <tr>\n",
       "      <td id=\"T_92db6_row60_col0\" class=\"data row60 col0\" >(1, 3, 1, 3, 1)</td>\n",
       "      <td id=\"T_92db6_row60_col1\" class=\"data row60 col1\" >0</td>\n",
       "    </tr>\n",
       "    <tr>\n",
       "      <td id=\"T_92db6_row61_col0\" class=\"data row61 col0\" >(1, 3, 1, 3, 2)</td>\n",
       "      <td id=\"T_92db6_row61_col1\" class=\"data row61 col1\" >0</td>\n",
       "    </tr>\n",
       "    <tr>\n",
       "      <td id=\"T_92db6_row62_col0\" class=\"data row62 col0\" >(1, 3, 1, 3, 3)</td>\n",
       "      <td id=\"T_92db6_row62_col1\" class=\"data row62 col1\" >0</td>\n",
       "    </tr>\n",
       "    <tr>\n",
       "      <td id=\"T_92db6_row63_col0\" class=\"data row63 col0\" >(1, 3, 2, 1, 1)</td>\n",
       "      <td id=\"T_92db6_row63_col1\" class=\"data row63 col1\" >0</td>\n",
       "    </tr>\n",
       "    <tr>\n",
       "      <td id=\"T_92db6_row64_col0\" class=\"data row64 col0\" >(1, 3, 2, 1, 2)</td>\n",
       "      <td id=\"T_92db6_row64_col1\" class=\"data row64 col1\" >0</td>\n",
       "    </tr>\n",
       "    <tr>\n",
       "      <td id=\"T_92db6_row65_col0\" class=\"data row65 col0\" >(1, 3, 2, 1, 3)</td>\n",
       "      <td id=\"T_92db6_row65_col1\" class=\"data row65 col1\" >0</td>\n",
       "    </tr>\n",
       "    <tr>\n",
       "      <td id=\"T_92db6_row66_col0\" class=\"data row66 col0\" >(1, 3, 2, 2, 1)</td>\n",
       "      <td id=\"T_92db6_row66_col1\" class=\"data row66 col1\" >0</td>\n",
       "    </tr>\n",
       "    <tr>\n",
       "      <td id=\"T_92db6_row67_col0\" class=\"data row67 col0\" >(1, 3, 2, 2, 2)</td>\n",
       "      <td id=\"T_92db6_row67_col1\" class=\"data row67 col1\" >0</td>\n",
       "    </tr>\n",
       "    <tr>\n",
       "      <td id=\"T_92db6_row68_col0\" class=\"data row68 col0\" >(1, 3, 2, 2, 3)</td>\n",
       "      <td id=\"T_92db6_row68_col1\" class=\"data row68 col1\" >0</td>\n",
       "    </tr>\n",
       "    <tr>\n",
       "      <td id=\"T_92db6_row69_col0\" class=\"data row69 col0\" >(1, 3, 2, 3, 1)</td>\n",
       "      <td id=\"T_92db6_row69_col1\" class=\"data row69 col1\" >0</td>\n",
       "    </tr>\n",
       "    <tr>\n",
       "      <td id=\"T_92db6_row70_col0\" class=\"data row70 col0\" >(1, 3, 2, 3, 2)</td>\n",
       "      <td id=\"T_92db6_row70_col1\" class=\"data row70 col1\" >0</td>\n",
       "    </tr>\n",
       "    <tr>\n",
       "      <td id=\"T_92db6_row71_col0\" class=\"data row71 col0\" >(1, 3, 2, 3, 3)</td>\n",
       "      <td id=\"T_92db6_row71_col1\" class=\"data row71 col1\" >0</td>\n",
       "    </tr>\n",
       "    <tr>\n",
       "      <td id=\"T_92db6_row72_col0\" class=\"data row72 col0\" >(1, 3, 3, 1, 1)</td>\n",
       "      <td id=\"T_92db6_row72_col1\" class=\"data row72 col1\" >0</td>\n",
       "    </tr>\n",
       "    <tr>\n",
       "      <td id=\"T_92db6_row73_col0\" class=\"data row73 col0\" >(1, 3, 3, 1, 2)</td>\n",
       "      <td id=\"T_92db6_row73_col1\" class=\"data row73 col1\" >0</td>\n",
       "    </tr>\n",
       "    <tr>\n",
       "      <td id=\"T_92db6_row74_col0\" class=\"data row74 col0\" >(1, 3, 3, 1, 3)</td>\n",
       "      <td id=\"T_92db6_row74_col1\" class=\"data row74 col1\" >0</td>\n",
       "    </tr>\n",
       "    <tr>\n",
       "      <td id=\"T_92db6_row75_col0\" class=\"data row75 col0\" >(1, 3, 3, 2, 1)</td>\n",
       "      <td id=\"T_92db6_row75_col1\" class=\"data row75 col1\" >0</td>\n",
       "    </tr>\n",
       "    <tr>\n",
       "      <td id=\"T_92db6_row76_col0\" class=\"data row76 col0\" >(1, 3, 3, 2, 2)</td>\n",
       "      <td id=\"T_92db6_row76_col1\" class=\"data row76 col1\" >0</td>\n",
       "    </tr>\n",
       "    <tr>\n",
       "      <td id=\"T_92db6_row77_col0\" class=\"data row77 col0\" >(1, 3, 3, 2, 3)</td>\n",
       "      <td id=\"T_92db6_row77_col1\" class=\"data row77 col1\" >0</td>\n",
       "    </tr>\n",
       "    <tr>\n",
       "      <td id=\"T_92db6_row78_col0\" class=\"data row78 col0\" >(1, 3, 3, 3, 1)</td>\n",
       "      <td id=\"T_92db6_row78_col1\" class=\"data row78 col1\" >0</td>\n",
       "    </tr>\n",
       "    <tr>\n",
       "      <td id=\"T_92db6_row79_col0\" class=\"data row79 col0\" >(1, 3, 3, 3, 2)</td>\n",
       "      <td id=\"T_92db6_row79_col1\" class=\"data row79 col1\" >0</td>\n",
       "    </tr>\n",
       "    <tr>\n",
       "      <td id=\"T_92db6_row80_col0\" class=\"data row80 col0\" >(1, 3, 3, 3, 3)</td>\n",
       "      <td id=\"T_92db6_row80_col1\" class=\"data row80 col1\" >0</td>\n",
       "    </tr>\n",
       "    <tr>\n",
       "      <td id=\"T_92db6_row81_col0\" class=\"data row81 col0\" >(2, 1, 1, 1, 1)</td>\n",
       "      <td id=\"T_92db6_row81_col1\" class=\"data row81 col1\" >0</td>\n",
       "    </tr>\n",
       "    <tr>\n",
       "      <td id=\"T_92db6_row82_col0\" class=\"data row82 col0\" >(2, 1, 1, 1, 2)</td>\n",
       "      <td id=\"T_92db6_row82_col1\" class=\"data row82 col1\" >0</td>\n",
       "    </tr>\n",
       "    <tr>\n",
       "      <td id=\"T_92db6_row83_col0\" class=\"data row83 col0\" >(2, 1, 1, 1, 3)</td>\n",
       "      <td id=\"T_92db6_row83_col1\" class=\"data row83 col1\" >0</td>\n",
       "    </tr>\n",
       "    <tr>\n",
       "      <td id=\"T_92db6_row84_col0\" class=\"data row84 col0\" >(2, 1, 1, 2, 1)</td>\n",
       "      <td id=\"T_92db6_row84_col1\" class=\"data row84 col1\" >0</td>\n",
       "    </tr>\n",
       "    <tr>\n",
       "      <td id=\"T_92db6_row85_col0\" class=\"data row85 col0\" >(2, 1, 1, 2, 2)</td>\n",
       "      <td id=\"T_92db6_row85_col1\" class=\"data row85 col1\" >0</td>\n",
       "    </tr>\n",
       "    <tr>\n",
       "      <td id=\"T_92db6_row86_col0\" class=\"data row86 col0\" >(2, 1, 1, 2, 3)</td>\n",
       "      <td id=\"T_92db6_row86_col1\" class=\"data row86 col1\" >0</td>\n",
       "    </tr>\n",
       "    <tr>\n",
       "      <td id=\"T_92db6_row87_col0\" class=\"data row87 col0\" >(2, 1, 1, 3, 1)</td>\n",
       "      <td id=\"T_92db6_row87_col1\" class=\"data row87 col1\" >0</td>\n",
       "    </tr>\n",
       "    <tr>\n",
       "      <td id=\"T_92db6_row88_col0\" class=\"data row88 col0\" >(2, 1, 1, 3, 2)</td>\n",
       "      <td id=\"T_92db6_row88_col1\" class=\"data row88 col1\" >0</td>\n",
       "    </tr>\n",
       "    <tr>\n",
       "      <td id=\"T_92db6_row89_col0\" class=\"data row89 col0\" >(2, 1, 1, 3, 3)</td>\n",
       "      <td id=\"T_92db6_row89_col1\" class=\"data row89 col1\" >0</td>\n",
       "    </tr>\n",
       "    <tr>\n",
       "      <td id=\"T_92db6_row90_col0\" class=\"data row90 col0\" >(2, 1, 2, 1, 1)</td>\n",
       "      <td id=\"T_92db6_row90_col1\" class=\"data row90 col1\" >0</td>\n",
       "    </tr>\n",
       "    <tr>\n",
       "      <td id=\"T_92db6_row91_col0\" class=\"data row91 col0\" >(2, 1, 2, 1, 2)</td>\n",
       "      <td id=\"T_92db6_row91_col1\" class=\"data row91 col1\" >0</td>\n",
       "    </tr>\n",
       "    <tr>\n",
       "      <td id=\"T_92db6_row92_col0\" class=\"data row92 col0\" >(2, 1, 2, 1, 3)</td>\n",
       "      <td id=\"T_92db6_row92_col1\" class=\"data row92 col1\" >0</td>\n",
       "    </tr>\n",
       "    <tr>\n",
       "      <td id=\"T_92db6_row93_col0\" class=\"data row93 col0\" >(2, 1, 2, 2, 1)</td>\n",
       "      <td id=\"T_92db6_row93_col1\" class=\"data row93 col1\" >0</td>\n",
       "    </tr>\n",
       "    <tr>\n",
       "      <td id=\"T_92db6_row94_col0\" class=\"data row94 col0\" >(2, 1, 2, 2, 2)</td>\n",
       "      <td id=\"T_92db6_row94_col1\" class=\"data row94 col1\" >0</td>\n",
       "    </tr>\n",
       "    <tr>\n",
       "      <td id=\"T_92db6_row95_col0\" class=\"data row95 col0\" >(2, 1, 2, 2, 3)</td>\n",
       "      <td id=\"T_92db6_row95_col1\" class=\"data row95 col1\" >0</td>\n",
       "    </tr>\n",
       "    <tr>\n",
       "      <td id=\"T_92db6_row96_col0\" class=\"data row96 col0\" >(2, 1, 2, 3, 1)</td>\n",
       "      <td id=\"T_92db6_row96_col1\" class=\"data row96 col1\" >0</td>\n",
       "    </tr>\n",
       "    <tr>\n",
       "      <td id=\"T_92db6_row97_col0\" class=\"data row97 col0\" >(2, 1, 2, 3, 2)</td>\n",
       "      <td id=\"T_92db6_row97_col1\" class=\"data row97 col1\" >0</td>\n",
       "    </tr>\n",
       "    <tr>\n",
       "      <td id=\"T_92db6_row98_col0\" class=\"data row98 col0\" >(2, 1, 2, 3, 3)</td>\n",
       "      <td id=\"T_92db6_row98_col1\" class=\"data row98 col1\" >0</td>\n",
       "    </tr>\n",
       "    <tr>\n",
       "      <td id=\"T_92db6_row99_col0\" class=\"data row99 col0\" >(2, 1, 3, 1, 1)</td>\n",
       "      <td id=\"T_92db6_row99_col1\" class=\"data row99 col1\" >0</td>\n",
       "    </tr>\n",
       "    <tr>\n",
       "      <td id=\"T_92db6_row100_col0\" class=\"data row100 col0\" >(2, 1, 3, 1, 2)</td>\n",
       "      <td id=\"T_92db6_row100_col1\" class=\"data row100 col1\" >0</td>\n",
       "    </tr>\n",
       "    <tr>\n",
       "      <td id=\"T_92db6_row101_col0\" class=\"data row101 col0\" >(2, 1, 3, 1, 3)</td>\n",
       "      <td id=\"T_92db6_row101_col1\" class=\"data row101 col1\" >0</td>\n",
       "    </tr>\n",
       "    <tr>\n",
       "      <td id=\"T_92db6_row102_col0\" class=\"data row102 col0\" >(2, 1, 3, 2, 1)</td>\n",
       "      <td id=\"T_92db6_row102_col1\" class=\"data row102 col1\" >0</td>\n",
       "    </tr>\n",
       "    <tr>\n",
       "      <td id=\"T_92db6_row103_col0\" class=\"data row103 col0\" >(2, 1, 3, 2, 2)</td>\n",
       "      <td id=\"T_92db6_row103_col1\" class=\"data row103 col1\" >0</td>\n",
       "    </tr>\n",
       "    <tr>\n",
       "      <td id=\"T_92db6_row104_col0\" class=\"data row104 col0\" >(2, 1, 3, 2, 3)</td>\n",
       "      <td id=\"T_92db6_row104_col1\" class=\"data row104 col1\" >0</td>\n",
       "    </tr>\n",
       "    <tr>\n",
       "      <td id=\"T_92db6_row105_col0\" class=\"data row105 col0\" >(2, 1, 3, 3, 1)</td>\n",
       "      <td id=\"T_92db6_row105_col1\" class=\"data row105 col1\" >0</td>\n",
       "    </tr>\n",
       "    <tr>\n",
       "      <td id=\"T_92db6_row106_col0\" class=\"data row106 col0\" >(2, 1, 3, 3, 2)</td>\n",
       "      <td id=\"T_92db6_row106_col1\" class=\"data row106 col1\" >0</td>\n",
       "    </tr>\n",
       "    <tr>\n",
       "      <td id=\"T_92db6_row107_col0\" class=\"data row107 col0\" >(2, 1, 3, 3, 3)</td>\n",
       "      <td id=\"T_92db6_row107_col1\" class=\"data row107 col1\" >0</td>\n",
       "    </tr>\n",
       "    <tr>\n",
       "      <td id=\"T_92db6_row108_col0\" class=\"data row108 col0\" >(2, 2, 1, 1, 1)</td>\n",
       "      <td id=\"T_92db6_row108_col1\" class=\"data row108 col1\" >0</td>\n",
       "    </tr>\n",
       "    <tr>\n",
       "      <td id=\"T_92db6_row109_col0\" class=\"data row109 col0\" >(2, 2, 1, 1, 2)</td>\n",
       "      <td id=\"T_92db6_row109_col1\" class=\"data row109 col1\" >0</td>\n",
       "    </tr>\n",
       "    <tr>\n",
       "      <td id=\"T_92db6_row110_col0\" class=\"data row110 col0\" >(2, 2, 1, 1, 3)</td>\n",
       "      <td id=\"T_92db6_row110_col1\" class=\"data row110 col1\" >0</td>\n",
       "    </tr>\n",
       "    <tr>\n",
       "      <td id=\"T_92db6_row111_col0\" class=\"data row111 col0\" >(2, 2, 1, 2, 1)</td>\n",
       "      <td id=\"T_92db6_row111_col1\" class=\"data row111 col1\" >0</td>\n",
       "    </tr>\n",
       "    <tr>\n",
       "      <td id=\"T_92db6_row112_col0\" class=\"data row112 col0\" >(2, 2, 1, 2, 2)</td>\n",
       "      <td id=\"T_92db6_row112_col1\" class=\"data row112 col1\" >0</td>\n",
       "    </tr>\n",
       "    <tr>\n",
       "      <td id=\"T_92db6_row113_col0\" class=\"data row113 col0\" >(2, 2, 1, 2, 3)</td>\n",
       "      <td id=\"T_92db6_row113_col1\" class=\"data row113 col1\" >0</td>\n",
       "    </tr>\n",
       "    <tr>\n",
       "      <td id=\"T_92db6_row114_col0\" class=\"data row114 col0\" >(2, 2, 1, 3, 1)</td>\n",
       "      <td id=\"T_92db6_row114_col1\" class=\"data row114 col1\" >0</td>\n",
       "    </tr>\n",
       "    <tr>\n",
       "      <td id=\"T_92db6_row115_col0\" class=\"data row115 col0\" >(2, 2, 1, 3, 2)</td>\n",
       "      <td id=\"T_92db6_row115_col1\" class=\"data row115 col1\" >0</td>\n",
       "    </tr>\n",
       "    <tr>\n",
       "      <td id=\"T_92db6_row116_col0\" class=\"data row116 col0\" >(2, 2, 1, 3, 3)</td>\n",
       "      <td id=\"T_92db6_row116_col1\" class=\"data row116 col1\" >0</td>\n",
       "    </tr>\n",
       "    <tr>\n",
       "      <td id=\"T_92db6_row117_col0\" class=\"data row117 col0\" >(2, 2, 2, 1, 1)</td>\n",
       "      <td id=\"T_92db6_row117_col1\" class=\"data row117 col1\" >0</td>\n",
       "    </tr>\n",
       "    <tr>\n",
       "      <td id=\"T_92db6_row118_col0\" class=\"data row118 col0\" >(2, 2, 2, 1, 2)</td>\n",
       "      <td id=\"T_92db6_row118_col1\" class=\"data row118 col1\" >0</td>\n",
       "    </tr>\n",
       "    <tr>\n",
       "      <td id=\"T_92db6_row119_col0\" class=\"data row119 col0\" >(2, 2, 2, 1, 3)</td>\n",
       "      <td id=\"T_92db6_row119_col1\" class=\"data row119 col1\" >0</td>\n",
       "    </tr>\n",
       "    <tr>\n",
       "      <td id=\"T_92db6_row120_col0\" class=\"data row120 col0\" >(2, 2, 2, 2, 1)</td>\n",
       "      <td id=\"T_92db6_row120_col1\" class=\"data row120 col1\" >0</td>\n",
       "    </tr>\n",
       "    <tr>\n",
       "      <td id=\"T_92db6_row121_col0\" class=\"data row121 col0\" >(2, 2, 2, 2, 2)</td>\n",
       "      <td id=\"T_92db6_row121_col1\" class=\"data row121 col1\" >0</td>\n",
       "    </tr>\n",
       "    <tr>\n",
       "      <td id=\"T_92db6_row122_col0\" class=\"data row122 col0\" >(2, 2, 2, 2, 3)</td>\n",
       "      <td id=\"T_92db6_row122_col1\" class=\"data row122 col1\" >0</td>\n",
       "    </tr>\n",
       "    <tr>\n",
       "      <td id=\"T_92db6_row123_col0\" class=\"data row123 col0\" >(2, 2, 2, 3, 1)</td>\n",
       "      <td id=\"T_92db6_row123_col1\" class=\"data row123 col1\" >0</td>\n",
       "    </tr>\n",
       "    <tr>\n",
       "      <td id=\"T_92db6_row124_col0\" class=\"data row124 col0\" >(2, 2, 2, 3, 2)</td>\n",
       "      <td id=\"T_92db6_row124_col1\" class=\"data row124 col1\" >0</td>\n",
       "    </tr>\n",
       "    <tr>\n",
       "      <td id=\"T_92db6_row125_col0\" class=\"data row125 col0\" >(2, 2, 2, 3, 3)</td>\n",
       "      <td id=\"T_92db6_row125_col1\" class=\"data row125 col1\" >0</td>\n",
       "    </tr>\n",
       "    <tr>\n",
       "      <td id=\"T_92db6_row126_col0\" class=\"data row126 col0\" >(2, 2, 3, 1, 1)</td>\n",
       "      <td id=\"T_92db6_row126_col1\" class=\"data row126 col1\" >0</td>\n",
       "    </tr>\n",
       "    <tr>\n",
       "      <td id=\"T_92db6_row127_col0\" class=\"data row127 col0\" >(2, 2, 3, 1, 2)</td>\n",
       "      <td id=\"T_92db6_row127_col1\" class=\"data row127 col1\" >0</td>\n",
       "    </tr>\n",
       "    <tr>\n",
       "      <td id=\"T_92db6_row128_col0\" class=\"data row128 col0\" >(2, 2, 3, 1, 3)</td>\n",
       "      <td id=\"T_92db6_row128_col1\" class=\"data row128 col1\" >0</td>\n",
       "    </tr>\n",
       "    <tr>\n",
       "      <td id=\"T_92db6_row129_col0\" class=\"data row129 col0\" >(2, 2, 3, 2, 1)</td>\n",
       "      <td id=\"T_92db6_row129_col1\" class=\"data row129 col1\" >0</td>\n",
       "    </tr>\n",
       "    <tr>\n",
       "      <td id=\"T_92db6_row130_col0\" class=\"data row130 col0\" >(2, 2, 3, 2, 2)</td>\n",
       "      <td id=\"T_92db6_row130_col1\" class=\"data row130 col1\" >0</td>\n",
       "    </tr>\n",
       "    <tr>\n",
       "      <td id=\"T_92db6_row131_col0\" class=\"data row131 col0\" >(2, 2, 3, 2, 3)</td>\n",
       "      <td id=\"T_92db6_row131_col1\" class=\"data row131 col1\" >0</td>\n",
       "    </tr>\n",
       "    <tr>\n",
       "      <td id=\"T_92db6_row132_col0\" class=\"data row132 col0\" >(2, 2, 3, 3, 1)</td>\n",
       "      <td id=\"T_92db6_row132_col1\" class=\"data row132 col1\" >0</td>\n",
       "    </tr>\n",
       "    <tr>\n",
       "      <td id=\"T_92db6_row133_col0\" class=\"data row133 col0\" >(2, 2, 3, 3, 2)</td>\n",
       "      <td id=\"T_92db6_row133_col1\" class=\"data row133 col1\" >0</td>\n",
       "    </tr>\n",
       "    <tr>\n",
       "      <td id=\"T_92db6_row134_col0\" class=\"data row134 col0\" >(2, 2, 3, 3, 3)</td>\n",
       "      <td id=\"T_92db6_row134_col1\" class=\"data row134 col1\" >0</td>\n",
       "    </tr>\n",
       "    <tr>\n",
       "      <td id=\"T_92db6_row135_col0\" class=\"data row135 col0\" >(2, 3, 1, 1, 1)</td>\n",
       "      <td id=\"T_92db6_row135_col1\" class=\"data row135 col1\" >0</td>\n",
       "    </tr>\n",
       "    <tr>\n",
       "      <td id=\"T_92db6_row136_col0\" class=\"data row136 col0\" >(2, 3, 1, 1, 2)</td>\n",
       "      <td id=\"T_92db6_row136_col1\" class=\"data row136 col1\" >0</td>\n",
       "    </tr>\n",
       "    <tr>\n",
       "      <td id=\"T_92db6_row137_col0\" class=\"data row137 col0\" >(2, 3, 1, 1, 3)</td>\n",
       "      <td id=\"T_92db6_row137_col1\" class=\"data row137 col1\" >0</td>\n",
       "    </tr>\n",
       "    <tr>\n",
       "      <td id=\"T_92db6_row138_col0\" class=\"data row138 col0\" >(2, 3, 1, 2, 1)</td>\n",
       "      <td id=\"T_92db6_row138_col1\" class=\"data row138 col1\" >0</td>\n",
       "    </tr>\n",
       "    <tr>\n",
       "      <td id=\"T_92db6_row139_col0\" class=\"data row139 col0\" >(2, 3, 1, 2, 2)</td>\n",
       "      <td id=\"T_92db6_row139_col1\" class=\"data row139 col1\" >0</td>\n",
       "    </tr>\n",
       "    <tr>\n",
       "      <td id=\"T_92db6_row140_col0\" class=\"data row140 col0\" >(2, 3, 1, 2, 3)</td>\n",
       "      <td id=\"T_92db6_row140_col1\" class=\"data row140 col1\" >0</td>\n",
       "    </tr>\n",
       "    <tr>\n",
       "      <td id=\"T_92db6_row141_col0\" class=\"data row141 col0\" >(2, 3, 1, 3, 1)</td>\n",
       "      <td id=\"T_92db6_row141_col1\" class=\"data row141 col1\" >0</td>\n",
       "    </tr>\n",
       "    <tr>\n",
       "      <td id=\"T_92db6_row142_col0\" class=\"data row142 col0\" >(2, 3, 1, 3, 2)</td>\n",
       "      <td id=\"T_92db6_row142_col1\" class=\"data row142 col1\" >0</td>\n",
       "    </tr>\n",
       "    <tr>\n",
       "      <td id=\"T_92db6_row143_col0\" class=\"data row143 col0\" >(2, 3, 1, 3, 3)</td>\n",
       "      <td id=\"T_92db6_row143_col1\" class=\"data row143 col1\" >0</td>\n",
       "    </tr>\n",
       "    <tr>\n",
       "      <td id=\"T_92db6_row144_col0\" class=\"data row144 col0\" >(2, 3, 2, 1, 1)</td>\n",
       "      <td id=\"T_92db6_row144_col1\" class=\"data row144 col1\" >0</td>\n",
       "    </tr>\n",
       "    <tr>\n",
       "      <td id=\"T_92db6_row145_col0\" class=\"data row145 col0\" >(2, 3, 2, 1, 2)</td>\n",
       "      <td id=\"T_92db6_row145_col1\" class=\"data row145 col1\" >0</td>\n",
       "    </tr>\n",
       "    <tr>\n",
       "      <td id=\"T_92db6_row146_col0\" class=\"data row146 col0\" >(2, 3, 2, 1, 3)</td>\n",
       "      <td id=\"T_92db6_row146_col1\" class=\"data row146 col1\" >0</td>\n",
       "    </tr>\n",
       "    <tr>\n",
       "      <td id=\"T_92db6_row147_col0\" class=\"data row147 col0\" >(2, 3, 2, 2, 1)</td>\n",
       "      <td id=\"T_92db6_row147_col1\" class=\"data row147 col1\" >0</td>\n",
       "    </tr>\n",
       "    <tr>\n",
       "      <td id=\"T_92db6_row148_col0\" class=\"data row148 col0\" >(2, 3, 2, 2, 2)</td>\n",
       "      <td id=\"T_92db6_row148_col1\" class=\"data row148 col1\" >0</td>\n",
       "    </tr>\n",
       "    <tr>\n",
       "      <td id=\"T_92db6_row149_col0\" class=\"data row149 col0\" >(2, 3, 2, 2, 3)</td>\n",
       "      <td id=\"T_92db6_row149_col1\" class=\"data row149 col1\" >0</td>\n",
       "    </tr>\n",
       "    <tr>\n",
       "      <td id=\"T_92db6_row150_col0\" class=\"data row150 col0\" >(2, 3, 2, 3, 1)</td>\n",
       "      <td id=\"T_92db6_row150_col1\" class=\"data row150 col1\" >0</td>\n",
       "    </tr>\n",
       "    <tr>\n",
       "      <td id=\"T_92db6_row151_col0\" class=\"data row151 col0\" >(2, 3, 2, 3, 2)</td>\n",
       "      <td id=\"T_92db6_row151_col1\" class=\"data row151 col1\" >0</td>\n",
       "    </tr>\n",
       "    <tr>\n",
       "      <td id=\"T_92db6_row152_col0\" class=\"data row152 col0\" >(2, 3, 2, 3, 3)</td>\n",
       "      <td id=\"T_92db6_row152_col1\" class=\"data row152 col1\" >0</td>\n",
       "    </tr>\n",
       "    <tr>\n",
       "      <td id=\"T_92db6_row153_col0\" class=\"data row153 col0\" >(2, 3, 3, 1, 1)</td>\n",
       "      <td id=\"T_92db6_row153_col1\" class=\"data row153 col1\" >0</td>\n",
       "    </tr>\n",
       "    <tr>\n",
       "      <td id=\"T_92db6_row154_col0\" class=\"data row154 col0\" >(2, 3, 3, 1, 2)</td>\n",
       "      <td id=\"T_92db6_row154_col1\" class=\"data row154 col1\" >0</td>\n",
       "    </tr>\n",
       "    <tr>\n",
       "      <td id=\"T_92db6_row155_col0\" class=\"data row155 col0\" >(2, 3, 3, 1, 3)</td>\n",
       "      <td id=\"T_92db6_row155_col1\" class=\"data row155 col1\" >0</td>\n",
       "    </tr>\n",
       "    <tr>\n",
       "      <td id=\"T_92db6_row156_col0\" class=\"data row156 col0\" >(2, 3, 3, 2, 1)</td>\n",
       "      <td id=\"T_92db6_row156_col1\" class=\"data row156 col1\" >0</td>\n",
       "    </tr>\n",
       "    <tr>\n",
       "      <td id=\"T_92db6_row157_col0\" class=\"data row157 col0\" >(2, 3, 3, 2, 2)</td>\n",
       "      <td id=\"T_92db6_row157_col1\" class=\"data row157 col1\" >0</td>\n",
       "    </tr>\n",
       "    <tr>\n",
       "      <td id=\"T_92db6_row158_col0\" class=\"data row158 col0\" >(2, 3, 3, 2, 3)</td>\n",
       "      <td id=\"T_92db6_row158_col1\" class=\"data row158 col1\" >0</td>\n",
       "    </tr>\n",
       "    <tr>\n",
       "      <td id=\"T_92db6_row159_col0\" class=\"data row159 col0\" >(2, 3, 3, 3, 1)</td>\n",
       "      <td id=\"T_92db6_row159_col1\" class=\"data row159 col1\" >0</td>\n",
       "    </tr>\n",
       "    <tr>\n",
       "      <td id=\"T_92db6_row160_col0\" class=\"data row160 col0\" >(2, 3, 3, 3, 2)</td>\n",
       "      <td id=\"T_92db6_row160_col1\" class=\"data row160 col1\" >0</td>\n",
       "    </tr>\n",
       "    <tr>\n",
       "      <td id=\"T_92db6_row161_col0\" class=\"data row161 col0\" >(2, 3, 3, 3, 3)</td>\n",
       "      <td id=\"T_92db6_row161_col1\" class=\"data row161 col1\" >0</td>\n",
       "    </tr>\n",
       "    <tr>\n",
       "      <td id=\"T_92db6_row162_col0\" class=\"data row162 col0\" >(3, 1, 1, 1, 1)</td>\n",
       "      <td id=\"T_92db6_row162_col1\" class=\"data row162 col1\" >0</td>\n",
       "    </tr>\n",
       "    <tr>\n",
       "      <td id=\"T_92db6_row163_col0\" class=\"data row163 col0\" >(3, 1, 1, 1, 2)</td>\n",
       "      <td id=\"T_92db6_row163_col1\" class=\"data row163 col1\" >0</td>\n",
       "    </tr>\n",
       "    <tr>\n",
       "      <td id=\"T_92db6_row164_col0\" class=\"data row164 col0\" >(3, 1, 1, 1, 3)</td>\n",
       "      <td id=\"T_92db6_row164_col1\" class=\"data row164 col1\" >0</td>\n",
       "    </tr>\n",
       "    <tr>\n",
       "      <td id=\"T_92db6_row165_col0\" class=\"data row165 col0\" >(3, 1, 1, 2, 1)</td>\n",
       "      <td id=\"T_92db6_row165_col1\" class=\"data row165 col1\" >0</td>\n",
       "    </tr>\n",
       "    <tr>\n",
       "      <td id=\"T_92db6_row166_col0\" class=\"data row166 col0\" >(3, 1, 1, 2, 2)</td>\n",
       "      <td id=\"T_92db6_row166_col1\" class=\"data row166 col1\" >0</td>\n",
       "    </tr>\n",
       "    <tr>\n",
       "      <td id=\"T_92db6_row167_col0\" class=\"data row167 col0\" >(3, 1, 1, 2, 3)</td>\n",
       "      <td id=\"T_92db6_row167_col1\" class=\"data row167 col1\" >0</td>\n",
       "    </tr>\n",
       "    <tr>\n",
       "      <td id=\"T_92db6_row168_col0\" class=\"data row168 col0\" >(3, 1, 1, 3, 1)</td>\n",
       "      <td id=\"T_92db6_row168_col1\" class=\"data row168 col1\" >0</td>\n",
       "    </tr>\n",
       "    <tr>\n",
       "      <td id=\"T_92db6_row169_col0\" class=\"data row169 col0\" >(3, 1, 1, 3, 2)</td>\n",
       "      <td id=\"T_92db6_row169_col1\" class=\"data row169 col1\" >0</td>\n",
       "    </tr>\n",
       "    <tr>\n",
       "      <td id=\"T_92db6_row170_col0\" class=\"data row170 col0\" >(3, 1, 1, 3, 3)</td>\n",
       "      <td id=\"T_92db6_row170_col1\" class=\"data row170 col1\" >0</td>\n",
       "    </tr>\n",
       "    <tr>\n",
       "      <td id=\"T_92db6_row171_col0\" class=\"data row171 col0\" >(3, 1, 2, 1, 1)</td>\n",
       "      <td id=\"T_92db6_row171_col1\" class=\"data row171 col1\" >0</td>\n",
       "    </tr>\n",
       "    <tr>\n",
       "      <td id=\"T_92db6_row172_col0\" class=\"data row172 col0\" >(3, 1, 2, 1, 2)</td>\n",
       "      <td id=\"T_92db6_row172_col1\" class=\"data row172 col1\" >0</td>\n",
       "    </tr>\n",
       "    <tr>\n",
       "      <td id=\"T_92db6_row173_col0\" class=\"data row173 col0\" >(3, 1, 2, 1, 3)</td>\n",
       "      <td id=\"T_92db6_row173_col1\" class=\"data row173 col1\" >0</td>\n",
       "    </tr>\n",
       "    <tr>\n",
       "      <td id=\"T_92db6_row174_col0\" class=\"data row174 col0\" >(3, 1, 2, 2, 1)</td>\n",
       "      <td id=\"T_92db6_row174_col1\" class=\"data row174 col1\" >0</td>\n",
       "    </tr>\n",
       "    <tr>\n",
       "      <td id=\"T_92db6_row175_col0\" class=\"data row175 col0\" >(3, 1, 2, 2, 2)</td>\n",
       "      <td id=\"T_92db6_row175_col1\" class=\"data row175 col1\" >0</td>\n",
       "    </tr>\n",
       "    <tr>\n",
       "      <td id=\"T_92db6_row176_col0\" class=\"data row176 col0\" >(3, 1, 2, 2, 3)</td>\n",
       "      <td id=\"T_92db6_row176_col1\" class=\"data row176 col1\" >0</td>\n",
       "    </tr>\n",
       "    <tr>\n",
       "      <td id=\"T_92db6_row177_col0\" class=\"data row177 col0\" >(3, 1, 2, 3, 1)</td>\n",
       "      <td id=\"T_92db6_row177_col1\" class=\"data row177 col1\" >0</td>\n",
       "    </tr>\n",
       "    <tr>\n",
       "      <td id=\"T_92db6_row178_col0\" class=\"data row178 col0\" >(3, 1, 2, 3, 2)</td>\n",
       "      <td id=\"T_92db6_row178_col1\" class=\"data row178 col1\" >0</td>\n",
       "    </tr>\n",
       "    <tr>\n",
       "      <td id=\"T_92db6_row179_col0\" class=\"data row179 col0\" >(3, 1, 2, 3, 3)</td>\n",
       "      <td id=\"T_92db6_row179_col1\" class=\"data row179 col1\" >0</td>\n",
       "    </tr>\n",
       "    <tr>\n",
       "      <td id=\"T_92db6_row180_col0\" class=\"data row180 col0\" >(3, 1, 3, 1, 1)</td>\n",
       "      <td id=\"T_92db6_row180_col1\" class=\"data row180 col1\" >0</td>\n",
       "    </tr>\n",
       "    <tr>\n",
       "      <td id=\"T_92db6_row181_col0\" class=\"data row181 col0\" >(3, 1, 3, 1, 2)</td>\n",
       "      <td id=\"T_92db6_row181_col1\" class=\"data row181 col1\" >0</td>\n",
       "    </tr>\n",
       "    <tr>\n",
       "      <td id=\"T_92db6_row182_col0\" class=\"data row182 col0\" >(3, 1, 3, 1, 3)</td>\n",
       "      <td id=\"T_92db6_row182_col1\" class=\"data row182 col1\" >0</td>\n",
       "    </tr>\n",
       "    <tr>\n",
       "      <td id=\"T_92db6_row183_col0\" class=\"data row183 col0\" >(3, 1, 3, 2, 1)</td>\n",
       "      <td id=\"T_92db6_row183_col1\" class=\"data row183 col1\" >0</td>\n",
       "    </tr>\n",
       "    <tr>\n",
       "      <td id=\"T_92db6_row184_col0\" class=\"data row184 col0\" >(3, 1, 3, 2, 2)</td>\n",
       "      <td id=\"T_92db6_row184_col1\" class=\"data row184 col1\" >0</td>\n",
       "    </tr>\n",
       "    <tr>\n",
       "      <td id=\"T_92db6_row185_col0\" class=\"data row185 col0\" >(3, 1, 3, 2, 3)</td>\n",
       "      <td id=\"T_92db6_row185_col1\" class=\"data row185 col1\" >0</td>\n",
       "    </tr>\n",
       "    <tr>\n",
       "      <td id=\"T_92db6_row186_col0\" class=\"data row186 col0\" >(3, 1, 3, 3, 1)</td>\n",
       "      <td id=\"T_92db6_row186_col1\" class=\"data row186 col1\" >0</td>\n",
       "    </tr>\n",
       "    <tr>\n",
       "      <td id=\"T_92db6_row187_col0\" class=\"data row187 col0\" >(3, 1, 3, 3, 2)</td>\n",
       "      <td id=\"T_92db6_row187_col1\" class=\"data row187 col1\" >0</td>\n",
       "    </tr>\n",
       "    <tr>\n",
       "      <td id=\"T_92db6_row188_col0\" class=\"data row188 col0\" >(3, 1, 3, 3, 3)</td>\n",
       "      <td id=\"T_92db6_row188_col1\" class=\"data row188 col1\" >0</td>\n",
       "    </tr>\n",
       "    <tr>\n",
       "      <td id=\"T_92db6_row189_col0\" class=\"data row189 col0\" >(3, 2, 1, 1, 1)</td>\n",
       "      <td id=\"T_92db6_row189_col1\" class=\"data row189 col1\" >0</td>\n",
       "    </tr>\n",
       "    <tr>\n",
       "      <td id=\"T_92db6_row190_col0\" class=\"data row190 col0\" >(3, 2, 1, 1, 2)</td>\n",
       "      <td id=\"T_92db6_row190_col1\" class=\"data row190 col1\" >0</td>\n",
       "    </tr>\n",
       "    <tr>\n",
       "      <td id=\"T_92db6_row191_col0\" class=\"data row191 col0\" >(3, 2, 1, 1, 3)</td>\n",
       "      <td id=\"T_92db6_row191_col1\" class=\"data row191 col1\" >0</td>\n",
       "    </tr>\n",
       "    <tr>\n",
       "      <td id=\"T_92db6_row192_col0\" class=\"data row192 col0\" >(3, 2, 1, 2, 1)</td>\n",
       "      <td id=\"T_92db6_row192_col1\" class=\"data row192 col1\" >0</td>\n",
       "    </tr>\n",
       "    <tr>\n",
       "      <td id=\"T_92db6_row193_col0\" class=\"data row193 col0\" >(3, 2, 1, 2, 2)</td>\n",
       "      <td id=\"T_92db6_row193_col1\" class=\"data row193 col1\" >0</td>\n",
       "    </tr>\n",
       "    <tr>\n",
       "      <td id=\"T_92db6_row194_col0\" class=\"data row194 col0\" >(3, 2, 1, 2, 3)</td>\n",
       "      <td id=\"T_92db6_row194_col1\" class=\"data row194 col1\" >0</td>\n",
       "    </tr>\n",
       "    <tr>\n",
       "      <td id=\"T_92db6_row195_col0\" class=\"data row195 col0\" >(3, 2, 1, 3, 1)</td>\n",
       "      <td id=\"T_92db6_row195_col1\" class=\"data row195 col1\" >0</td>\n",
       "    </tr>\n",
       "    <tr>\n",
       "      <td id=\"T_92db6_row196_col0\" class=\"data row196 col0\" >(3, 2, 1, 3, 2)</td>\n",
       "      <td id=\"T_92db6_row196_col1\" class=\"data row196 col1\" >0</td>\n",
       "    </tr>\n",
       "    <tr>\n",
       "      <td id=\"T_92db6_row197_col0\" class=\"data row197 col0\" >(3, 2, 1, 3, 3)</td>\n",
       "      <td id=\"T_92db6_row197_col1\" class=\"data row197 col1\" >0</td>\n",
       "    </tr>\n",
       "    <tr>\n",
       "      <td id=\"T_92db6_row198_col0\" class=\"data row198 col0\" >(3, 2, 2, 1, 1)</td>\n",
       "      <td id=\"T_92db6_row198_col1\" class=\"data row198 col1\" >0</td>\n",
       "    </tr>\n",
       "    <tr>\n",
       "      <td id=\"T_92db6_row199_col0\" class=\"data row199 col0\" >(3, 2, 2, 1, 2)</td>\n",
       "      <td id=\"T_92db6_row199_col1\" class=\"data row199 col1\" >0</td>\n",
       "    </tr>\n",
       "    <tr>\n",
       "      <td id=\"T_92db6_row200_col0\" class=\"data row200 col0\" >(3, 2, 2, 1, 3)</td>\n",
       "      <td id=\"T_92db6_row200_col1\" class=\"data row200 col1\" >0</td>\n",
       "    </tr>\n",
       "    <tr>\n",
       "      <td id=\"T_92db6_row201_col0\" class=\"data row201 col0\" >(3, 2, 2, 2, 1)</td>\n",
       "      <td id=\"T_92db6_row201_col1\" class=\"data row201 col1\" >0</td>\n",
       "    </tr>\n",
       "    <tr>\n",
       "      <td id=\"T_92db6_row202_col0\" class=\"data row202 col0\" >(3, 2, 2, 2, 2)</td>\n",
       "      <td id=\"T_92db6_row202_col1\" class=\"data row202 col1\" >0</td>\n",
       "    </tr>\n",
       "    <tr>\n",
       "      <td id=\"T_92db6_row203_col0\" class=\"data row203 col0\" >(3, 2, 2, 2, 3)</td>\n",
       "      <td id=\"T_92db6_row203_col1\" class=\"data row203 col1\" >0</td>\n",
       "    </tr>\n",
       "    <tr>\n",
       "      <td id=\"T_92db6_row204_col0\" class=\"data row204 col0\" >(3, 2, 2, 3, 1)</td>\n",
       "      <td id=\"T_92db6_row204_col1\" class=\"data row204 col1\" >0</td>\n",
       "    </tr>\n",
       "    <tr>\n",
       "      <td id=\"T_92db6_row205_col0\" class=\"data row205 col0\" >(3, 2, 2, 3, 2)</td>\n",
       "      <td id=\"T_92db6_row205_col1\" class=\"data row205 col1\" >0</td>\n",
       "    </tr>\n",
       "    <tr>\n",
       "      <td id=\"T_92db6_row206_col0\" class=\"data row206 col0\" >(3, 2, 2, 3, 3)</td>\n",
       "      <td id=\"T_92db6_row206_col1\" class=\"data row206 col1\" >0</td>\n",
       "    </tr>\n",
       "    <tr>\n",
       "      <td id=\"T_92db6_row207_col0\" class=\"data row207 col0\" >(3, 2, 3, 1, 1)</td>\n",
       "      <td id=\"T_92db6_row207_col1\" class=\"data row207 col1\" >0</td>\n",
       "    </tr>\n",
       "    <tr>\n",
       "      <td id=\"T_92db6_row208_col0\" class=\"data row208 col0\" >(3, 2, 3, 1, 2)</td>\n",
       "      <td id=\"T_92db6_row208_col1\" class=\"data row208 col1\" >0</td>\n",
       "    </tr>\n",
       "    <tr>\n",
       "      <td id=\"T_92db6_row209_col0\" class=\"data row209 col0\" >(3, 2, 3, 1, 3)</td>\n",
       "      <td id=\"T_92db6_row209_col1\" class=\"data row209 col1\" >0</td>\n",
       "    </tr>\n",
       "    <tr>\n",
       "      <td id=\"T_92db6_row210_col0\" class=\"data row210 col0\" >(3, 2, 3, 2, 1)</td>\n",
       "      <td id=\"T_92db6_row210_col1\" class=\"data row210 col1\" >0</td>\n",
       "    </tr>\n",
       "    <tr>\n",
       "      <td id=\"T_92db6_row211_col0\" class=\"data row211 col0\" >(3, 2, 3, 2, 2)</td>\n",
       "      <td id=\"T_92db6_row211_col1\" class=\"data row211 col1\" >0</td>\n",
       "    </tr>\n",
       "    <tr>\n",
       "      <td id=\"T_92db6_row212_col0\" class=\"data row212 col0\" >(3, 2, 3, 2, 3)</td>\n",
       "      <td id=\"T_92db6_row212_col1\" class=\"data row212 col1\" >0</td>\n",
       "    </tr>\n",
       "    <tr>\n",
       "      <td id=\"T_92db6_row213_col0\" class=\"data row213 col0\" >(3, 2, 3, 3, 1)</td>\n",
       "      <td id=\"T_92db6_row213_col1\" class=\"data row213 col1\" >0</td>\n",
       "    </tr>\n",
       "    <tr>\n",
       "      <td id=\"T_92db6_row214_col0\" class=\"data row214 col0\" >(3, 2, 3, 3, 2)</td>\n",
       "      <td id=\"T_92db6_row214_col1\" class=\"data row214 col1\" >0</td>\n",
       "    </tr>\n",
       "    <tr>\n",
       "      <td id=\"T_92db6_row215_col0\" class=\"data row215 col0\" >(3, 2, 3, 3, 3)</td>\n",
       "      <td id=\"T_92db6_row215_col1\" class=\"data row215 col1\" >0</td>\n",
       "    </tr>\n",
       "    <tr>\n",
       "      <td id=\"T_92db6_row216_col0\" class=\"data row216 col0\" >(3, 3, 1, 1, 1)</td>\n",
       "      <td id=\"T_92db6_row216_col1\" class=\"data row216 col1\" >0</td>\n",
       "    </tr>\n",
       "    <tr>\n",
       "      <td id=\"T_92db6_row217_col0\" class=\"data row217 col0\" >(3, 3, 1, 1, 2)</td>\n",
       "      <td id=\"T_92db6_row217_col1\" class=\"data row217 col1\" >0</td>\n",
       "    </tr>\n",
       "    <tr>\n",
       "      <td id=\"T_92db6_row218_col0\" class=\"data row218 col0\" >(3, 3, 1, 1, 3)</td>\n",
       "      <td id=\"T_92db6_row218_col1\" class=\"data row218 col1\" >0</td>\n",
       "    </tr>\n",
       "    <tr>\n",
       "      <td id=\"T_92db6_row219_col0\" class=\"data row219 col0\" >(3, 3, 1, 2, 1)</td>\n",
       "      <td id=\"T_92db6_row219_col1\" class=\"data row219 col1\" >0</td>\n",
       "    </tr>\n",
       "    <tr>\n",
       "      <td id=\"T_92db6_row220_col0\" class=\"data row220 col0\" >(3, 3, 1, 2, 2)</td>\n",
       "      <td id=\"T_92db6_row220_col1\" class=\"data row220 col1\" >0</td>\n",
       "    </tr>\n",
       "    <tr>\n",
       "      <td id=\"T_92db6_row221_col0\" class=\"data row221 col0\" >(3, 3, 1, 2, 3)</td>\n",
       "      <td id=\"T_92db6_row221_col1\" class=\"data row221 col1\" >0</td>\n",
       "    </tr>\n",
       "    <tr>\n",
       "      <td id=\"T_92db6_row222_col0\" class=\"data row222 col0\" >(3, 3, 1, 3, 1)</td>\n",
       "      <td id=\"T_92db6_row222_col1\" class=\"data row222 col1\" >0</td>\n",
       "    </tr>\n",
       "    <tr>\n",
       "      <td id=\"T_92db6_row223_col0\" class=\"data row223 col0\" >(3, 3, 1, 3, 2)</td>\n",
       "      <td id=\"T_92db6_row223_col1\" class=\"data row223 col1\" >0</td>\n",
       "    </tr>\n",
       "    <tr>\n",
       "      <td id=\"T_92db6_row224_col0\" class=\"data row224 col0\" >(3, 3, 1, 3, 3)</td>\n",
       "      <td id=\"T_92db6_row224_col1\" class=\"data row224 col1\" >0</td>\n",
       "    </tr>\n",
       "    <tr>\n",
       "      <td id=\"T_92db6_row225_col0\" class=\"data row225 col0\" >(3, 3, 2, 1, 1)</td>\n",
       "      <td id=\"T_92db6_row225_col1\" class=\"data row225 col1\" >0</td>\n",
       "    </tr>\n",
       "    <tr>\n",
       "      <td id=\"T_92db6_row226_col0\" class=\"data row226 col0\" >(3, 3, 2, 1, 2)</td>\n",
       "      <td id=\"T_92db6_row226_col1\" class=\"data row226 col1\" >0</td>\n",
       "    </tr>\n",
       "    <tr>\n",
       "      <td id=\"T_92db6_row227_col0\" class=\"data row227 col0\" >(3, 3, 2, 1, 3)</td>\n",
       "      <td id=\"T_92db6_row227_col1\" class=\"data row227 col1\" >0</td>\n",
       "    </tr>\n",
       "    <tr>\n",
       "      <td id=\"T_92db6_row228_col0\" class=\"data row228 col0\" >(3, 3, 2, 2, 1)</td>\n",
       "      <td id=\"T_92db6_row228_col1\" class=\"data row228 col1\" >0</td>\n",
       "    </tr>\n",
       "    <tr>\n",
       "      <td id=\"T_92db6_row229_col0\" class=\"data row229 col0\" >(3, 3, 2, 2, 2)</td>\n",
       "      <td id=\"T_92db6_row229_col1\" class=\"data row229 col1\" >0</td>\n",
       "    </tr>\n",
       "    <tr>\n",
       "      <td id=\"T_92db6_row230_col0\" class=\"data row230 col0\" >(3, 3, 2, 2, 3)</td>\n",
       "      <td id=\"T_92db6_row230_col1\" class=\"data row230 col1\" >0</td>\n",
       "    </tr>\n",
       "    <tr>\n",
       "      <td id=\"T_92db6_row231_col0\" class=\"data row231 col0\" >(3, 3, 2, 3, 1)</td>\n",
       "      <td id=\"T_92db6_row231_col1\" class=\"data row231 col1\" >0</td>\n",
       "    </tr>\n",
       "    <tr>\n",
       "      <td id=\"T_92db6_row232_col0\" class=\"data row232 col0\" >(3, 3, 2, 3, 2)</td>\n",
       "      <td id=\"T_92db6_row232_col1\" class=\"data row232 col1\" >0</td>\n",
       "    </tr>\n",
       "    <tr>\n",
       "      <td id=\"T_92db6_row233_col0\" class=\"data row233 col0\" >(3, 3, 2, 3, 3)</td>\n",
       "      <td id=\"T_92db6_row233_col1\" class=\"data row233 col1\" >0</td>\n",
       "    </tr>\n",
       "    <tr>\n",
       "      <td id=\"T_92db6_row234_col0\" class=\"data row234 col0\" >(3, 3, 3, 1, 1)</td>\n",
       "      <td id=\"T_92db6_row234_col1\" class=\"data row234 col1\" >0</td>\n",
       "    </tr>\n",
       "    <tr>\n",
       "      <td id=\"T_92db6_row235_col0\" class=\"data row235 col0\" >(3, 3, 3, 1, 2)</td>\n",
       "      <td id=\"T_92db6_row235_col1\" class=\"data row235 col1\" >0</td>\n",
       "    </tr>\n",
       "    <tr>\n",
       "      <td id=\"T_92db6_row236_col0\" class=\"data row236 col0\" >(3, 3, 3, 1, 3)</td>\n",
       "      <td id=\"T_92db6_row236_col1\" class=\"data row236 col1\" >0</td>\n",
       "    </tr>\n",
       "    <tr>\n",
       "      <td id=\"T_92db6_row237_col0\" class=\"data row237 col0\" >(3, 3, 3, 2, 1)</td>\n",
       "      <td id=\"T_92db6_row237_col1\" class=\"data row237 col1\" >0</td>\n",
       "    </tr>\n",
       "    <tr>\n",
       "      <td id=\"T_92db6_row238_col0\" class=\"data row238 col0\" >(3, 3, 3, 2, 2)</td>\n",
       "      <td id=\"T_92db6_row238_col1\" class=\"data row238 col1\" >0</td>\n",
       "    </tr>\n",
       "    <tr>\n",
       "      <td id=\"T_92db6_row239_col0\" class=\"data row239 col0\" >(3, 3, 3, 2, 3)</td>\n",
       "      <td id=\"T_92db6_row239_col1\" class=\"data row239 col1\" >0</td>\n",
       "    </tr>\n",
       "    <tr>\n",
       "      <td id=\"T_92db6_row240_col0\" class=\"data row240 col0\" >(3, 3, 3, 3, 1)</td>\n",
       "      <td id=\"T_92db6_row240_col1\" class=\"data row240 col1\" >0</td>\n",
       "    </tr>\n",
       "    <tr>\n",
       "      <td id=\"T_92db6_row241_col0\" class=\"data row241 col0\" >(3, 3, 3, 3, 2)</td>\n",
       "      <td id=\"T_92db6_row241_col1\" class=\"data row241 col1\" >0</td>\n",
       "    </tr>\n",
       "    <tr>\n",
       "      <td id=\"T_92db6_row242_col0\" class=\"data row242 col0\" >(3, 3, 3, 3, 3)</td>\n",
       "      <td id=\"T_92db6_row242_col1\" class=\"data row242 col1\" >0</td>\n",
       "    </tr>\n",
       "  </tbody>\n",
       "</table>\n"
      ],
      "text/plain": [
       "<pandas.io.formats.style.Styler at 0x11557bf40>"
      ]
     },
     "execution_count": 1,
     "metadata": {},
     "output_type": "execute_result"
    }
   ],
   "source": [
    "import pandas as pd\n",
    "from sympy import *\n",
    "from sympy import init_session\n",
    "\n",
    "init_session()\n",
    "\n",
    "\n",
    "def einstein_summation_convention(i: int, j: int, l: int, m: int) -> int:\n",
    "    lhs = (\n",
    "        (LeviCivita(i, j, 1) * LeviCivita(1, l, m))\n",
    "        + (LeviCivita(i, j, 2) * LeviCivita(2, l, m))\n",
    "        + (LeviCivita(i, j, 3) * LeviCivita(3, l, m))\n",
    "    )\n",
    "    rhs = KroneckerDelta(i, l) * KroneckerDelta(j, m) - KroneckerDelta(\n",
    "        i, m\n",
    "    ) * KroneckerDelta(j, l)\n",
    "    return simplify(lhs - rhs)\n",
    "\n",
    "\n",
    "def generate_tuples():\n",
    "    tpls = []\n",
    "    for i in range(1, 4):\n",
    "        for j in range(1, 4):\n",
    "            for k in range(1, 4):\n",
    "                for l in range(1, 4):\n",
    "                    for m in range(1, 4):\n",
    "                        tpls.append((i, j, k, l, m))\n",
    "    return tpls\n",
    "\n",
    "\n",
    "tuples = generate_tuples()\n",
    "result = [einstein_summation_convention(t[0], t[1], t[3], t[4]) for t in tuples]\n",
    "\n",
    "print(all([r == 0 for r in result]))\n",
    "\n",
    "pd.set_option(\"display.max_rows\", 243)\n",
    "df = pd.DataFrame(\n",
    "    data=list(zip(tuples, result)),\n",
    "    columns=[\n",
    "        \"$(i,j,k,l,m)$\",\n",
    "        \"$\\epsilon_{ijk}\\epsilon_{klm} = \\delta_{il}\\delta_{jm} - \\delta_{im}\\delta_{jl}$\",\n",
    "    ],\n",
    ")\n",
    "df.style.hide(axis=\"index\").set_properties(**{\"text-align\": \"left\"})"
   ]
  },
  {
   "cell_type": "markdown",
   "id": "f0950601",
   "metadata": {},
   "source": [
    "## Verification of an identity involving cyclic perumations of vector mutliplications with Sympy"
   ]
  },
  {
   "cell_type": "code",
   "execution_count": 2,
   "id": "3503e518",
   "metadata": {},
   "outputs": [],
   "source": [
    "dot = lambda V1, V2: V1[0] * V2[0] + V1[1] * V2[1] + V1[2] * V2[2]"
   ]
  },
  {
   "cell_type": "code",
   "execution_count": 3,
   "id": "5250fd5f",
   "metadata": {},
   "outputs": [
    {
     "data": {
      "image/png": "[encoded data removed]",
      "text/latex": [
       "$\\displaystyle a_{0} b_{0} + a_{1} b_{1} + a_{2} b_{2}$"
      ],
      "text/plain": [
       "a₀⋅b₀ + a₁⋅b₁ + a₂⋅b₂"
      ]
     },
     "execution_count": 3,
     "metadata": {},
     "output_type": "execute_result"
    }
   ],
   "source": [
    "a = symbols(\"a:3\")\n",
    "b = symbols(\"b:3\")\n",
    "c = symbols(\"c:3\")\n",
    "A = Matrix(a)\n",
    "B = Matrix(b)\n",
    "C = Matrix(c)\n",
    "dot(A, B)"
   ]
  },
  {
   "cell_type": "code",
   "execution_count": 4,
   "id": "dfd6aa13",
   "metadata": {},
   "outputs": [],
   "source": [
    "cross = lambda V1, V2: Matrix(\n",
    "    [\n",
    "        [V1[1] * V2[2] - V1[2] * V2[1]],\n",
    "        [V1[2] * V2[0] - V1[0] * V2[2]],\n",
    "        [V1[0] * V2[1] - V1[1] * V2[0]],\n",
    "    ]\n",
    ")"
   ]
  },
  {
   "cell_type": "code",
   "execution_count": 5,
   "id": "3c95883c",
   "metadata": {},
   "outputs": [
    {
     "data": {
      "image/png": "[encoded data removed]",
      "text/latex": [
       "$\\displaystyle a_{0} \\left(b_{1} c_{2} - b_{2} c_{1}\\right) + a_{1} \\left(- b_{0} c_{2} + b_{2} c_{0}\\right) + a_{2} \\left(b_{0} c_{1} - b_{1} c_{0}\\right)$"
      ],
      "text/plain": [
       "a₀⋅(b₁⋅c₂ - b₂⋅c₁) + a₁⋅(-b₀⋅c₂ + b₂⋅c₀) + a₂⋅(b₀⋅c₁ - b₁⋅c₀)"
      ]
     },
     "execution_count": 5,
     "metadata": {},
     "output_type": "execute_result"
    }
   ],
   "source": [
    "abc = dot(A, cross(B, C))\n",
    "abc"
   ]
  },
  {
   "cell_type": "code",
   "execution_count": 6,
   "id": "26c18c0d",
   "metadata": {},
   "outputs": [
    {
     "data": {
      "image/png": "[encoded data removed]",
      "text/latex": [
       "$\\displaystyle b_{0} \\left(- a_{1} c_{2} + a_{2} c_{1}\\right) + b_{1} \\left(a_{0} c_{2} - a_{2} c_{0}\\right) + b_{2} \\left(- a_{0} c_{1} + a_{1} c_{0}\\right)$"
      ],
      "text/plain": [
       "b₀⋅(-a₁⋅c₂ + a₂⋅c₁) + b₁⋅(a₀⋅c₂ - a₂⋅c₀) + b₂⋅(-a₀⋅c₁ + a₁⋅c₀)"
      ]
     },
     "execution_count": 6,
     "metadata": {},
     "output_type": "execute_result"
    }
   ],
   "source": [
    "bca = dot(B, cross(C, A))\n",
    "bca"
   ]
  },
  {
   "cell_type": "code",
   "execution_count": 7,
   "id": "fa9167ed",
   "metadata": {},
   "outputs": [
    {
     "data": {
      "image/png": "[encoded data removed]",
      "text/latex": [
       "$\\displaystyle c_{0} \\left(a_{1} b_{2} - a_{2} b_{1}\\right) + c_{1} \\left(- a_{0} b_{2} + a_{2} b_{0}\\right) + c_{2} \\left(a_{0} b_{1} - a_{1} b_{0}\\right)$"
      ],
      "text/plain": [
       "c₀⋅(a₁⋅b₂ - a₂⋅b₁) + c₁⋅(-a₀⋅b₂ + a₂⋅b₀) + c₂⋅(a₀⋅b₁ - a₁⋅b₀)"
      ]
     },
     "execution_count": 7,
     "metadata": {},
     "output_type": "execute_result"
    }
   ],
   "source": [
    "cab = dot(C, cross(A, B))\n",
    "cab"
   ]
  },
  {
   "cell_type": "code",
   "execution_count": 8,
   "id": "970d0ba7",
   "metadata": {},
   "outputs": [
    {
     "data": {
      "image/png": "[encoded data removed]",
      "text/latex": [
       "$\\displaystyle 0$"
      ],
      "text/plain": [
       "0"
      ]
     },
     "execution_count": 8,
     "metadata": {},
     "output_type": "execute_result"
    }
   ],
   "source": [
    "simplify(abc - bca)"
   ]
  },
  {
   "cell_type": "code",
   "execution_count": 9,
   "id": "79c24083",
   "metadata": {},
   "outputs": [
    {
     "data": {
      "image/png": "[encoded data removed]",
      "text/latex": [
       "$\\displaystyle 0$"
      ],
      "text/plain": [
       "0"
      ]
     },
     "execution_count": 9,
     "metadata": {},
     "output_type": "execute_result"
    }
   ],
   "source": [
    "simplify(abc - cab)"
   ]
  },
  {
   "cell_type": "code",
   "execution_count": 10,
   "id": "a45c59a3",
   "metadata": {},
   "outputs": [
    {
     "data": {
      "image/png": "[encoded data removed]",
      "text/latex": [
       "$\\displaystyle 0$"
      ],
      "text/plain": [
       "0"
      ]
     },
     "execution_count": 10,
     "metadata": {},
     "output_type": "execute_result"
    }
   ],
   "source": [
    "simplify(bca - cab)"
   ]
  },
  {
   "cell_type": "code",
   "execution_count": 11,
   "id": "d454b633",
   "metadata": {},
   "outputs": [
    {
     "data": {
      "image/png": "[encoded data removed]",
      "text/latex": [
       "$\\displaystyle \\left[\\begin{matrix}a_{0} & a_{1} & a_{2}\\\\b_{0} & b_{1} & b_{2}\\\\c_{0} & c_{1} & c_{2}\\end{matrix}\\right]$"
      ],
      "text/plain": [
       "⎡a₀  a₁  a₂⎤\n",
       "⎢          ⎥\n",
       "⎢b₀  b₁  b₂⎥\n",
       "⎢          ⎥\n",
       "⎣c₀  c₁  c₂⎦"
      ]
     },
     "execution_count": 11,
     "metadata": {},
     "output_type": "execute_result"
    }
   ],
   "source": [
    "m = Matrix([A.T, B.T, C.T])\n",
    "m"
   ]
  },
  {
   "cell_type": "code",
   "execution_count": 12,
   "id": "e335a27c",
   "metadata": {},
   "outputs": [
    {
     "data": {
      "image/png": "[encoded data removed]",
      "text/latex": [
       "$\\displaystyle a_{0} b_{1} c_{2} - a_{0} b_{2} c_{1} - a_{1} b_{0} c_{2} + a_{1} b_{2} c_{0} + a_{2} b_{0} c_{1} - a_{2} b_{1} c_{0}$"
      ],
      "text/plain": [
       "a₀⋅b₁⋅c₂ - a₀⋅b₂⋅c₁ - a₁⋅b₀⋅c₂ + a₁⋅b₂⋅c₀ + a₂⋅b₀⋅c₁ - a₂⋅b₁⋅c₀"
      ]
     },
     "execution_count": 12,
     "metadata": {},
     "output_type": "execute_result"
    }
   ],
   "source": [
    "dtrmnt = m.det()\n",
    "simplify(dtrmnt)"
   ]
  },
  {
   "cell_type": "code",
   "execution_count": 13,
   "id": "2f7bff58",
   "metadata": {},
   "outputs": [
    {
     "data": {
      "image/png": "[encoded data removed]",
      "text/latex": [
       "$\\displaystyle 0$"
      ],
      "text/plain": [
       "0"
      ]
     },
     "execution_count": 13,
     "metadata": {},
     "output_type": "execute_result"
    }
   ],
   "source": [
    "simplify(dtrmnt - abc)"
   ]
  },
  {
   "cell_type": "code",
   "execution_count": 14,
   "id": "60159455",
   "metadata": {},
   "outputs": [
    {
     "data": {
      "image/png": "[encoded data removed]",
      "text/latex": [
       "$\\displaystyle 0$"
      ],
      "text/plain": [
       "0"
      ]
     },
     "execution_count": 14,
     "metadata": {},
     "output_type": "execute_result"
    }
   ],
   "source": [
    "simplify(dtrmnt - bca)"
   ]
  },
  {
   "cell_type": "code",
   "execution_count": 15,
   "id": "2a991fab",
   "metadata": {},
   "outputs": [
    {
     "data": {
      "image/png": "[encoded data removed]",
      "text/latex": [
       "$\\displaystyle 0$"
      ],
      "text/plain": [
       "0"
      ]
     },
     "execution_count": 15,
     "metadata": {},
     "output_type": "execute_result"
    }
   ],
   "source": [
    "simplify(dtrmnt - cab)"
   ]
  },
  {
   "cell_type": "markdown",
   "id": "f293cd23",
   "metadata": {},
   "source": [
    "# Assignment 40"
   ]
  },
  {
   "cell_type": "markdown",
   "id": "b8118bf3",
   "metadata": {},
   "source": [
    "## The gradient of a rotationally symmetric function"
   ]
  },
  {
   "cell_type": "code",
   "execution_count": 16,
   "id": "2a6ffdec",
   "metadata": {},
   "outputs": [],
   "source": [
    "from sympy.vector import CoordSys3D\n",
    "\n",
    "N = CoordSys3D(\"N\")\n",
    "# define grad\n",
    "x, y, z = symbols(\"x,y,z\", real=True)\n",
    "grad = (\n",
    "    lambda phi: Derivative(phi, x) * N.i\n",
    "    + Derivative(phi, y) * N.j\n",
    "    + Derivative(phi, z) * N.k\n",
    ")\n",
    "r = sqrt(x**2 + y**2 + z**2)\n",
    "G = Function(\"G\")(r)"
   ]
  },
  {
   "cell_type": "code",
   "execution_count": 17,
   "id": "7d8622b3",
   "metadata": {},
   "outputs": [
    {
     "data": {
      "image/png": "[encoded data removed]",
      "text/latex": [
       "$\\displaystyle \\left(\\frac{\\partial}{\\partial x} G{\\left(\\sqrt{x^{2} + y^{2} + z^{2}} \\right)}\\right)\\mathbf{\\hat{i}_{N}} + \\left(\\frac{\\partial}{\\partial y} G{\\left(\\sqrt{x^{2} + y^{2} + z^{2}} \\right)}\\right)\\mathbf{\\hat{j}_{N}} + \\left(\\frac{\\partial}{\\partial z} G{\\left(\\sqrt{x^{2} + y^{2} + z^{2}} \\right)}\\right)\\mathbf{\\hat{k}_{N}}$"
      ],
      "text/plain": [
       "⎛  ⎛ ⎛   ______________⎞⎞⎞       ⎛  ⎛ ⎛   ______________⎞⎞⎞       ⎛  ⎛ ⎛   ___\n",
       "⎜∂ ⎜ ⎜  ╱  2    2    2 ⎟⎟⎟ i_N + ⎜∂ ⎜ ⎜  ╱  2    2    2 ⎟⎟⎟ j_N + ⎜∂ ⎜ ⎜  ╱  2\n",
       "⎜──⎝G⎝╲╱  x  + y  + z  ⎠⎠⎟       ⎜──⎝G⎝╲╱  x  + y  + z  ⎠⎠⎟       ⎜──⎝G⎝╲╱  x \n",
       "⎝∂x                      ⎠       ⎝∂y                      ⎠       ⎝∂z         \n",
       "\n",
       "___________⎞⎞⎞    \n",
       "    2    2 ⎟⎟⎟ k_N\n",
       " + y  + z  ⎠⎠⎟    \n",
       "             ⎠    "
      ]
     },
     "execution_count": 17,
     "metadata": {},
     "output_type": "execute_result"
    }
   ],
   "source": [
    "grad(G)"
   ]
  },
  {
   "cell_type": "code",
   "execution_count": 18,
   "id": "0d021d04",
   "metadata": {},
   "outputs": [
    {
     "data": {
      "image/png": "[encoded data removed]",
      "text/latex": [
       "$\\displaystyle \\left(\\frac{x \\left. \\frac{d}{d \\xi_{1}} G{\\left(\\xi_{1} \\right)} \\right|_{\\substack{ \\xi_{1}=\\sqrt{x^{2} + y^{2} + z^{2}} }}}{\\sqrt{x^{2} + y^{2} + z^{2}}}\\right)\\mathbf{\\hat{i}_{N}} + \\left(\\frac{y \\left. \\frac{d}{d \\xi_{1}} G{\\left(\\xi_{1} \\right)} \\right|_{\\substack{ \\xi_{1}=\\sqrt{x^{2} + y^{2} + z^{2}} }}}{\\sqrt{x^{2} + y^{2} + z^{2}}}\\right)\\mathbf{\\hat{j}_{N}} + \\left(\\frac{z \\left. \\frac{d}{d \\xi_{1}} G{\\left(\\xi_{1} \\right)} \\right|_{\\substack{ \\xi_{1}=\\sqrt{x^{2} + y^{2} + z^{2}} }}}{\\sqrt{x^{2} + y^{2} + z^{2}}}\\right)\\mathbf{\\hat{k}_{N}}$"
      ],
      "text/plain": [
       "⎛  ⎛ d        ⎞│      ______________⎞       ⎛  ⎛ d        ⎞│      ____________\n",
       "⎜x⋅⎜───(G(ξ₁))⎟│     ╱  2    2    2 ⎟ i_N + ⎜y⋅⎜───(G(ξ₁))⎟│     ╱  2    2    \n",
       "⎜  ⎝dξ₁       ⎠│ξ₁=╲╱  x  + y  + z  ⎟       ⎜  ⎝dξ₁       ⎠│ξ₁=╲╱  x  + y  + z\n",
       "⎜───────────────────────────────────⎟       ⎜─────────────────────────────────\n",
       "⎜            ______________         ⎟       ⎜            ______________       \n",
       "⎜           ╱  2    2    2          ⎟       ⎜           ╱  2    2    2        \n",
       "⎝         ╲╱  x  + y  + z           ⎠       ⎝         ╲╱  x  + y  + z         \n",
       "\n",
       "__⎞       ⎛  ⎛ d        ⎞│      ______________⎞    \n",
       "2 ⎟ j_N + ⎜z⋅⎜───(G(ξ₁))⎟│     ╱  2    2    2 ⎟ k_N\n",
       "  ⎟       ⎜  ⎝dξ₁       ⎠│ξ₁=╲╱  x  + y  + z  ⎟    \n",
       "──⎟       ⎜───────────────────────────────────⎟    \n",
       "  ⎟       ⎜            ______________         ⎟    \n",
       "  ⎟       ⎜           ╱  2    2    2          ⎟    \n",
       "  ⎠       ⎝         ╲╱  x  + y  + z           ⎠    "
      ]
     },
     "execution_count": 18,
     "metadata": {},
     "output_type": "execute_result"
    }
   ],
   "source": [
    "grad(G).doit()"
   ]
  },
  {
   "cell_type": "code",
   "execution_count": 19,
   "id": "1ea20618",
   "metadata": {},
   "outputs": [
    {
     "data": {
      "image/png": "[encoded data removed]",
      "text/latex": [
       "$\\displaystyle \\left(\\frac{x \\left. \\frac{d}{d \\xi_{1}} G{\\left(\\xi_{1} \\right)} \\right|_{\\substack{ \\xi_{1}=\\sqrt{x^{2} + y^{2} + z^{2}} }}}{\\sqrt{x^{2} + y^{2} + z^{2}}}\\right)\\mathbf{\\hat{i}_{N}} + \\left(\\frac{y \\left. \\frac{d}{d \\xi_{1}} G{\\left(\\xi_{1} \\right)} \\right|_{\\substack{ \\xi_{1}=\\sqrt{x^{2} + y^{2} + z^{2}} }}}{\\sqrt{x^{2} + y^{2} + z^{2}}}\\right)\\mathbf{\\hat{j}_{N}} + \\left(\\frac{z \\left. \\frac{d}{d \\xi_{1}} G{\\left(\\xi_{1} \\right)} \\right|_{\\substack{ \\xi_{1}=\\sqrt{x^{2} + y^{2} + z^{2}} }}}{\\sqrt{x^{2} + y^{2} + z^{2}}}\\right)\\mathbf{\\hat{k}_{N}}$"
      ],
      "text/plain": [
       "⎛  ⎛ d        ⎞│      ______________⎞       ⎛  ⎛ d        ⎞│      ____________\n",
       "⎜x⋅⎜───(G(ξ₁))⎟│     ╱  2    2    2 ⎟ i_N + ⎜y⋅⎜───(G(ξ₁))⎟│     ╱  2    2    \n",
       "⎜  ⎝dξ₁       ⎠│ξ₁=╲╱  x  + y  + z  ⎟       ⎜  ⎝dξ₁       ⎠│ξ₁=╲╱  x  + y  + z\n",
       "⎜───────────────────────────────────⎟       ⎜─────────────────────────────────\n",
       "⎜            ______________         ⎟       ⎜            ______________       \n",
       "⎜           ╱  2    2    2          ⎟       ⎜           ╱  2    2    2        \n",
       "⎝         ╲╱  x  + y  + z           ⎠       ⎝         ╲╱  x  + y  + z         \n",
       "\n",
       "__⎞       ⎛  ⎛ d        ⎞│      ______________⎞    \n",
       "2 ⎟ j_N + ⎜z⋅⎜───(G(ξ₁))⎟│     ╱  2    2    2 ⎟ k_N\n",
       "  ⎟       ⎜  ⎝dξ₁       ⎠│ξ₁=╲╱  x  + y  + z  ⎟    \n",
       "──⎟       ⎜───────────────────────────────────⎟    \n",
       "  ⎟       ⎜            ______________         ⎟    \n",
       "  ⎟       ⎜           ╱  2    2    2          ⎟    \n",
       "  ⎠       ⎝         ╲╱  x  + y  + z           ⎠    "
      ]
     },
     "execution_count": 19,
     "metadata": {},
     "output_type": "execute_result"
    }
   ],
   "source": [
    "simplify(grad(G).doit())"
   ]
  },
  {
   "cell_type": "markdown",
   "id": "e1f62ea5",
   "metadata": {},
   "source": [
    "Now, in the above we can factor out the common factor of $$\\frac{d}{d\\xi_{1}}G(\\xi_{1})\\Big\\vert_{\\xi_{1} = \\sqrt{x^{2} + y^{2} + z^{2}}} = \\frac{d}{dr}G(r)\\Big\\vert_{r = \\sqrt{x^{2} + y^{2} + z^{2}}}$$\n",
    "\n",
    "where we have used the fact that $\\xi_{1} = r = \\sqrt{x^{2} + y^{2} + z^{2}}$. \n",
    "\n",
    "Then the expression above becomes $$\\Big(\\frac{x\\hat{\\mathbf{i}} + y\\hat{\\mathbf{j}} + z\\hat{\\mathbf{k}}}{\\sqrt{x^{2} + y^{2} + z^{2}}}\\Big)\\frac{d}{dr}G(r)$$\n",
    "\n",
    "where the deriivative is understood to be evaluated at $r = \\sqrt{x^{2} + y^{2} + z^{2}}$.\n",
    "\n",
    "Finally, we observe that $$\\mathbf{r} = x\\hat{\\mathbf{i}} + y\\hat{\\mathbf{j}} + z\\hat{\\mathbf{k}}$$\n",
    "\n",
    "Thus the expression above can be written as $$\\frac{\\mathbf{r}}{r}\\frac{dG(r)}{dr} = \\mathbf{\\hat{e}}_{r}\\frac{dG(r)}{dr}$$"
   ]
  },
  {
   "cell_type": "markdown",
   "id": "220423e7",
   "metadata": {},
   "source": [
    "# Assignment 41"
   ]
  },
  {
   "cell_type": "markdown",
   "id": "b2ed7a08",
   "metadata": {},
   "source": [
    "## Divergence of a radial vector field"
   ]
  },
  {
   "cell_type": "code",
   "execution_count": 20,
   "id": "3fb98382",
   "metadata": {},
   "outputs": [],
   "source": [
    "from sympy.vector import divergence\n",
    "\n",
    "div = (\n",
    "    lambda V: Derivative(V.components[N.i], x)\n",
    "    + Derivative(V.components[N.j], y)\n",
    "    + Derivative(V.components[N.k], z)\n",
    ")\n",
    "x, y, z = symbols(\"x,y,z\", real=True, positive=True)\n",
    "R = x * N.i + y * N.j + z * N.k\n",
    "r = sqrt(x**2 + y**2 + z**2)\n",
    "f = Function(\"f\")(r)\n",
    "v = (R) * f"
   ]
  },
  {
   "cell_type": "code",
   "execution_count": 21,
   "id": "f5c4898b",
   "metadata": {},
   "outputs": [
    {
     "data": {
      "image/png": "[encoded data removed]",
      "text/latex": [
       "$\\displaystyle \\left(x f{\\left(\\sqrt{x^{2} + y^{2} + z^{2}} \\right)}\\right)\\mathbf{\\hat{i}_{N}} + \\left(y f{\\left(\\sqrt{x^{2} + y^{2} + z^{2}} \\right)}\\right)\\mathbf{\\hat{j}_{N}} + \\left(z f{\\left(\\sqrt{x^{2} + y^{2} + z^{2}} \\right)}\\right)\\mathbf{\\hat{k}_{N}}$"
      ],
      "text/plain": [
       "⎛   ⎛   ______________⎞⎞       ⎛   ⎛   ______________⎞⎞       ⎛   ⎛   ________\n",
       "⎜   ⎜  ╱  2    2    2 ⎟⎟ i_N + ⎜   ⎜  ╱  2    2    2 ⎟⎟ j_N + ⎜   ⎜  ╱  2    2\n",
       "⎝x⋅f⎝╲╱  x  + y  + z  ⎠⎠       ⎝y⋅f⎝╲╱  x  + y  + z  ⎠⎠       ⎝z⋅f⎝╲╱  x  + y \n",
       "\n",
       "______⎞⎞    \n",
       "    2 ⎟⎟ k_N\n",
       " + z  ⎠⎠    "
      ]
     },
     "execution_count": 21,
     "metadata": {},
     "output_type": "execute_result"
    }
   ],
   "source": [
    "v"
   ]
  },
  {
   "cell_type": "code",
   "execution_count": 22,
   "id": "6d9264d8",
   "metadata": {},
   "outputs": [
    {
     "data": {
      "image/png": "[encoded data removed]",
      "text/latex": [
       "$\\displaystyle \\frac{\\partial}{\\partial x} x f{\\left(\\sqrt{x^{2} + y^{2} + z^{2}} \\right)} + \\frac{\\partial}{\\partial y} y f{\\left(\\sqrt{x^{2} + y^{2} + z^{2}} \\right)} + \\frac{\\partial}{\\partial z} z f{\\left(\\sqrt{x^{2} + y^{2} + z^{2}} \\right)}$"
      ],
      "text/plain": [
       "  ⎛   ⎛   ______________⎞⎞     ⎛   ⎛   ______________⎞⎞     ⎛   ⎛   __________\n",
       "∂ ⎜   ⎜  ╱  2    2    2 ⎟⎟   ∂ ⎜   ⎜  ╱  2    2    2 ⎟⎟   ∂ ⎜   ⎜  ╱  2    2  \n",
       "──⎝x⋅f⎝╲╱  x  + y  + z  ⎠⎠ + ──⎝y⋅f⎝╲╱  x  + y  + z  ⎠⎠ + ──⎝z⋅f⎝╲╱  x  + y  +\n",
       "∂x                           ∂y                           ∂z                  \n",
       "\n",
       "____⎞⎞\n",
       "  2 ⎟⎟\n",
       " z  ⎠⎠\n",
       "      "
      ]
     },
     "execution_count": 22,
     "metadata": {},
     "output_type": "execute_result"
    }
   ],
   "source": [
    "div(v)"
   ]
  },
  {
   "cell_type": "code",
   "execution_count": 23,
   "id": "75a4c32e",
   "metadata": {},
   "outputs": [
    {
     "data": {
      "image/png": "[encoded data removed]",
      "text/latex": [
       "$\\displaystyle \\frac{x^{2} \\left. \\frac{d}{d \\xi_{1}} f{\\left(\\xi_{1} \\right)} \\right|_{\\substack{ \\xi_{1}=\\sqrt{x^{2} + y^{2} + z^{2}} }}}{\\sqrt{x^{2} + y^{2} + z^{2}}} + \\frac{y^{2} \\left. \\frac{d}{d \\xi_{1}} f{\\left(\\xi_{1} \\right)} \\right|_{\\substack{ \\xi_{1}=\\sqrt{x^{2} + y^{2} + z^{2}} }}}{\\sqrt{x^{2} + y^{2} + z^{2}}} + \\frac{z^{2} \\left. \\frac{d}{d \\xi_{1}} f{\\left(\\xi_{1} \\right)} \\right|_{\\substack{ \\xi_{1}=\\sqrt{x^{2} + y^{2} + z^{2}} }}}{\\sqrt{x^{2} + y^{2} + z^{2}}} + 3 f{\\left(\\sqrt{x^{2} + y^{2} + z^{2}} \\right)}$"
      ],
      "text/plain": [
       " 2 ⎛ d        ⎞│      ______________    2 ⎛ d        ⎞│      ______________   \n",
       "x ⋅⎜───(f(ξ₁))⎟│     ╱  2    2    2    y ⋅⎜───(f(ξ₁))⎟│     ╱  2    2    2    \n",
       "   ⎝dξ₁       ⎠│ξ₁=╲╱  x  + y  + z        ⎝dξ₁       ⎠│ξ₁=╲╱  x  + y  + z     \n",
       "──────────────────────────────────── + ──────────────────────────────────── + \n",
       "            ______________                         ______________             \n",
       "           ╱  2    2    2                         ╱  2    2    2              \n",
       "         ╲╱  x  + y  + z                        ╲╱  x  + y  + z               \n",
       "\n",
       " 2 ⎛ d        ⎞│      ______________                         \n",
       "z ⋅⎜───(f(ξ₁))⎟│     ╱  2    2    2       ⎛   ______________⎞\n",
       "   ⎝dξ₁       ⎠│ξ₁=╲╱  x  + y  + z        ⎜  ╱  2    2    2 ⎟\n",
       "──────────────────────────────────── + 3⋅f⎝╲╱  x  + y  + z  ⎠\n",
       "            ______________                                   \n",
       "           ╱  2    2    2                                    \n",
       "         ╲╱  x  + y  + z                                     "
      ]
     },
     "execution_count": 23,
     "metadata": {},
     "output_type": "execute_result"
    }
   ],
   "source": [
    "simplify(div(v))"
   ]
  },
  {
   "cell_type": "code",
   "execution_count": 24,
   "id": "61d2df57",
   "metadata": {},
   "outputs": [],
   "source": [
    "l = factor(simplify(div(v) - 3 * f))"
   ]
  },
  {
   "cell_type": "code",
   "execution_count": 25,
   "id": "dbc9e3bd",
   "metadata": {},
   "outputs": [
    {
     "data": {
      "image/png": "[encoded data removed]",
      "text/latex": [
       "$\\displaystyle \\sqrt{x^{2} + y^{2} + z^{2}} \\left. \\frac{d}{d \\xi_{1}} f{\\left(\\xi_{1} \\right)} \\right|_{\\substack{ \\xi_{1}=\\sqrt{x^{2} + y^{2} + z^{2}} }}$"
      ],
      "text/plain": [
       "   ______________                                  \n",
       "  ╱  2    2    2  ⎛ d        ⎞│      ______________\n",
       "╲╱  x  + y  + z  ⋅⎜───(f(ξ₁))⎟│     ╱  2    2    2 \n",
       "                  ⎝dξ₁       ⎠│ξ₁=╲╱  x  + y  + z  "
      ]
     },
     "execution_count": 25,
     "metadata": {},
     "output_type": "execute_result"
    }
   ],
   "source": [
    "l"
   ]
  },
  {
   "cell_type": "code",
   "execution_count": 26,
   "id": "58e78b72",
   "metadata": {},
   "outputs": [],
   "source": [
    "r = 3 * f"
   ]
  },
  {
   "cell_type": "code",
   "execution_count": 27,
   "id": "9beefa00",
   "metadata": {},
   "outputs": [
    {
     "data": {
      "image/png": "[encoded data removed]",
      "text/latex": [
       "$\\displaystyle 3 f{\\left(\\sqrt{x^{2} + y^{2} + z^{2}} \\right)}$"
      ],
      "text/plain": [
       "   ⎛   ______________⎞\n",
       "   ⎜  ╱  2    2    2 ⎟\n",
       "3⋅f⎝╲╱  x  + y  + z  ⎠"
      ]
     },
     "execution_count": 27,
     "metadata": {},
     "output_type": "execute_result"
    }
   ],
   "source": [
    "r"
   ]
  },
  {
   "cell_type": "code",
   "execution_count": 28,
   "id": "a91999d3",
   "metadata": {},
   "outputs": [],
   "source": [
    "sol = l + r"
   ]
  },
  {
   "cell_type": "code",
   "execution_count": 29,
   "id": "7420bbee",
   "metadata": {},
   "outputs": [
    {
     "data": {
      "image/png": "[encoded data removed]",
      "text/latex": [
       "$\\displaystyle \\sqrt{x^{2} + y^{2} + z^{2}} \\left. \\frac{d}{d \\xi_{1}} f{\\left(\\xi_{1} \\right)} \\right|_{\\substack{ \\xi_{1}=\\sqrt{x^{2} + y^{2} + z^{2}} }} + 3 f{\\left(\\sqrt{x^{2} + y^{2} + z^{2}} \\right)}$"
      ],
      "text/plain": [
       "   ______________                                        ⎛   ______________⎞\n",
       "  ╱  2    2    2  ⎛ d        ⎞│      ______________      ⎜  ╱  2    2    2 ⎟\n",
       "╲╱  x  + y  + z  ⋅⎜───(f(ξ₁))⎟│     ╱  2    2    2  + 3⋅f⎝╲╱  x  + y  + z  ⎠\n",
       "                  ⎝dξ₁       ⎠│ξ₁=╲╱  x  + y  + z                           "
      ]
     },
     "execution_count": 29,
     "metadata": {},
     "output_type": "execute_result"
    }
   ],
   "source": [
    "sol"
   ]
  },
  {
   "cell_type": "markdown",
   "id": "067b05ef",
   "metadata": {},
   "source": [
    "# Assignment 42"
   ]
  },
  {
   "cell_type": "markdown",
   "id": "8300cb3b",
   "metadata": {},
   "source": [
    "## Identities Involving the Del Operator\n",
    "### (12.57)"
   ]
  },
  {
   "cell_type": "code",
   "execution_count": 30,
   "id": "5c14d6d4",
   "metadata": {},
   "outputs": [],
   "source": [
    "from sympy.vector import Del, Divergence\n",
    "\n",
    "vecXdel = (\n",
    "    lambda U, V: U.components[N.i] * Derivative(V.components[N.i], x) * N.i\n",
    "    + U.components[N.j] * Derivative(V.components[N.j], y) * N.j\n",
    "    + U.components[N.k] * Derivative(V.components[N.k], z) * N.k\n",
    ")\n",
    "ai, aj, ak, bi, bj, bk = symbols(\"a_{i},a_{j},a_{k},b_{i},b_{j},b_{k}\", real=True)\n",
    "A = ai * N.i + aj * N.j + ak * N.k\n",
    "B = bi * N.i + bj * N.j + bk * N.k\n",
    "delop = Del()"
   ]
  },
  {
   "cell_type": "code",
   "execution_count": 31,
   "id": "f6020542",
   "metadata": {},
   "outputs": [
    {
     "data": {
      "image/png": "[encoded data removed]",
      "text/latex": [
       "$\\displaystyle \\left(a_{i}\\right)\\mathbf{\\hat{i}_{N}} + \\left(a_{j}\\right)\\mathbf{\\hat{j}_{N}} + \\left(a_{k}\\right)\\mathbf{\\hat{k}_{N}}$"
      ],
      "text/plain": [
       "(a_{i}) i_N + (a_{j}) j_N + (a_{k}) k_N"
      ]
     },
     "execution_count": 31,
     "metadata": {},
     "output_type": "execute_result"
    }
   ],
   "source": [
    "A"
   ]
  },
  {
   "cell_type": "code",
   "execution_count": 32,
   "id": "148cf168",
   "metadata": {},
   "outputs": [
    {
     "data": {
      "image/png": "[encoded data removed]",
      "text/latex": [
       "$\\displaystyle \\left(b_{i}\\right)\\mathbf{\\hat{i}_{N}} + \\left(b_{j}\\right)\\mathbf{\\hat{j}_{N}} + \\left(b_{k}\\right)\\mathbf{\\hat{k}_{N}}$"
      ],
      "text/plain": [
       "(b_{i}) i_N + (b_{j}) j_N + (b_{k}) k_N"
      ]
     },
     "execution_count": 32,
     "metadata": {},
     "output_type": "execute_result"
    }
   ],
   "source": [
    "B"
   ]
  },
  {
   "cell_type": "code",
   "execution_count": 33,
   "id": "d4e752d7",
   "metadata": {},
   "outputs": [],
   "source": [
    "AXB = A.cross(B)"
   ]
  },
  {
   "cell_type": "code",
   "execution_count": 34,
   "id": "bb919441",
   "metadata": {},
   "outputs": [
    {
     "data": {
      "image/png": "[encoded data removed]",
      "text/latex": [
       "$\\displaystyle \\left(a_{j} b_{k} - a_{k} b_{j}\\right)\\mathbf{\\hat{i}_{N}} + \\left(- a_{i} b_{k} + a_{k} b_{i}\\right)\\mathbf{\\hat{j}_{N}} + \\left(a_{i} b_{j} - a_{j} b_{i}\\right)\\mathbf{\\hat{k}_{N}}$"
      ],
      "text/plain": [
       "(a_{j}⋅b_{k} - a_{k}⋅b_{j}) i_N + (-a_{i}⋅b_{k} + a_{k}⋅b_{i}) j_N + (a_{i}⋅b_\n",
       "{j} - a_{j}⋅b_{i}) k_N"
      ]
     },
     "execution_count": 34,
     "metadata": {},
     "output_type": "execute_result"
    }
   ],
   "source": [
    "AXB"
   ]
  },
  {
   "cell_type": "code",
   "execution_count": 35,
   "id": "8df6aa22",
   "metadata": {},
   "outputs": [],
   "source": [
    "DelAXB = delop.cross(A.cross(B))"
   ]
  },
  {
   "cell_type": "code",
   "execution_count": 36,
   "id": "7ccadf2e",
   "metadata": {},
   "outputs": [
    {
     "data": {
      "image/png": "[encoded data removed]",
      "text/latex": [
       "$\\displaystyle \\left(\\frac{\\partial}{\\partial \\mathbf{{y}_{N}}} \\left(a_{i} b_{j} - a_{j} b_{i}\\right) - \\frac{\\partial}{\\partial \\mathbf{{z}_{N}}} \\left(- a_{i} b_{k} + a_{k} b_{i}\\right)\\right)\\mathbf{\\hat{i}_{N}} + \\left(- \\frac{\\partial}{\\partial \\mathbf{{x}_{N}}} \\left(a_{i} b_{j} - a_{j} b_{i}\\right) + \\frac{\\partial}{\\partial \\mathbf{{z}_{N}}} \\left(a_{j} b_{k} - a_{k} b_{j}\\right)\\right)\\mathbf{\\hat{j}_{N}} + \\left(\\frac{\\partial}{\\partial \\mathbf{{x}_{N}}} \\left(- a_{i} b_{k} + a_{k} b_{i}\\right) - \\frac{\\partial}{\\partial \\mathbf{{y}_{N}}} \\left(a_{j} b_{k} - a_{k} b_{j}\\right)\\right)\\mathbf{\\hat{k}_{N}}$"
      ],
      "text/plain": [
       "⎛ ∂                                 ∂                              ⎞       ⎛  \n",
       "⎜────(a_{i}⋅b_{j} - a_{j}⋅b_{i}) - ────(-a_{i}⋅b_{k} + a_{k}⋅b_{i})⎟ i_N + ⎜- \n",
       "⎝∂y_N                              ∂z_N                            ⎠       ⎝  \n",
       "\n",
       " ∂                                 ∂                             ⎞       ⎛ ∂  \n",
       "────(a_{i}⋅b_{j} - a_{j}⋅b_{i}) + ────(a_{j}⋅b_{k} - a_{k}⋅b_{j})⎟ j_N + ⎜────\n",
       "∂x_N                              ∂z_N                           ⎠       ⎝∂x_N\n",
       "\n",
       "                                ∂                             ⎞    \n",
       "(-a_{i}⋅b_{k} + a_{k}⋅b_{i}) - ────(a_{j}⋅b_{k} - a_{k}⋅b_{j})⎟ k_N\n",
       "                               ∂y_N                           ⎠    "
      ]
     },
     "execution_count": 36,
     "metadata": {},
     "output_type": "execute_result"
    }
   ],
   "source": [
    "DelAXB"
   ]
  },
  {
   "cell_type": "code",
   "execution_count": 37,
   "id": "7336598f",
   "metadata": {},
   "outputs": [],
   "source": [
    "RHS1 = A * (Divergence(B)) - B * (Divergence(A))"
   ]
  },
  {
   "cell_type": "code",
   "execution_count": 38,
   "id": "b661a644",
   "metadata": {},
   "outputs": [
    {
     "data": {
      "image/png": "[encoded data removed]",
      "text/latex": [
       "$\\displaystyle \\left(a_{i} \\left(\\nabla\\cdot \\left(\\left(b_{i}\\right)\\mathbf{\\hat{i}_{N}} + \\left(b_{j}\\right)\\mathbf{\\hat{j}_{N}} + \\left(b_{k}\\right)\\mathbf{\\hat{k}_{N}}\\right)\\right) - b_{i} \\left(\\nabla\\cdot \\left(\\left(a_{i}\\right)\\mathbf{\\hat{i}_{N}} + \\left(a_{j}\\right)\\mathbf{\\hat{j}_{N}} + \\left(a_{k}\\right)\\mathbf{\\hat{k}_{N}}\\right)\\right)\\right)\\mathbf{\\hat{i}_{N}} + \\left(a_{j} \\left(\\nabla\\cdot \\left(\\left(b_{i}\\right)\\mathbf{\\hat{i}_{N}} + \\left(b_{j}\\right)\\mathbf{\\hat{j}_{N}} + \\left(b_{k}\\right)\\mathbf{\\hat{k}_{N}}\\right)\\right) - b_{j} \\left(\\nabla\\cdot \\left(\\left(a_{i}\\right)\\mathbf{\\hat{i}_{N}} + \\left(a_{j}\\right)\\mathbf{\\hat{j}_{N}} + \\left(a_{k}\\right)\\mathbf{\\hat{k}_{N}}\\right)\\right)\\right)\\mathbf{\\hat{j}_{N}} + \\left(a_{k} \\left(\\nabla\\cdot \\left(\\left(b_{i}\\right)\\mathbf{\\hat{i}_{N}} + \\left(b_{j}\\right)\\mathbf{\\hat{j}_{N}} + \\left(b_{k}\\right)\\mathbf{\\hat{k}_{N}}\\right)\\right) - b_{k} \\left(\\nabla\\cdot \\left(\\left(a_{i}\\right)\\mathbf{\\hat{i}_{N}} + \\left(a_{j}\\right)\\mathbf{\\hat{j}_{N}} + \\left(a_{k}\\right)\\mathbf{\\hat{k}_{N}}\\right)\\right)\\right)\\mathbf{\\hat{k}_{N}}$"
      ],
      "text/plain": [
       "(a_{i}⋅∇⋅((b_{i}) i_N + (b_{j}) j_N + (b_{k}) k_N) - b_{i}⋅∇⋅((a_{i}) i_N + (a\n",
       "_{j}) j_N + (a_{k}) k_N)) i_N + (a_{j}⋅∇⋅((b_{i}) i_N + (b_{j}) j_N + (b_{k}) \n",
       "k_N) - b_{j}⋅∇⋅((a_{i}) i_N + (a_{j}) j_N + (a_{k}) k_N)) j_N + (a_{k}⋅∇⋅((b_{\n",
       "i}) i_N + (b_{j}) j_N + (b_{k}) k_N) - b_{k}⋅∇⋅((a_{i}) i_N + (a_{j}) j_N + (a\n",
       "_{k}) k_N)) k_N"
      ]
     },
     "execution_count": 38,
     "metadata": {},
     "output_type": "execute_result"
    }
   ],
   "source": [
    "RHS1"
   ]
  },
  {
   "cell_type": "code",
   "execution_count": 39,
   "id": "2db556d9",
   "metadata": {},
   "outputs": [],
   "source": [
    "RHS2 = vecXdel(B, A)"
   ]
  },
  {
   "cell_type": "code",
   "execution_count": 40,
   "id": "beaa5646",
   "metadata": {},
   "outputs": [],
   "source": [
    "RHS3 = vecXdel(A, B)"
   ]
  },
  {
   "cell_type": "code",
   "execution_count": 41,
   "id": "6014ee80",
   "metadata": {},
   "outputs": [
    {
     "data": {
      "image/png": "[encoded data removed]",
      "text/latex": [
       "$\\displaystyle \\left(a_{i} \\frac{d}{d x} b_{i} + b_{i} \\frac{d}{d x} a_{i}\\right)\\mathbf{\\hat{i}_{N}} + \\left(a_{j} \\frac{d}{d y} b_{j} + b_{j} \\frac{d}{d y} a_{j}\\right)\\mathbf{\\hat{j}_{N}} + \\left(a_{k} \\frac{d}{d z} b_{k} + b_{k} \\frac{d}{d z} a_{k}\\right)\\mathbf{\\hat{k}_{N}}$"
      ],
      "text/plain": [
       "⎛      d                 d        ⎞       ⎛      d                 d        ⎞ \n",
       "⎜a_{i}⋅──(b_{i}) + b_{i}⋅──(a_{i})⎟ i_N + ⎜a_{j}⋅──(b_{j}) + b_{j}⋅──(a_{j})⎟ \n",
       "⎝      dx                dx       ⎠       ⎝      dy                dy       ⎠ \n",
       "\n",
       "      ⎛      d                 d        ⎞    \n",
       "j_N + ⎜a_{k}⋅──(b_{k}) + b_{k}⋅──(a_{k})⎟ k_N\n",
       "      ⎝      dz                dz       ⎠    "
      ]
     },
     "execution_count": 41,
     "metadata": {},
     "output_type": "execute_result"
    }
   ],
   "source": [
    "RHS2 + RHS3"
   ]
  },
  {
   "cell_type": "code",
   "execution_count": 42,
   "id": "8f9e79d0",
   "metadata": {},
   "outputs": [],
   "source": [
    "RHS = RHS1 + RHS2 + RHS3"
   ]
  },
  {
   "cell_type": "code",
   "execution_count": 43,
   "id": "ea6148c6",
   "metadata": {},
   "outputs": [
    {
     "data": {
      "image/png": "[encoded data removed]",
      "text/latex": [
       "$\\displaystyle \\left(a_{i} \\frac{d}{d x} b_{i} + a_{i} \\left(\\nabla\\cdot \\left(\\left(b_{i}\\right)\\mathbf{\\hat{i}_{N}} + \\left(b_{j}\\right)\\mathbf{\\hat{j}_{N}} + \\left(b_{k}\\right)\\mathbf{\\hat{k}_{N}}\\right)\\right) + b_{i} \\frac{d}{d x} a_{i} - b_{i} \\left(\\nabla\\cdot \\left(\\left(a_{i}\\right)\\mathbf{\\hat{i}_{N}} + \\left(a_{j}\\right)\\mathbf{\\hat{j}_{N}} + \\left(a_{k}\\right)\\mathbf{\\hat{k}_{N}}\\right)\\right)\\right)\\mathbf{\\hat{i}_{N}} + \\left(a_{j} \\frac{d}{d y} b_{j} + a_{j} \\left(\\nabla\\cdot \\left(\\left(b_{i}\\right)\\mathbf{\\hat{i}_{N}} + \\left(b_{j}\\right)\\mathbf{\\hat{j}_{N}} + \\left(b_{k}\\right)\\mathbf{\\hat{k}_{N}}\\right)\\right) + b_{j} \\frac{d}{d y} a_{j} - b_{j} \\left(\\nabla\\cdot \\left(\\left(a_{i}\\right)\\mathbf{\\hat{i}_{N}} + \\left(a_{j}\\right)\\mathbf{\\hat{j}_{N}} + \\left(a_{k}\\right)\\mathbf{\\hat{k}_{N}}\\right)\\right)\\right)\\mathbf{\\hat{j}_{N}} + \\left(a_{k} \\frac{d}{d z} b_{k} + a_{k} \\left(\\nabla\\cdot \\left(\\left(b_{i}\\right)\\mathbf{\\hat{i}_{N}} + \\left(b_{j}\\right)\\mathbf{\\hat{j}_{N}} + \\left(b_{k}\\right)\\mathbf{\\hat{k}_{N}}\\right)\\right) + b_{k} \\frac{d}{d z} a_{k} - b_{k} \\left(\\nabla\\cdot \\left(\\left(a_{i}\\right)\\mathbf{\\hat{i}_{N}} + \\left(a_{j}\\right)\\mathbf{\\hat{j}_{N}} + \\left(a_{k}\\right)\\mathbf{\\hat{k}_{N}}\\right)\\right)\\right)\\mathbf{\\hat{k}_{N}}$"
      ],
      "text/plain": [
       "⎛      d                                                                     d\n",
       "⎜a_{i}⋅──(b_{i}) + a_{i}⋅∇⋅((b_{i})  + (b_{j}) j_N + (b_{k}) k_N) + b_{i}⋅──(a\n",
       "⎝      dx                                                                    d\n",
       "\n",
       "                                                            ⎞ ⎛      d        \n",
       "_{i}) - b_{i}⋅∇⋅((a_{i})  + (a_{j}) j_N + (a_{k}) k_N)⎟ i_N + ⎜a_{j}⋅──(b_{j})\n",
       "x                                                           ⎠ ⎝      dy       \n",
       "\n",
       "                                                             d                \n",
       " + a_{j}⋅∇⋅((b_{i}) i_N + (b_{j})  + (b_{k}) k_N) + b_{j}⋅──(a_{j}) - b_{j}⋅∇⋅\n",
       "                                                             dy               \n",
       "\n",
       "                                            ⎞ ⎛      d                        \n",
       "((a_{i}) i_N + (a_{j})  + (a_{k}) k_N)⎟ j_N + ⎜a_{k}⋅──(b_{k}) + a_{k}⋅∇⋅((b_{\n",
       "                                            ⎠ ⎝      dz                       \n",
       "\n",
       "                                             d                                \n",
       "i}) i_N + (b_{j}) j_N + (b_{k}) ) + b_{k}⋅──(a_{k}) - b_{k}⋅∇⋅((a_{i}) i_N + (\n",
       "                                             dz                               \n",
       "\n",
       "                           \n",
       "a_{j}) j_N + (a_{k}) )⎟ k_N\n",
       "                           "
      ]
     },
     "execution_count": 43,
     "metadata": {},
     "output_type": "execute_result"
    }
   ],
   "source": [
    "RHS"
   ]
  },
  {
   "cell_type": "code",
   "execution_count": 44,
   "id": "dc695a28",
   "metadata": {},
   "outputs": [
    {
     "data": {
      "image/png": "[encoded data removed]",
      "text/latex": [
       "$\\displaystyle \\mathbf{\\hat{0}}$"
      ],
      "text/plain": [
       "0"
      ]
     },
     "execution_count": 44,
     "metadata": {},
     "output_type": "execute_result"
    }
   ],
   "source": [
    "simplify(DelAXB - RHS)"
   ]
  },
  {
   "cell_type": "markdown",
   "id": "938625fe",
   "metadata": {},
   "source": [
    "### (12.58)"
   ]
  },
  {
   "cell_type": "code",
   "execution_count": 45,
   "id": "26bd7b9d",
   "metadata": {},
   "outputs": [],
   "source": [
    "from sympy.vector import curl\n",
    "AdotB = A.dot(B)"
   ]
  },
  {
   "cell_type": "code",
   "execution_count": 46,
   "id": "75f55344",
   "metadata": {},
   "outputs": [
    {
     "data": {
      "image/png": "[encoded data removed]",
      "text/latex": [
       "$\\displaystyle a_{i} b_{i} + a_{j} b_{j} + a_{k} b_{k}$"
      ],
      "text/plain": [
       "a_{i}⋅b_{i} + a_{j}⋅b_{j} + a_{k}⋅b_{k}"
      ]
     },
     "execution_count": 46,
     "metadata": {},
     "output_type": "execute_result"
    }
   ],
   "source": [
    "AdotB"
   ]
  },
  {
   "cell_type": "code",
   "execution_count": 47,
   "id": "99d7ba74",
   "metadata": {},
   "outputs": [],
   "source": [
    "LHS = grad(A.dot(B))"
   ]
  },
  {
   "cell_type": "code",
   "execution_count": 48,
   "id": "41b1b33b",
   "metadata": {},
   "outputs": [
    {
     "data": {
      "image/png": "[encoded data removed]",
      "text/latex": [
       "$\\displaystyle \\left(\\frac{\\partial}{\\partial x} \\left(a_{i} b_{i} + a_{j} b_{j} + a_{k} b_{k}\\right)\\right)\\mathbf{\\hat{i}_{N}} + \\left(\\frac{\\partial}{\\partial y} \\left(a_{i} b_{i} + a_{j} b_{j} + a_{k} b_{k}\\right)\\right)\\mathbf{\\hat{j}_{N}} + \\left(\\frac{\\partial}{\\partial z} \\left(a_{i} b_{i} + a_{j} b_{j} + a_{k} b_{k}\\right)\\right)\\mathbf{\\hat{k}_{N}}$"
      ],
      "text/plain": [
       "⎛∂                                          ⎞       ⎛∂                        \n",
       "⎜──(a_{i}⋅b_{i} + a_{j}⋅b_{j} + a_{k}⋅b_{k})⎟ i_N + ⎜──(a_{i}⋅b_{i} + a_{j}⋅b_\n",
       "⎝∂x                                         ⎠       ⎝∂y                       \n",
       "\n",
       "                  ⎞       ⎛∂                                          ⎞    \n",
       "{j} + a_{k}⋅b_{k})⎟ j_N + ⎜──(a_{i}⋅b_{i} + a_{j}⋅b_{j} + a_{k}⋅b_{k})⎟ k_N\n",
       "                  ⎠       ⎝∂z                                         ⎠    "
      ]
     },
     "execution_count": 48,
     "metadata": {},
     "output_type": "execute_result"
    }
   ],
   "source": [
    "LHS"
   ]
  },
  {
   "cell_type": "code",
   "execution_count": 49,
   "id": "04ded3c0",
   "metadata": {},
   "outputs": [],
   "source": [
    "RHS = vecXdel(A, B) + vecXdel(B, A) + A.cross(curl(B)) + B.cross(curl(A))"
   ]
  },
  {
   "cell_type": "code",
   "execution_count": 50,
   "id": "b7c58ce6",
   "metadata": {},
   "outputs": [
    {
     "data": {
      "image/png": "[encoded data removed]",
      "text/latex": [
       "$\\displaystyle \\left(a_{i} \\frac{d}{d x} b_{i} + b_{i} \\frac{d}{d x} a_{i}\\right)\\mathbf{\\hat{i}_{N}} + \\left(a_{j} \\frac{d}{d y} b_{j} + b_{j} \\frac{d}{d y} a_{j}\\right)\\mathbf{\\hat{j}_{N}} + \\left(a_{k} \\frac{d}{d z} b_{k} + b_{k} \\frac{d}{d z} a_{k}\\right)\\mathbf{\\hat{k}_{N}}$"
      ],
      "text/plain": [
       "⎛      d                 d        ⎞       ⎛      d                 d        ⎞ \n",
       "⎜a_{i}⋅──(b_{i}) + b_{i}⋅──(a_{i})⎟ i_N + ⎜a_{j}⋅──(b_{j}) + b_{j}⋅──(a_{j})⎟ \n",
       "⎝      dx                dx       ⎠       ⎝      dy                dy       ⎠ \n",
       "\n",
       "      ⎛      d                 d        ⎞    \n",
       "j_N + ⎜a_{k}⋅──(b_{k}) + b_{k}⋅──(a_{k})⎟ k_N\n",
       "      ⎝      dz                dz       ⎠    "
      ]
     },
     "execution_count": 50,
     "metadata": {},
     "output_type": "execute_result"
    }
   ],
   "source": [
    "RHS"
   ]
  },
  {
   "cell_type": "code",
   "execution_count": 51,
   "id": "ea2425fe",
   "metadata": {},
   "outputs": [
    {
     "data": {
      "image/png": "[encoded data removed]",
      "text/latex": [
       "$\\displaystyle \\mathbf{\\hat{0}}$"
      ],
      "text/plain": [
       "0"
      ]
     },
     "execution_count": 51,
     "metadata": {},
     "output_type": "execute_result"
    }
   ],
   "source": [
    "simplify(LHS - RHS)"
   ]
  },
  {
   "cell_type": "code",
   "execution_count": null,
   "id": "60d046a8",
   "metadata": {},
   "outputs": [],
   "source": []
  }
 ],
 "metadata": {
  "kernelspec": {
   "display_name": "Python 3 (ipykernel)",
   "language": "python",
   "name": "python3"
  },
  "language_info": {
   "codemirror_mode": {
    "name": "ipython",
    "version": 3
   },
   "file_extension": ".py",
   "mimetype": "text/x-python",
   "name": "python",
   "nbconvert_exporter": "python",
   "pygments_lexer": "ipython3",
   "version": "3.10.7"
  }
 },
 "nbformat": 4,
 "nbformat_minor": 5
}
