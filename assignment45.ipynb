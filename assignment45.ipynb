{
 "cells": [
  {
   "cell_type": "markdown",
   "metadata": {},
   "source": [
    "# Assignment 12.45\n",
    "\n",
    "## The Gradient\n",
    "\n",
    "Demonstration with sympy of the validity of the formula: $$\\nabla\\phi = \\lim_{l \\rightarrow 0} \\frac{\\int_{S}\\phi d\\mathbf{S}}{l^{3}} $$\n",
    "\n",
    "### Formal Argument:\n",
    "\n",
    "$\\mathbf{function:} \\ \\ \\phi(x, y, z)$\n",
    "\n",
    "$\\mathbf{gradient \\ operator:} \\ \\ \\nabla = \\partial_{x}\\hat{\\mathbf{x}} + \\partial_{y}\\hat{\\mathbf{y}} + \\partial_{z}\\hat{\\mathbf{z}}$\n",
    "\n",
    "S1, S2, S3, and S4 are the front, bottom rear and top faces respectively. S5 and S6 are the left and right faces.\n",
    "\n",
    "Let's consider faces S1 and S3 first. On S1, $d\\mathbf{S} = dydz\\mathbf{\\hat{x}}$. Similarly, on S2 $d\\mathbf{S} = -dydz\\mathbf{\\hat{x}}$. Thus our integral over the front and rear faces of the cube becomes: \n",
    "\n",
    "$$\\int_{S1 + S2}\\phi \\ d\\mathbf{S} =\\Big( \\int_{z=0}^{l}  \\int_{y=0}^{l} \\phi(l, y, z) dydz - \\int_{z=0}^{l}  \\int_{y=0}^{l} \\phi(0, y, z) dydz\\Big)\\mathbf{\\hat{x}}$$\n",
    "\n",
    "$$=\\Big(\\int_{z=0}^{l}  \\int_{y=0}^{l} (\\phi(l, y, z) -  \\phi(0, y, z))dydz\\Big)\\mathbf{\\hat{x}}$$\n",
    "\n",
    "If we taylor expand each term in the integrand with the expansion centered on the centor of the cube, and keep only terms up to the first order, we get: \n",
    "\n",
    "$$S1: \\phi(x, y, z)\\Big\\vert_{(x = l/2, y = l/2, z = l / 2)} + \\nabla \\phi(x, y, z)\\Big\\vert_{x=l/2, y=l/2, z=l/2} \\cdot \\mathbf{\\hat{r_{1}}} - \\mathbf{\\hat{r_{c}}}$$\n",
    "\n",
    "$$S3: \\phi(x, y, z)\\Big\\vert_{(x = l/2, y = l/2, z = l / 2)} + \\nabla \\phi(x, y, z)\\Big\\vert_{x=l/2, y=l/2, z=l/2} \\cdot \\mathbf{\\hat{r_{3}}} - \\mathbf{\\hat{r_{c}}}$$\n",
    "\n",
    "Now, $$\\nabla \\phi(x, y, z) = \\partial_{x}\\phi(x, y, z)\\hat{\\mathbf{x}} + \\partial_{y}\\phi(x, y, z)\\hat{\\mathbf{y}} + \\partial_{z}\\phi(x, y, z)\\hat{\\mathbf{z}}$$\n",
    "\n",
    "We also have,\n",
    "\n",
    "$$\\mathbf{\\hat{r_{1}}} - \\mathbf{\\hat{r_{c}}} = (l/2)\\mathbf{\\hat{x}} +  (y - l/2)\\mathbf{\\hat{y}}  +  (z - l/2)\\mathbf{\\hat{z}} $$\n",
    "\n",
    "and\n",
    "\n",
    "$$\\mathbf{\\hat{r_{3}}} - \\mathbf{\\hat{r_{c}}} = (-l/2)\\mathbf{\\hat{x}} +  (y - l/2)\\mathbf{\\hat{y}}  +  (z - l/2)\\mathbf{\\hat{z}} $$\n",
    "\n",
    "Thus, the taylor expansions to first order over S1 and S3 become: \n",
    "\n",
    "$$S1: \\phi(l/2, l/2, l/2) + (\\partial_{x}\\phi(l/2, l/2, l/2)\\hat{\\mathbf{x}} + \\partial_{y}\\phi(l/2, l/2, l/2)\\hat{\\mathbf{y}} + \\partial_{z}\\phi(l/2, l/2, l/2)\\hat{\\mathbf{z}}) \\cdot \\mathbf{\\hat{r_{1}}} - \\mathbf{\\hat{r_{c}}}$$\n",
    "\n",
    "$$=  \\phi(l/2, l/2, l/2) + \\partial_{x}\\phi(l/2, l/2, l/2)(l/2) + \\partial_{y}\\phi(l/2, l/2, l/2)(y - l/2) + \\partial_{z}\\phi(l, l/2, l/2)(z - l/2)$$\n",
    "\n",
    "\n",
    "Similarly, over $S3$ we have: \n",
    "$$S3:  \\phi(l/2, l/2, l/2) + \\partial_{x}\\phi(l/2, l/2, l/2)(- l/2) + \\partial_{y}\\phi(l/2, l/2, l/2)(y - l/2) + \\partial_{z}\\phi(l/2, l/2, l/2)(z - l/2)$$\n",
    "\n",
    "Subtracting the integrand over S1 from the integrand over S3, we get cancellation of all terms in the first order taylor series expansion except for the $x$ terms:\n",
    "\n",
    "$$\\text{Integrand: } l \\times \\partial_{x}\\phi(l/2, l/2, l/2) $$\n",
    "\n",
    "This integrand is in fact constant with respect to both $y$ and $z$. Thus, we have: \n",
    "\n",
    "$$\\Big(\\int_{z=0}^{l}  \\int_{y=0}^{l} (\\phi(l, y, z) -  \\phi(0, y, z))dydz\\Big)\\mathbf{\\hat{x}} =\\Big(\\int_{z=0}^{l}  \\int_{y=0}^{l} (l \\times \\partial_{x}\\phi(l/2, l/2, l/2))dydz\\Big)\\mathbf{\\hat{x}}$$\n",
    "\n",
    "$$=\\Big((l \\times \\partial_{x}\\phi(l/2, l/2, l/2))\\int_{z=0}^{l}  \\int_{y=0}^{l}dydz\\Big)\\mathbf{\\hat{x}}$$\n",
    "\n",
    "$$=\\Big(l^{3} \\times \\partial_{x}\\phi(l/2, l/2, l/2))\\Big)\\mathbf{\\hat{x}}$$\n",
    "\n",
    "But then, by symmetry, we have for the integrals for the other opposing pairs of faces:\n",
    "\n",
    "$$=\\Big(l^{3} \\times \\partial_{y}\\phi(l/2, l/2, l/2))\\Big)\\mathbf{\\hat{y}}$$\n",
    "\n",
    "and\n",
    "\n",
    "$$=\\Big(l^{3} \\times \\partial_{z}\\phi(l/2, l/2, l/2))\\Big)\\mathbf{\\hat{z}}.$$\n",
    "\n",
    "But then, \n",
    "\n",
    "$$\\lim_{l \\rightarrow 0} \\frac{\\int_{S}\\phi d\\mathbf{S}}{l^{3}}$$\n",
    "$$ = \\lim_{l \\rightarrow 0} \\frac{l^{3}(\\partial_{x}\\phi(l/2, l/2, l/2)\\mathbf{\\hat{x}} + \\partial_{y}\\phi(l/2, l/2, l/2)\\mathbf{\\hat{y}} + \\partial_{z}\\phi(l/2, l/2, l/2)\\mathbf{\\hat{z}})}{l^{3}}$$\n",
    "$$ = \\lim_{l \\rightarrow 0} (\\partial_{x}\\phi(l/2, l/2, l/2)\\mathbf{\\hat{x}} + \\partial_{y}\\phi(l/2, l/2, l/2)\\mathbf{\\hat{y}} + \\partial_{z}\\phi(l/2, l/2, l/2)\\mathbf{\\hat{z}})$$\n",
    "$$ = \\partial_{x}\\phi(0, 0, 0)\\mathbf{\\hat{x}} + \\partial_{y}\\phi(0, 0, 0)\\mathbf{\\hat{y}} + \\partial_{z}\\phi(0, 0, 0)\\mathbf{\\hat{z}}$$\n",
    "$$=\\nabla \\cdot \\phi \\Big\\vert_{x=0, y=0, z=0}$$\n",
    "\n",
    "We placed the rear,lower left corner of the cube at the origin. But clearly, the same argument will suffice - \\textit{mutatis mutandis} - to demonstrate the equivalence of the differential and integral forms for any point $x_{0}, y_{0}, z_{0}$. We need only place the rear, lower left corner of the cube at that point, and repeat the above argument."
   ]
  },
  {
   "cell_type": "code",
   "execution_count": 1,
   "metadata": {},
   "outputs": [],
   "source": [
    "from sympy import *\n",
    "from sympy.vector import CoordSys3D\n",
    "\n",
    "N = CoordSys3D('N')\n",
    "x,y,z,l = symbols('x,y,z,l')\n",
    "r = x*N.i + y*N.j + z*N.k\n",
    "rc = l/2*N.i + l/2*N.j + l/2*N.k\n",
    "\n",
    "surfaces = {'S1':(l, y, z), 'S2':(x, y, 0), 'S3':(0, y, z), 'S4':(x, y, l), 'S5':(x, 0, z), 'S6':(x, l, z)}\n",
    "\n",
    "phi = Function('phi')(x, y, z)\n",
    "\n",
    "dx = diff(phi, x)\n",
    "dy = diff(phi, y)\n",
    "dz = diff(phi, z)\n",
    "\n",
    "grad = lambda f: diff(f, x)*N.i + diff(f, y)*N.j + diff(f, z)*N.k\n",
    "\n",
    "def first_ordr_taylor_srs(fn, P):\n",
    "    const = fn.subs(x, P[0]).subs(y, P[1]).subs(z, P[2]) \n",
    "    grad_fn = grad(fn).subs({x:P[0], y:P[1], z:P[2]})\n",
    "    return const + grad_fn.dot(r - rc)\n",
    "\n",
    "\n",
    "def evalu8(Si, Sj, fn, P, _var, idx):\n",
    "    f1 = first_ordr_taylor_srs(fn, P).subs(_var, surfaces[Si][idx])\n",
    "    f2 = first_ordr_taylor_srs(fn, P).subs(_var, surfaces[Sj][idx])\n",
    "    return f1 - f2\n",
    "\n",
    "def intrgr8_opposing(fn, _vars, uv):\n",
    "    return integrate(integrate(fn, (_vars[0], 0, l)), (_vars[1], 0, l))*uv\n",
    "\n",
    "def intrgr8():\n",
    "    return (intrgr8_opposing(evalu8('S1', 'S3', phi, [l/2,l/2,l/2], x, 0), (y, z), N.i) + \n",
    "            intrgr8_opposing(evalu8('S4', 'S2', phi, [l/2,l/2,l/2], z, 2), (y, z), N.j) +\n",
    "            intrgr8_opposing(evalu8('S6', 'S5', phi, [l/2,l/2,l/2], y, 1), (y, z), N.k))"
   ]
  },
  {
   "cell_type": "code",
   "execution_count": 2,
   "metadata": {},
   "outputs": [
    {
     "data": {
      "text/latex": [
       "$\\displaystyle (x)\\mathbf{\\hat{i}_{N}} + (y)\\mathbf{\\hat{j}_{N}} + (z)\\mathbf{\\hat{k}_{N}}$"
      ],
      "text/plain": [
       "x*N.i + y*N.j + z*N.k"
      ]
     },
     "execution_count": 2,
     "metadata": {},
     "output_type": "execute_result"
    }
   ],
   "source": [
    "r"
   ]
  },
  {
   "cell_type": "code",
   "execution_count": 3,
   "metadata": {},
   "outputs": [
    {
     "data": {
      "text/latex": [
       "$\\displaystyle (\\frac{l}{2})\\mathbf{\\hat{i}_{N}} + (\\frac{l}{2})\\mathbf{\\hat{j}_{N}} + (\\frac{l}{2})\\mathbf{\\hat{k}_{N}}$"
      ],
      "text/plain": [
       "l/2*N.i + l/2*N.j + l/2*N.k"
      ]
     },
     "execution_count": 3,
     "metadata": {},
     "output_type": "execute_result"
    }
   ],
   "source": [
    "rc"
   ]
  },
  {
   "cell_type": "code",
   "execution_count": 4,
   "metadata": {},
   "outputs": [
    {
     "data": {
      "text/latex": [
       "$\\displaystyle \\phi{\\left(x,y,z \\right)}$"
      ],
      "text/plain": [
       "phi(x, y, z)"
      ]
     },
     "execution_count": 4,
     "metadata": {},
     "output_type": "execute_result"
    }
   ],
   "source": [
    "phi"
   ]
  },
  {
   "cell_type": "code",
   "execution_count": 5,
   "metadata": {},
   "outputs": [
    {
     "data": {
      "text/latex": [
       "$\\displaystyle (\\frac{\\partial}{\\partial x} \\phi{\\left(x,y,z \\right)})\\mathbf{\\hat{i}_{N}} + (\\frac{\\partial}{\\partial y} \\phi{\\left(x,y,z \\right)})\\mathbf{\\hat{j}_{N}} + (\\frac{\\partial}{\\partial z} \\phi{\\left(x,y,z \\right)})\\mathbf{\\hat{k}_{N}}$"
      ],
      "text/plain": [
       "(Derivative(phi(x, y, z), x))*N.i + (Derivative(phi(x, y, z), y))*N.j + (Derivative(phi(x, y, z), z))*N.k"
      ]
     },
     "execution_count": 5,
     "metadata": {},
     "output_type": "execute_result"
    }
   ],
   "source": [
    "grad(phi)"
   ]
  },
  {
   "cell_type": "code",
   "execution_count": 6,
   "metadata": {},
   "outputs": [
    {
     "data": {
      "text/latex": [
       "$\\displaystyle \\left(- \\frac{l}{2} + x\\right) \\left. \\frac{\\partial}{\\partial x} \\phi{\\left(x,\\frac{l}{2},\\frac{l}{2} \\right)} \\right|_{\\substack{ x=\\frac{l}{2} }} + \\left(- \\frac{l}{2} + y\\right) \\left. \\frac{\\partial}{\\partial y} \\phi{\\left(\\frac{l}{2},y,\\frac{l}{2} \\right)} \\right|_{\\substack{ y=\\frac{l}{2} }} + \\left(- \\frac{l}{2} + z\\right) \\left. \\frac{\\partial}{\\partial z} \\phi{\\left(\\frac{l}{2},\\frac{l}{2},z \\right)} \\right|_{\\substack{ z=\\frac{l}{2} }} + \\phi{\\left(\\frac{l}{2},\\frac{l}{2},\\frac{l}{2} \\right)}$"
      ],
      "text/plain": [
       "(-l/2 + x)*Subs(Derivative(phi(x, l/2, l/2), x), x, l/2) + (-l/2 + y)*Subs(Derivative(phi(l/2, y, l/2), y), y, l/2) + (-l/2 + z)*Subs(Derivative(phi(l/2, l/2, z), z), z, l/2) + phi(l/2, l/2, l/2)"
      ]
     },
     "execution_count": 6,
     "metadata": {},
     "output_type": "execute_result"
    }
   ],
   "source": [
    "first_ordr_taylor_srs(phi, [l/2, l/2, l/2])"
   ]
  },
  {
   "cell_type": "code",
   "execution_count": 7,
   "metadata": {},
   "outputs": [
    {
     "data": {
      "text/latex": [
       "$\\displaystyle l \\left. \\frac{\\partial}{\\partial x} \\phi{\\left(x,\\frac{l}{2},\\frac{l}{2} \\right)} \\right|_{\\substack{ x=\\frac{l}{2} }}$"
      ],
      "text/plain": [
       "l*Subs(Derivative(phi(x, l/2, l/2), x), x, l/2)"
      ]
     },
     "execution_count": 7,
     "metadata": {},
     "output_type": "execute_result"
    }
   ],
   "source": [
    "evalu8('S1', 'S3', phi, [l/2,l/2,l/2], x, 0)"
   ]
  },
  {
   "cell_type": "code",
   "execution_count": 8,
   "metadata": {},
   "outputs": [
    {
     "data": {
      "text/latex": [
       "$\\displaystyle l \\left. \\frac{\\partial}{\\partial z} \\phi{\\left(\\frac{l}{2},\\frac{l}{2},z \\right)} \\right|_{\\substack{ z=\\frac{l}{2} }}$"
      ],
      "text/plain": [
       "l*Subs(Derivative(phi(l/2, l/2, z), z), z, l/2)"
      ]
     },
     "execution_count": 8,
     "metadata": {},
     "output_type": "execute_result"
    }
   ],
   "source": [
    "evalu8('S4', 'S2', phi, [l/2,l/2,l/2],z, 2)"
   ]
  },
  {
   "cell_type": "code",
   "execution_count": 9,
   "metadata": {},
   "outputs": [
    {
     "data": {
      "text/latex": [
       "$\\displaystyle l \\left. \\frac{\\partial}{\\partial y} \\phi{\\left(\\frac{l}{2},y,\\frac{l}{2} \\right)} \\right|_{\\substack{ y=\\frac{l}{2} }}$"
      ],
      "text/plain": [
       "l*Subs(Derivative(phi(l/2, y, l/2), y), y, l/2)"
      ]
     },
     "execution_count": 9,
     "metadata": {},
     "output_type": "execute_result"
    }
   ],
   "source": [
    "evalu8('S6', 'S5', phi, [l/2,l/2,l/2],y, 1)"
   ]
  },
  {
   "cell_type": "code",
   "execution_count": 10,
   "metadata": {},
   "outputs": [],
   "source": [
    "result = intrgr8()/(l**3)"
   ]
  },
  {
   "cell_type": "code",
   "execution_count": 11,
   "metadata": {},
   "outputs": [
    {
     "data": {
      "text/latex": [
       "$\\displaystyle (\\left. \\frac{\\partial}{\\partial x} \\phi{\\left(x,\\frac{l}{2},\\frac{l}{2} \\right)} \\right|_{\\substack{ x=\\frac{l}{2} }})\\mathbf{\\hat{i}_{N}} + (\\left. \\frac{\\partial}{\\partial z} \\phi{\\left(\\frac{l}{2},\\frac{l}{2},z \\right)} \\right|_{\\substack{ z=\\frac{l}{2} }})\\mathbf{\\hat{j}_{N}} + (\\left. \\frac{\\partial}{\\partial y} \\phi{\\left(\\frac{l}{2},y,\\frac{l}{2} \\right)} \\right|_{\\substack{ y=\\frac{l}{2} }})\\mathbf{\\hat{k}_{N}}$"
      ],
      "text/plain": [
       "(Subs(Derivative(phi(x, l/2, l/2), x), x, l/2))*N.i + (Subs(Derivative(phi(l/2, l/2, z), z), z, l/2))*N.j + (Subs(Derivative(phi(l/2, y, l/2), y), y, l/2))*N.k"
      ]
     },
     "execution_count": 11,
     "metadata": {},
     "output_type": "execute_result"
    }
   ],
   "source": [
    "result"
   ]
  },
  {
   "cell_type": "markdown",
   "metadata": {},
   "source": [
    "Clearly, if we take the $\\lim_{l \\rightarrow \\infty}$ of the above expression, we obtain \n",
    "\n",
    "$$\\frac{\\partial}{\\partial_{x}}\\phi(0, 0, 0)\\mathbf{\\hat{i}} + \\frac{\\partial}{\\partial_{y}}\\phi(0, 0, 0)\\mathbf{\\hat{j}} + \\frac{\\partial}{\\partial_{z}}\\phi(0, 0, 0)\\mathbf{\\hat{k}}$$\n",
    "\n",
    "Which is precisely $$\\nabla\\phi(x, y, z)\\Big\\vert_{0, 0, 0}$$. \n",
    "\n",
    "Moreover, in sympy, we have"
   ]
  },
  {
   "cell_type": "code",
   "execution_count": 12,
   "metadata": {},
   "outputs": [
    {
     "data": {
      "text/latex": [
       "$\\displaystyle (\\left. \\frac{\\partial}{\\partial x} \\phi{\\left(x,\\frac{l}{2},\\frac{l}{2} \\right)} \\right|_{\\substack{ x=\\frac{l}{2} }})\\mathbf{\\hat{i}_{N}} + (\\left. \\frac{\\partial}{\\partial y} \\phi{\\left(\\frac{l}{2},y,\\frac{l}{2} \\right)} \\right|_{\\substack{ y=\\frac{l}{2} }})\\mathbf{\\hat{j}_{N}} + (\\left. \\frac{\\partial}{\\partial z} \\phi{\\left(\\frac{l}{2},\\frac{l}{2},z \\right)} \\right|_{\\substack{ z=\\frac{l}{2} }})\\mathbf{\\hat{k}_{N}}$"
      ],
      "text/plain": [
       "(Subs(Derivative(phi(x, l/2, l/2), x), x, l/2))*N.i + (Subs(Derivative(phi(l/2, y, l/2), y), y, l/2))*N.j + (Subs(Derivative(phi(l/2, l/2, z), z), z, l/2))*N.k"
      ]
     },
     "execution_count": 12,
     "metadata": {},
     "output_type": "execute_result"
    }
   ],
   "source": [
    "grad(phi).subs({x:l/2, y:l/2, z:l/2})"
   ]
  },
  {
   "cell_type": "markdown",
   "metadata": {},
   "source": [
    "whose limit as $l$ tends towards $0$ is clearly identical with the limit of the expression we got by evaluating the integral of the taylor series above. "
   ]
  },
  {
   "cell_type": "markdown",
   "metadata": {},
   "source": [
    "## The Divergence\n",
    "\n",
    "Demonstration with sympy of the validity of the equivalence $$\\nabla \\cdot \\mathbf{A} = \\lim_{l \\rightarrow 0} \\frac{\\int \\mathbf{A} \\cdot d\\mathbf{S}}{l^{3}} $$\n",
    "\n",
    "### Formal Argument\n",
    "\n",
    "Let $$\\mathbf{A} = A_{x}(x, y, z)\\mathbf{\\hat{i}} +A_{y}(x, y, z)\\mathbf{\\hat{j}} + A_{z}(x, y, z)\\mathbf{\\hat{k}}$$\n",
    "\n",
    "Because $\\mathbf{A}$ is a *vector field*, we now have *three* functions to taylor expand rather than the one function $\\phi$ we had above; namely, the $x$, $y$ and $z$ components of $\\mathbf{A}$. \n",
    "\n",
    "Letting $\\tau$ range over $\\{x, y, z\\}$, we have it that the first order taylor expansion of the $\\tau^{th}$ component of $\\mathbf{A}$ at the center of the cube of side length $l$ is given by: $$A_{\\tau}(l/2, l/2, l/2) + \\nabla A_{\\tau}(x, y, z)\\Big\\vert_{l/2, l/2. l/2} \\cdot \\mathbf{r} - \\mathbf{r_{c}}$$\n",
    "\n",
    "In terms of the taylor series' of the components, then, $\\mathbf{A}$ becomes:\n",
    "\n",
    "$$\\mathbf{A} = (A_{x}(l/2, l/2, l/2) + \\nabla A_{x}(l/2, l/2, l/2) \\cdot \\mathbf{r} - \\mathbf{r_{c}})\\mathbf{\\hat{i}} + (A_{y}(l/2, l/2, l/2) + \\nabla A_{y}(l/2, l/2, l/2) \\cdot \\mathbf{r} - \\mathbf{r_{c}})\\mathbf{\\hat{j}} + (A_{z}(l/2, l/2, l/2) + \\nabla A_{z}(l/2, l/2, l/2) \\cdot \\mathbf{r} - \\mathbf{r_{c}})\\mathbf{\\hat{k}}$$\n",
    "\n",
    "This expression seems formidable, but we will see that the orthogonality of surface element vectors kills off most of the terms.  \n",
    "\n",
    "For the front face of the cube, we then have for our integrand:\n",
    "\n",
    "$$\\mathbf{A} \\cdot dydz\\mathbf{\\hat{i}} = A_{x}(l/2, l/2, l/2) + \\nabla A_{x}(l/2, l/2, l/2) \\cdot \\mathbf{r} - \\mathbf{r_{c}}$$\n",
    "\n",
    "$$= A_{x}(l/2, l/2, l/2) + \\partial_{x}A_{x}(l/2, l/2, l/2)(l/2) + \\partial_{y}A_{x}(l/2, l/2, l/2)(y - l/2) + \\partial_{z}A_{x}(l/2, l/2, l/2)(z - l/2) \\ dydz$$\n",
    "\n",
    "\n",
    "\n",
    "Similarly, for the bottom face we obtain $$\\mathbf{A} \\cdot -dydz\\mathbf{\\hat{i}} = -A_{x}(l/2, l/2, l/2) + -\\partial_{x}A_{x}(l/2, l/2, l/2)(-l/2) + -\\partial_{y}A_{x}(l/2, l/2, l/2)(y - l/2) + -\\partial_{z}A_{x}(l/2, l/2, l/2)(z - l/2) \\ dydz$$\n",
    "\n",
    "We can combine these two integrands into a single integrand, observing that when we add the indiviudal integrands together we have cancellation of all the terms in pairs except for the term including the derivative with respect to $x$:\n",
    "\n",
    "$$\\text{Integrand for Front and Back Pair of Faces: } l \\times \\partial_{x}A_{x}(l/2, l/2, l/2) \\ dydz$$\n",
    "\n",
    "Similarly, we have \n",
    "\n",
    "$$\\text{Integrand for Top and Bottom Pair of Faces: } l \\times \\partial_{z}A_{z}(l/2, l/2, l/2) \\ dxdy$$\n",
    "\n",
    "and \n",
    "\n",
    "$$\\text{Integrand for Right and Left Pair of Faces: } l \\times \\partial_{y}A_{y}(l/2, l/2, l/2) \\ dxdz$$\n",
    "\n",
    "We will only explicitly evaluate the integral over the front and back faces, since the integrations over the remaining pairs of faces give nothing new. \n",
    "\n",
    "Over the front and back faces, we get:\n",
    "\n",
    "$$\\int_{S1 + S2} \\mathbf{A} \\cdot d\\mathbf{A} = l \\times \\partial_{x}A_{x}(l/2, l/2, l/2)\\int_{0}^{l}\\int_{0}^{l}dydz = l^{3} \\times \\partial_{x}A_{x}(l/2, l/2, l/2)$$\n",
    "\n",
    "Thus, adding in the analagous results for the other two pairs of faces, we obtain an overall result of:\n",
    "\n",
    "$$l^{3} \\times (\\partial_{x}A_{x}(l/2, l/2, l/2) + \\partial_{y}A_{y}(l/2, l/2, l/2) + \\partial_{z}A_{z}(l/2, l/2, l/2))$$\n",
    "\n",
    "Dividing by $l^{3}$ and taking the limit of the result as $l \\rightarrow 0$ then yields:\n",
    "\n",
    "$$\\partial_{x}A_{x}(0, 0, 0) + \\partial_{y}A_{y}(0, 0, 0) + \\partial_{z}A_{z}(0, 0, 0)$$\n",
    "\n",
    "This is clearly equivalent to $$\\nabla \\cdot \\mathbf{A}\\Big\\vert_{(0, 0, 0)}$$\n",
    "\n",
    "which is what was to be shown. "
   ]
  },
  {
   "cell_type": "code",
   "execution_count": 13,
   "metadata": {},
   "outputs": [],
   "source": [
    "Ax = Function('A_x')(x, y, z)\n",
    "Ay = Function('A_y')(x, y, z)\n",
    "Az = Function('A_z')(x, y, z)\n",
    "P = [l/2, l/2, l/2]"
   ]
  },
  {
   "cell_type": "code",
   "execution_count": 14,
   "metadata": {},
   "outputs": [
    {
     "data": {
      "text/latex": [
       "$\\displaystyle \\operatorname{A_{x}}{\\left(x,y,z \\right)}$"
      ],
      "text/plain": [
       "A_x(x, y, z)"
      ]
     },
     "execution_count": 14,
     "metadata": {},
     "output_type": "execute_result"
    }
   ],
   "source": [
    "Ax"
   ]
  },
  {
   "cell_type": "code",
   "execution_count": 15,
   "metadata": {},
   "outputs": [
    {
     "data": {
      "text/latex": [
       "$\\displaystyle \\operatorname{A_{y}}{\\left(x,y,z \\right)}$"
      ],
      "text/plain": [
       "A_y(x, y, z)"
      ]
     },
     "execution_count": 15,
     "metadata": {},
     "output_type": "execute_result"
    }
   ],
   "source": [
    "Ay"
   ]
  },
  {
   "cell_type": "code",
   "execution_count": 16,
   "metadata": {},
   "outputs": [
    {
     "data": {
      "text/latex": [
       "$\\displaystyle \\operatorname{A_{z}}{\\left(x,y,z \\right)}$"
      ],
      "text/plain": [
       "A_z(x, y, z)"
      ]
     },
     "execution_count": 16,
     "metadata": {},
     "output_type": "execute_result"
    }
   ],
   "source": [
    "Az"
   ]
  },
  {
   "cell_type": "code",
   "execution_count": 17,
   "metadata": {},
   "outputs": [],
   "source": [
    "Ax_taylor = first_ordr_taylor_srs(Ax, P)"
   ]
  },
  {
   "cell_type": "code",
   "execution_count": 18,
   "metadata": {},
   "outputs": [
    {
     "data": {
      "text/latex": [
       "$\\displaystyle \\left(- \\frac{l}{2} + x\\right) \\left. \\frac{\\partial}{\\partial x} \\operatorname{A_{x}}{\\left(x,\\frac{l}{2},\\frac{l}{2} \\right)} \\right|_{\\substack{ x=\\frac{l}{2} }} + \\left(- \\frac{l}{2} + y\\right) \\left. \\frac{\\partial}{\\partial y} \\operatorname{A_{x}}{\\left(\\frac{l}{2},y,\\frac{l}{2} \\right)} \\right|_{\\substack{ y=\\frac{l}{2} }} + \\left(- \\frac{l}{2} + z\\right) \\left. \\frac{\\partial}{\\partial z} \\operatorname{A_{x}}{\\left(\\frac{l}{2},\\frac{l}{2},z \\right)} \\right|_{\\substack{ z=\\frac{l}{2} }} + \\operatorname{A_{x}}{\\left(\\frac{l}{2},\\frac{l}{2},\\frac{l}{2} \\right)}$"
      ],
      "text/plain": [
       "(-l/2 + x)*Subs(Derivative(A_x(x, l/2, l/2), x), x, l/2) + (-l/2 + y)*Subs(Derivative(A_x(l/2, y, l/2), y), y, l/2) + (-l/2 + z)*Subs(Derivative(A_x(l/2, l/2, z), z), z, l/2) + A_x(l/2, l/2, l/2)"
      ]
     },
     "execution_count": 18,
     "metadata": {},
     "output_type": "execute_result"
    }
   ],
   "source": [
    "Ax_taylor"
   ]
  },
  {
   "cell_type": "code",
   "execution_count": 19,
   "metadata": {},
   "outputs": [],
   "source": [
    "Ay_taylor = first_ordr_taylor_srs(Ay, P)"
   ]
  },
  {
   "cell_type": "code",
   "execution_count": 20,
   "metadata": {},
   "outputs": [
    {
     "data": {
      "text/latex": [
       "$\\displaystyle \\left(- \\frac{l}{2} + x\\right) \\left. \\frac{\\partial}{\\partial x} \\operatorname{A_{y}}{\\left(x,\\frac{l}{2},\\frac{l}{2} \\right)} \\right|_{\\substack{ x=\\frac{l}{2} }} + \\left(- \\frac{l}{2} + y\\right) \\left. \\frac{\\partial}{\\partial y} \\operatorname{A_{y}}{\\left(\\frac{l}{2},y,\\frac{l}{2} \\right)} \\right|_{\\substack{ y=\\frac{l}{2} }} + \\left(- \\frac{l}{2} + z\\right) \\left. \\frac{\\partial}{\\partial z} \\operatorname{A_{y}}{\\left(\\frac{l}{2},\\frac{l}{2},z \\right)} \\right|_{\\substack{ z=\\frac{l}{2} }} + \\operatorname{A_{y}}{\\left(\\frac{l}{2},\\frac{l}{2},\\frac{l}{2} \\right)}$"
      ],
      "text/plain": [
       "(-l/2 + x)*Subs(Derivative(A_y(x, l/2, l/2), x), x, l/2) + (-l/2 + y)*Subs(Derivative(A_y(l/2, y, l/2), y), y, l/2) + (-l/2 + z)*Subs(Derivative(A_y(l/2, l/2, z), z), z, l/2) + A_y(l/2, l/2, l/2)"
      ]
     },
     "execution_count": 20,
     "metadata": {},
     "output_type": "execute_result"
    }
   ],
   "source": [
    "Ay_taylor"
   ]
  },
  {
   "cell_type": "code",
   "execution_count": 21,
   "metadata": {},
   "outputs": [],
   "source": [
    "Az_taylor = first_ordr_taylor_srs(Az, P)"
   ]
  },
  {
   "cell_type": "code",
   "execution_count": 22,
   "metadata": {},
   "outputs": [
    {
     "data": {
      "text/latex": [
       "$\\displaystyle \\left(- \\frac{l}{2} + x\\right) \\left. \\frac{\\partial}{\\partial x} \\operatorname{A_{z}}{\\left(x,\\frac{l}{2},\\frac{l}{2} \\right)} \\right|_{\\substack{ x=\\frac{l}{2} }} + \\left(- \\frac{l}{2} + y\\right) \\left. \\frac{\\partial}{\\partial y} \\operatorname{A_{z}}{\\left(\\frac{l}{2},y,\\frac{l}{2} \\right)} \\right|_{\\substack{ y=\\frac{l}{2} }} + \\left(- \\frac{l}{2} + z\\right) \\left. \\frac{\\partial}{\\partial z} \\operatorname{A_{z}}{\\left(\\frac{l}{2},\\frac{l}{2},z \\right)} \\right|_{\\substack{ z=\\frac{l}{2} }} + \\operatorname{A_{z}}{\\left(\\frac{l}{2},\\frac{l}{2},\\frac{l}{2} \\right)}$"
      ],
      "text/plain": [
       "(-l/2 + x)*Subs(Derivative(A_z(x, l/2, l/2), x), x, l/2) + (-l/2 + y)*Subs(Derivative(A_z(l/2, y, l/2), y), y, l/2) + (-l/2 + z)*Subs(Derivative(A_z(l/2, l/2, z), z), z, l/2) + A_z(l/2, l/2, l/2)"
      ]
     },
     "execution_count": 22,
     "metadata": {},
     "output_type": "execute_result"
    }
   ],
   "source": [
    "Az_taylor"
   ]
  },
  {
   "cell_type": "code",
   "execution_count": 23,
   "metadata": {},
   "outputs": [],
   "source": [
    "A = Ax_taylor * N.i + Ay_taylor * N.j + Az_taylor * N.k"
   ]
  },
  {
   "cell_type": "code",
   "execution_count": 24,
   "metadata": {},
   "outputs": [
    {
     "data": {
      "text/latex": [
       "$\\displaystyle (\\left(- \\frac{l}{2} + x\\right) \\left. \\frac{\\partial}{\\partial x} \\operatorname{A_{x}}{\\left(x,\\frac{l}{2},\\frac{l}{2} \\right)} \\right|_{\\substack{ x=\\frac{l}{2} }} + \\left(- \\frac{l}{2} + y\\right) \\left. \\frac{\\partial}{\\partial y} \\operatorname{A_{x}}{\\left(\\frac{l}{2},y,\\frac{l}{2} \\right)} \\right|_{\\substack{ y=\\frac{l}{2} }} + \\left(- \\frac{l}{2} + z\\right) \\left. \\frac{\\partial}{\\partial z} \\operatorname{A_{x}}{\\left(\\frac{l}{2},\\frac{l}{2},z \\right)} \\right|_{\\substack{ z=\\frac{l}{2} }} + \\operatorname{A_{x}}{\\left(\\frac{l}{2},\\frac{l}{2},\\frac{l}{2} \\right)})\\mathbf{\\hat{i}_{N}} + (\\left(- \\frac{l}{2} + x\\right) \\left. \\frac{\\partial}{\\partial x} \\operatorname{A_{y}}{\\left(x,\\frac{l}{2},\\frac{l}{2} \\right)} \\right|_{\\substack{ x=\\frac{l}{2} }} + \\left(- \\frac{l}{2} + y\\right) \\left. \\frac{\\partial}{\\partial y} \\operatorname{A_{y}}{\\left(\\frac{l}{2},y,\\frac{l}{2} \\right)} \\right|_{\\substack{ y=\\frac{l}{2} }} + \\left(- \\frac{l}{2} + z\\right) \\left. \\frac{\\partial}{\\partial z} \\operatorname{A_{y}}{\\left(\\frac{l}{2},\\frac{l}{2},z \\right)} \\right|_{\\substack{ z=\\frac{l}{2} }} + \\operatorname{A_{y}}{\\left(\\frac{l}{2},\\frac{l}{2},\\frac{l}{2} \\right)})\\mathbf{\\hat{j}_{N}} + (\\left(- \\frac{l}{2} + x\\right) \\left. \\frac{\\partial}{\\partial x} \\operatorname{A_{z}}{\\left(x,\\frac{l}{2},\\frac{l}{2} \\right)} \\right|_{\\substack{ x=\\frac{l}{2} }} + \\left(- \\frac{l}{2} + y\\right) \\left. \\frac{\\partial}{\\partial y} \\operatorname{A_{z}}{\\left(\\frac{l}{2},y,\\frac{l}{2} \\right)} \\right|_{\\substack{ y=\\frac{l}{2} }} + \\left(- \\frac{l}{2} + z\\right) \\left. \\frac{\\partial}{\\partial z} \\operatorname{A_{z}}{\\left(\\frac{l}{2},\\frac{l}{2},z \\right)} \\right|_{\\substack{ z=\\frac{l}{2} }} + \\operatorname{A_{z}}{\\left(\\frac{l}{2},\\frac{l}{2},\\frac{l}{2} \\right)})\\mathbf{\\hat{k}_{N}}$"
      ],
      "text/plain": [
       "((-l/2 + x)*Subs(Derivative(A_x(x, l/2, l/2), x), x, l/2) + (-l/2 + y)*Subs(Derivative(A_x(l/2, y, l/2), y), y, l/2) + (-l/2 + z)*Subs(Derivative(A_x(l/2, l/2, z), z), z, l/2) + A_x(l/2, l/2, l/2))*N.i + ((-l/2 + x)*Subs(Derivative(A_y(x, l/2, l/2), x), x, l/2) + (-l/2 + y)*Subs(Derivative(A_y(l/2, y, l/2), y), y, l/2) + (-l/2 + z)*Subs(Derivative(A_y(l/2, l/2, z), z), z, l/2) + A_y(l/2, l/2, l/2))*N.j + ((-l/2 + x)*Subs(Derivative(A_z(x, l/2, l/2), x), x, l/2) + (-l/2 + y)*Subs(Derivative(A_z(l/2, y, l/2), y), y, l/2) + (-l/2 + z)*Subs(Derivative(A_z(l/2, l/2, z), z), z, l/2) + A_z(l/2, l/2, l/2))*N.k"
      ]
     },
     "execution_count": 24,
     "metadata": {},
     "output_type": "execute_result"
    }
   ],
   "source": [
    "A"
   ]
  },
  {
   "cell_type": "code",
   "execution_count": 25,
   "metadata": {},
   "outputs": [
    {
     "data": {
      "text/latex": [
       "$\\displaystyle l \\left. \\frac{\\partial}{\\partial x} \\operatorname{A_{x}}{\\left(x,\\frac{l}{2},\\frac{l}{2} \\right)} \\right|_{\\substack{ x=\\frac{l}{2} }}$"
      ],
      "text/plain": [
       "l*Subs(Derivative(A_x(x, l/2, l/2), x), x, l/2)"
      ]
     },
     "execution_count": 25,
     "metadata": {},
     "output_type": "execute_result"
    }
   ],
   "source": [
    "S1_S3 = A.subs(x, l).dot(N.i) - A.subs(x, 0).dot(N.i)\n",
    "S1_S3"
   ]
  },
  {
   "cell_type": "code",
   "execution_count": 26,
   "metadata": {},
   "outputs": [
    {
     "data": {
      "text/latex": [
       "$\\displaystyle l \\left. \\frac{\\partial}{\\partial x} \\operatorname{A_{y}}{\\left(x,\\frac{l}{2},\\frac{l}{2} \\right)} \\right|_{\\substack{ x=\\frac{l}{2} }}$"
      ],
      "text/plain": [
       "l*Subs(Derivative(A_y(x, l/2, l/2), x), x, l/2)"
      ]
     },
     "execution_count": 26,
     "metadata": {},
     "output_type": "execute_result"
    }
   ],
   "source": [
    "S4_S2 = A.subs(x, l).dot(N.j) - A.subs(x, 0).dot(N.j)\n",
    "S4_S2"
   ]
  },
  {
   "cell_type": "code",
   "execution_count": 27,
   "metadata": {},
   "outputs": [
    {
     "data": {
      "text/latex": [
       "$\\displaystyle l \\left. \\frac{\\partial}{\\partial x} \\operatorname{A_{z}}{\\left(x,\\frac{l}{2},\\frac{l}{2} \\right)} \\right|_{\\substack{ x=\\frac{l}{2} }}$"
      ],
      "text/plain": [
       "l*Subs(Derivative(A_z(x, l/2, l/2), x), x, l/2)"
      ]
     },
     "execution_count": 27,
     "metadata": {},
     "output_type": "execute_result"
    }
   ],
   "source": [
    "S6_S5 = A.subs(x, l).dot(N.k) - A.subs(x, 0).dot(N.k)\n",
    "S6_S5"
   ]
  },
  {
   "cell_type": "code",
   "execution_count": 28,
   "metadata": {},
   "outputs": [],
   "source": [
    "intgrl = integrate(integrate(S1_S3, (y, 0, l)), (z, 0, l)) + integrate(integrate(S4_S2, (x, 0, l)), (y, 0, l)) + integrate(integrate(S6_S5, (x, 0, l)), (z, 0, l))"
   ]
  },
  {
   "cell_type": "code",
   "execution_count": 29,
   "metadata": {},
   "outputs": [
    {
     "data": {
      "text/latex": [
       "$\\displaystyle l^{3} \\left. \\frac{\\partial}{\\partial x} \\operatorname{A_{x}}{\\left(x,\\frac{l}{2},\\frac{l}{2} \\right)} \\right|_{\\substack{ x=\\frac{l}{2} }} + l^{3} \\left. \\frac{\\partial}{\\partial x} \\operatorname{A_{y}}{\\left(x,\\frac{l}{2},\\frac{l}{2} \\right)} \\right|_{\\substack{ x=\\frac{l}{2} }} + l^{3} \\left. \\frac{\\partial}{\\partial x} \\operatorname{A_{z}}{\\left(x,\\frac{l}{2},\\frac{l}{2} \\right)} \\right|_{\\substack{ x=\\frac{l}{2} }}$"
      ],
      "text/plain": [
       "l**3*Subs(Derivative(A_x(x, l/2, l/2), x), x, l/2) + l**3*Subs(Derivative(A_y(x, l/2, l/2), x), x, l/2) + l**3*Subs(Derivative(A_z(x, l/2, l/2), x), x, l/2)"
      ]
     },
     "execution_count": 29,
     "metadata": {},
     "output_type": "execute_result"
    }
   ],
   "source": [
    "intgrl"
   ]
  },
  {
   "cell_type": "code",
   "execution_count": 30,
   "metadata": {},
   "outputs": [
    {
     "data": {
      "text/latex": [
       "$\\displaystyle \\left. \\frac{\\partial}{\\partial x} \\operatorname{A_{x}}{\\left(x,\\frac{l}{2},\\frac{l}{2} \\right)} \\right|_{\\substack{ x=\\frac{l}{2} }} + \\left. \\frac{\\partial}{\\partial x} \\operatorname{A_{y}}{\\left(x,\\frac{l}{2},\\frac{l}{2} \\right)} \\right|_{\\substack{ x=\\frac{l}{2} }} + \\left. \\frac{\\partial}{\\partial x} \\operatorname{A_{z}}{\\left(x,\\frac{l}{2},\\frac{l}{2} \\right)} \\right|_{\\substack{ x=\\frac{l}{2} }}$"
      ],
      "text/plain": [
       "Subs(Derivative(A_x(x, l/2, l/2), x), x, l/2) + Subs(Derivative(A_y(x, l/2, l/2), x), x, l/2) + Subs(Derivative(A_z(x, l/2, l/2), x), x, l/2)"
      ]
     },
     "execution_count": 30,
     "metadata": {},
     "output_type": "execute_result"
    }
   ],
   "source": [
    "simplify(intgrl/l**3)"
   ]
  },
  {
   "cell_type": "markdown",
   "metadata": {},
   "source": [
    "Clearly, if we take the limit of the above with respect to $l$ as $l \\rightarrow 0$, we obtain:\n",
    "\n",
    "$$\\partial_{x}A_{x}(0, 0, 0) + \\partial_{y}A_{y}(0, 0, 0) + \\partial_{z}(A_{z}(0, 0, 0)$$\n",
    "\n",
    "This latter expression is clearly equivalent to $$\\nabla \\cdot \\mathbf{A}$$\n",
    "\n",
    "But we also have, from sympy:"
   ]
  },
  {
   "cell_type": "code",
   "execution_count": 31,
   "metadata": {},
   "outputs": [],
   "source": [
    "A = Ax*N.i + Ay*N.j + Az*N.k\n",
    "div = lambda V: diff(V.dot(N.i), x) + diff(V.dot(N.j), y) + diff(V.dot(N.k), z)"
   ]
  },
  {
   "cell_type": "code",
   "execution_count": 32,
   "metadata": {},
   "outputs": [
    {
     "data": {
      "text/latex": [
       "$\\displaystyle \\left. \\frac{\\partial}{\\partial x} \\operatorname{A_{x}}{\\left(x,\\frac{l}{2},\\frac{l}{2} \\right)} \\right|_{\\substack{ x=\\frac{l}{2} }} + \\left. \\frac{\\partial}{\\partial y} \\operatorname{A_{y}}{\\left(\\frac{l}{2},y,\\frac{l}{2} \\right)} \\right|_{\\substack{ y=\\frac{l}{2} }} + \\left. \\frac{\\partial}{\\partial z} \\operatorname{A_{z}}{\\left(\\frac{l}{2},\\frac{l}{2},z \\right)} \\right|_{\\substack{ z=\\frac{l}{2} }}$"
      ],
      "text/plain": [
       "Subs(Derivative(A_x(x, l/2, l/2), x), x, l/2) + Subs(Derivative(A_y(l/2, y, l/2), y), y, l/2) + Subs(Derivative(A_z(l/2, l/2, z), z), z, l/2)"
      ]
     },
     "execution_count": 32,
     "metadata": {},
     "output_type": "execute_result"
    }
   ],
   "source": [
    "div(A).subs({x:l/2, y:l/2, z:l/2})"
   ]
  },
  {
   "cell_type": "markdown",
   "metadata": {},
   "source": [
    "This is again the same expression we obtained above, and it thus tends toward the same limit as $l \\rightarrow 0$ as the expression above; however, we obtained it not by integrating over the cube of length $l$, but by taking derivatives.  "
   ]
  },
  {
   "cell_type": "markdown",
   "metadata": {},
   "source": [
    "## The Curl\n",
    "\n",
    "Demonstration with sympy of the validity of the equivalence $$\\nabla \\times \\mathbf{A} = \\lim_{l \\rightarrow 0} \\frac{\\int \\mathbf{A} \\times d\\mathbf{S}}{l^{3}} $$\n",
    "\n",
    "No formal proof this time, as the steps are much the same as in the two above demonstrations. "
   ]
  },
  {
   "cell_type": "code",
   "execution_count": 33,
   "metadata": {},
   "outputs": [],
   "source": [
    "A = Matrix([Ax, Ay, Az])"
   ]
  },
  {
   "cell_type": "code",
   "execution_count": 34,
   "metadata": {},
   "outputs": [
    {
     "data": {
      "text/latex": [
       "$\\displaystyle \\left[\\begin{matrix}\\operatorname{A_{x}}{\\left(x,y,z \\right)}\\\\\\operatorname{A_{y}}{\\left(x,y,z \\right)}\\\\\\operatorname{A_{z}}{\\left(x,y,z \\right)}\\end{matrix}\\right]$"
      ],
      "text/plain": [
       "Matrix([\n",
       "[A_x(x, y, z)],\n",
       "[A_y(x, y, z)],\n",
       "[A_z(x, y, z)]])"
      ]
     },
     "execution_count": 34,
     "metadata": {},
     "output_type": "execute_result"
    }
   ],
   "source": [
    "A"
   ]
  },
  {
   "cell_type": "code",
   "execution_count": 35,
   "metadata": {},
   "outputs": [],
   "source": [
    "curl = lambda V: Matrix([diff(V[2], y) - diff(V[1], z), diff(V[0], z) - diff(V[2], x), diff(V[1], x) - diff(V[0], y)])"
   ]
  },
  {
   "cell_type": "code",
   "execution_count": 36,
   "metadata": {},
   "outputs": [
    {
     "data": {
      "text/latex": [
       "$\\displaystyle \\left[\\begin{matrix}- \\frac{\\partial}{\\partial z} \\operatorname{A_{y}}{\\left(x,y,z \\right)} + \\frac{\\partial}{\\partial y} \\operatorname{A_{z}}{\\left(x,y,z \\right)}\\\\\\frac{\\partial}{\\partial z} \\operatorname{A_{x}}{\\left(x,y,z \\right)} - \\frac{\\partial}{\\partial x} \\operatorname{A_{z}}{\\left(x,y,z \\right)}\\\\- \\frac{\\partial}{\\partial y} \\operatorname{A_{x}}{\\left(x,y,z \\right)} + \\frac{\\partial}{\\partial x} \\operatorname{A_{y}}{\\left(x,y,z \\right)}\\end{matrix}\\right]$"
      ],
      "text/plain": [
       "Matrix([\n",
       "[-Derivative(A_y(x, y, z), z) + Derivative(A_z(x, y, z), y)],\n",
       "[ Derivative(A_x(x, y, z), z) - Derivative(A_z(x, y, z), x)],\n",
       "[-Derivative(A_x(x, y, z), y) + Derivative(A_y(x, y, z), x)]])"
      ]
     },
     "execution_count": 36,
     "metadata": {},
     "output_type": "execute_result"
    }
   ],
   "source": [
    "curl(A)"
   ]
  },
  {
   "cell_type": "code",
   "execution_count": 37,
   "metadata": {},
   "outputs": [],
   "source": [
    "A_taylor = Matrix([Ax_taylor, Ay_taylor, Az_taylor])"
   ]
  },
  {
   "cell_type": "code",
   "execution_count": 38,
   "metadata": {},
   "outputs": [
    {
     "data": {
      "text/latex": [
       "$\\displaystyle \\left[\\begin{matrix}\\left(- \\frac{l}{2} + x\\right) \\left. \\frac{\\partial}{\\partial x} \\operatorname{A_{x}}{\\left(x,\\frac{l}{2},\\frac{l}{2} \\right)} \\right|_{\\substack{ x=\\frac{l}{2} }} + \\left(- \\frac{l}{2} + y\\right) \\left. \\frac{\\partial}{\\partial y} \\operatorname{A_{x}}{\\left(\\frac{l}{2},y,\\frac{l}{2} \\right)} \\right|_{\\substack{ y=\\frac{l}{2} }} + \\left(- \\frac{l}{2} + z\\right) \\left. \\frac{\\partial}{\\partial z} \\operatorname{A_{x}}{\\left(\\frac{l}{2},\\frac{l}{2},z \\right)} \\right|_{\\substack{ z=\\frac{l}{2} }} + \\operatorname{A_{x}}{\\left(\\frac{l}{2},\\frac{l}{2},\\frac{l}{2} \\right)}\\\\\\left(- \\frac{l}{2} + x\\right) \\left. \\frac{\\partial}{\\partial x} \\operatorname{A_{y}}{\\left(x,\\frac{l}{2},\\frac{l}{2} \\right)} \\right|_{\\substack{ x=\\frac{l}{2} }} + \\left(- \\frac{l}{2} + y\\right) \\left. \\frac{\\partial}{\\partial y} \\operatorname{A_{y}}{\\left(\\frac{l}{2},y,\\frac{l}{2} \\right)} \\right|_{\\substack{ y=\\frac{l}{2} }} + \\left(- \\frac{l}{2} + z\\right) \\left. \\frac{\\partial}{\\partial z} \\operatorname{A_{y}}{\\left(\\frac{l}{2},\\frac{l}{2},z \\right)} \\right|_{\\substack{ z=\\frac{l}{2} }} + \\operatorname{A_{y}}{\\left(\\frac{l}{2},\\frac{l}{2},\\frac{l}{2} \\right)}\\\\\\left(- \\frac{l}{2} + x\\right) \\left. \\frac{\\partial}{\\partial x} \\operatorname{A_{z}}{\\left(x,\\frac{l}{2},\\frac{l}{2} \\right)} \\right|_{\\substack{ x=\\frac{l}{2} }} + \\left(- \\frac{l}{2} + y\\right) \\left. \\frac{\\partial}{\\partial y} \\operatorname{A_{z}}{\\left(\\frac{l}{2},y,\\frac{l}{2} \\right)} \\right|_{\\substack{ y=\\frac{l}{2} }} + \\left(- \\frac{l}{2} + z\\right) \\left. \\frac{\\partial}{\\partial z} \\operatorname{A_{z}}{\\left(\\frac{l}{2},\\frac{l}{2},z \\right)} \\right|_{\\substack{ z=\\frac{l}{2} }} + \\operatorname{A_{z}}{\\left(\\frac{l}{2},\\frac{l}{2},\\frac{l}{2} \\right)}\\end{matrix}\\right]$"
      ],
      "text/plain": [
       "Matrix([\n",
       "[(-l/2 + x)*Subs(Derivative(A_x(x, l/2, l/2), x), x, l/2) + (-l/2 + y)*Subs(Derivative(A_x(l/2, y, l/2), y), y, l/2) + (-l/2 + z)*Subs(Derivative(A_x(l/2, l/2, z), z), z, l/2) + A_x(l/2, l/2, l/2)],\n",
       "[(-l/2 + x)*Subs(Derivative(A_y(x, l/2, l/2), x), x, l/2) + (-l/2 + y)*Subs(Derivative(A_y(l/2, y, l/2), y), y, l/2) + (-l/2 + z)*Subs(Derivative(A_y(l/2, l/2, z), z), z, l/2) + A_y(l/2, l/2, l/2)],\n",
       "[(-l/2 + x)*Subs(Derivative(A_z(x, l/2, l/2), x), x, l/2) + (-l/2 + y)*Subs(Derivative(A_z(l/2, y, l/2), y), y, l/2) + (-l/2 + z)*Subs(Derivative(A_z(l/2, l/2, z), z), z, l/2) + A_z(l/2, l/2, l/2)]])"
      ]
     },
     "execution_count": 38,
     "metadata": {},
     "output_type": "execute_result"
    }
   ],
   "source": [
    "A_taylor"
   ]
  },
  {
   "cell_type": "code",
   "execution_count": 44,
   "metadata": {},
   "outputs": [],
   "source": [
    "S = {'S1': Matrix([1, 0, 0]), 'S2': Matrix([0, 0, -1]), 'S3': Matrix([-1, 0, 0]), 'S4':Matrix([0, 0, 1]), 'S5':Matrix([0, -1, 0]), 'S6': Matrix([0, 1, 0])}"
   ]
  },
  {
   "cell_type": "code",
   "execution_count": 45,
   "metadata": {},
   "outputs": [],
   "source": [
    "cross = lambda V1, V2: Matrix([(V1[1] * V2[2]) - (V1[2] * V2[1]), \n",
    "                               (-V1[0] * V2[2]) + (V1[2] * V2[0]), \n",
    "                               (V1[0] * V2[1]) - (V1[1] * V2[0])])"
   ]
  },
  {
   "cell_type": "code",
   "execution_count": 49,
   "metadata": {},
   "outputs": [
    {
     "data": {
      "text/latex": [
       "$\\displaystyle \\left[\\begin{matrix}0\\\\2 \\left(- \\frac{l}{2} + x\\right) \\left. \\frac{\\partial}{\\partial x} \\operatorname{A_{z}}{\\left(x,\\frac{l}{2},\\frac{l}{2} \\right)} \\right|_{\\substack{ x=\\frac{l}{2} }} + 2 \\left(- \\frac{l}{2} + y\\right) \\left. \\frac{\\partial}{\\partial y} \\operatorname{A_{z}}{\\left(\\frac{l}{2},y,\\frac{l}{2} \\right)} \\right|_{\\substack{ y=\\frac{l}{2} }} + 2 \\left(- \\frac{l}{2} + z\\right) \\left. \\frac{\\partial}{\\partial z} \\operatorname{A_{z}}{\\left(\\frac{l}{2},\\frac{l}{2},z \\right)} \\right|_{\\substack{ z=\\frac{l}{2} }} + 2 \\operatorname{A_{z}}{\\left(\\frac{l}{2},\\frac{l}{2},\\frac{l}{2} \\right)}\\\\- 2 \\left(- \\frac{l}{2} + x\\right) \\left. \\frac{\\partial}{\\partial x} \\operatorname{A_{y}}{\\left(x,\\frac{l}{2},\\frac{l}{2} \\right)} \\right|_{\\substack{ x=\\frac{l}{2} }} - 2 \\left(- \\frac{l}{2} + y\\right) \\left. \\frac{\\partial}{\\partial y} \\operatorname{A_{y}}{\\left(\\frac{l}{2},y,\\frac{l}{2} \\right)} \\right|_{\\substack{ y=\\frac{l}{2} }} - 2 \\left(- \\frac{l}{2} + z\\right) \\left. \\frac{\\partial}{\\partial z} \\operatorname{A_{y}}{\\left(\\frac{l}{2},\\frac{l}{2},z \\right)} \\right|_{\\substack{ z=\\frac{l}{2} }} - 2 \\operatorname{A_{y}}{\\left(\\frac{l}{2},\\frac{l}{2},\\frac{l}{2} \\right)}\\end{matrix}\\right]$"
      ],
      "text/plain": [
       "Matrix([\n",
       "[                                                                                                                                                                                                           0],\n",
       "[ 2*(-l/2 + x)*Subs(Derivative(A_z(x, l/2, l/2), x), x, l/2) + 2*(-l/2 + y)*Subs(Derivative(A_z(l/2, y, l/2), y), y, l/2) + 2*(-l/2 + z)*Subs(Derivative(A_z(l/2, l/2, z), z), z, l/2) + 2*A_z(l/2, l/2, l/2)],\n",
       "[-2*(-l/2 + x)*Subs(Derivative(A_y(x, l/2, l/2), x), x, l/2) - 2*(-l/2 + y)*Subs(Derivative(A_y(l/2, y, l/2), y), y, l/2) - 2*(-l/2 + z)*Subs(Derivative(A_y(l/2, l/2, z), z), z, l/2) - 2*A_y(l/2, l/2, l/2)]])"
      ]
     },
     "execution_count": 49,
     "metadata": {},
     "output_type": "execute_result"
    }
   ],
   "source": [
    "S1_S3 = cross(A_taylor, S['S1']) - cross(A_taylor, S['S3'])\n",
    "S1_S3"
   ]
  },
  {
   "cell_type": "code",
   "execution_count": 50,
   "metadata": {},
   "outputs": [
    {
     "data": {
      "text/latex": [
       "$\\displaystyle \\left[\\begin{matrix}2 \\left(- \\frac{l}{2} + x\\right) \\left. \\frac{\\partial}{\\partial x} \\operatorname{A_{y}}{\\left(x,\\frac{l}{2},\\frac{l}{2} \\right)} \\right|_{\\substack{ x=\\frac{l}{2} }} + 2 \\left(- \\frac{l}{2} + y\\right) \\left. \\frac{\\partial}{\\partial y} \\operatorname{A_{y}}{\\left(\\frac{l}{2},y,\\frac{l}{2} \\right)} \\right|_{\\substack{ y=\\frac{l}{2} }} + 2 \\left(- \\frac{l}{2} + z\\right) \\left. \\frac{\\partial}{\\partial z} \\operatorname{A_{y}}{\\left(\\frac{l}{2},\\frac{l}{2},z \\right)} \\right|_{\\substack{ z=\\frac{l}{2} }} + 2 \\operatorname{A_{y}}{\\left(\\frac{l}{2},\\frac{l}{2},\\frac{l}{2} \\right)}\\\\- 2 \\left(- \\frac{l}{2} + x\\right) \\left. \\frac{\\partial}{\\partial x} \\operatorname{A_{x}}{\\left(x,\\frac{l}{2},\\frac{l}{2} \\right)} \\right|_{\\substack{ x=\\frac{l}{2} }} - 2 \\left(- \\frac{l}{2} + y\\right) \\left. \\frac{\\partial}{\\partial y} \\operatorname{A_{x}}{\\left(\\frac{l}{2},y,\\frac{l}{2} \\right)} \\right|_{\\substack{ y=\\frac{l}{2} }} - 2 \\left(- \\frac{l}{2} + z\\right) \\left. \\frac{\\partial}{\\partial z} \\operatorname{A_{x}}{\\left(\\frac{l}{2},\\frac{l}{2},z \\right)} \\right|_{\\substack{ z=\\frac{l}{2} }} - 2 \\operatorname{A_{x}}{\\left(\\frac{l}{2},\\frac{l}{2},\\frac{l}{2} \\right)}\\\\0\\end{matrix}\\right]$"
      ],
      "text/plain": [
       "Matrix([\n",
       "[ 2*(-l/2 + x)*Subs(Derivative(A_y(x, l/2, l/2), x), x, l/2) + 2*(-l/2 + y)*Subs(Derivative(A_y(l/2, y, l/2), y), y, l/2) + 2*(-l/2 + z)*Subs(Derivative(A_y(l/2, l/2, z), z), z, l/2) + 2*A_y(l/2, l/2, l/2)],\n",
       "[-2*(-l/2 + x)*Subs(Derivative(A_x(x, l/2, l/2), x), x, l/2) - 2*(-l/2 + y)*Subs(Derivative(A_x(l/2, y, l/2), y), y, l/2) - 2*(-l/2 + z)*Subs(Derivative(A_x(l/2, l/2, z), z), z, l/2) - 2*A_x(l/2, l/2, l/2)],\n",
       "[                                                                                                                                                                                                           0]])"
      ]
     },
     "execution_count": 50,
     "metadata": {},
     "output_type": "execute_result"
    }
   ],
   "source": [
    "S4_S2 = cross(A_taylor, S['S4']) - cross(A_taylor, S['S2'])\n",
    "S4_S2"
   ]
  },
  {
   "cell_type": "code",
   "execution_count": 51,
   "metadata": {},
   "outputs": [
    {
     "data": {
      "text/latex": [
       "$\\displaystyle \\left[\\begin{matrix}- 2 \\left(- \\frac{l}{2} + x\\right) \\left. \\frac{\\partial}{\\partial x} \\operatorname{A_{z}}{\\left(x,\\frac{l}{2},\\frac{l}{2} \\right)} \\right|_{\\substack{ x=\\frac{l}{2} }} - 2 \\left(- \\frac{l}{2} + y\\right) \\left. \\frac{\\partial}{\\partial y} \\operatorname{A_{z}}{\\left(\\frac{l}{2},y,\\frac{l}{2} \\right)} \\right|_{\\substack{ y=\\frac{l}{2} }} - 2 \\left(- \\frac{l}{2} + z\\right) \\left. \\frac{\\partial}{\\partial z} \\operatorname{A_{z}}{\\left(\\frac{l}{2},\\frac{l}{2},z \\right)} \\right|_{\\substack{ z=\\frac{l}{2} }} - 2 \\operatorname{A_{z}}{\\left(\\frac{l}{2},\\frac{l}{2},\\frac{l}{2} \\right)}\\\\0\\\\2 \\left(- \\frac{l}{2} + x\\right) \\left. \\frac{\\partial}{\\partial x} \\operatorname{A_{x}}{\\left(x,\\frac{l}{2},\\frac{l}{2} \\right)} \\right|_{\\substack{ x=\\frac{l}{2} }} + 2 \\left(- \\frac{l}{2} + y\\right) \\left. \\frac{\\partial}{\\partial y} \\operatorname{A_{x}}{\\left(\\frac{l}{2},y,\\frac{l}{2} \\right)} \\right|_{\\substack{ y=\\frac{l}{2} }} + 2 \\left(- \\frac{l}{2} + z\\right) \\left. \\frac{\\partial}{\\partial z} \\operatorname{A_{x}}{\\left(\\frac{l}{2},\\frac{l}{2},z \\right)} \\right|_{\\substack{ z=\\frac{l}{2} }} + 2 \\operatorname{A_{x}}{\\left(\\frac{l}{2},\\frac{l}{2},\\frac{l}{2} \\right)}\\end{matrix}\\right]$"
      ],
      "text/plain": [
       "Matrix([\n",
       "[-2*(-l/2 + x)*Subs(Derivative(A_z(x, l/2, l/2), x), x, l/2) - 2*(-l/2 + y)*Subs(Derivative(A_z(l/2, y, l/2), y), y, l/2) - 2*(-l/2 + z)*Subs(Derivative(A_z(l/2, l/2, z), z), z, l/2) - 2*A_z(l/2, l/2, l/2)],\n",
       "[                                                                                                                                                                                                           0],\n",
       "[ 2*(-l/2 + x)*Subs(Derivative(A_x(x, l/2, l/2), x), x, l/2) + 2*(-l/2 + y)*Subs(Derivative(A_x(l/2, y, l/2), y), y, l/2) + 2*(-l/2 + z)*Subs(Derivative(A_x(l/2, l/2, z), z), z, l/2) + 2*A_x(l/2, l/2, l/2)]])"
      ]
     },
     "execution_count": 51,
     "metadata": {},
     "output_type": "execute_result"
    }
   ],
   "source": [
    "S6_S5 = cross(A_taylor, S['S6']) - cross(A_taylor, S['S5'])\n",
    "S6_S5"
   ]
  },
  {
   "cell_type": "code",
   "execution_count": 52,
   "metadata": {},
   "outputs": [],
   "source": [
    "intgrnd = S1_S3 + S4_S2 + S6_S5"
   ]
  },
  {
   "cell_type": "code",
   "execution_count": 54,
   "metadata": {},
   "outputs": [
    {
     "data": {
      "text/latex": [
       "$\\displaystyle \\left[\\begin{matrix}- \\left(l - 2 x\\right) \\left. \\frac{\\partial}{\\partial x} \\operatorname{A_{y}}{\\left(x,\\frac{l}{2},\\frac{l}{2} \\right)} \\right|_{\\substack{ x=\\frac{l}{2} }} + \\left(l - 2 x\\right) \\left. \\frac{\\partial}{\\partial x} \\operatorname{A_{z}}{\\left(x,\\frac{l}{2},\\frac{l}{2} \\right)} \\right|_{\\substack{ x=\\frac{l}{2} }} - \\left(l - 2 y\\right) \\left. \\frac{\\partial}{\\partial y} \\operatorname{A_{y}}{\\left(\\frac{l}{2},y,\\frac{l}{2} \\right)} \\right|_{\\substack{ y=\\frac{l}{2} }} + \\left(l - 2 y\\right) \\left. \\frac{\\partial}{\\partial y} \\operatorname{A_{z}}{\\left(\\frac{l}{2},y,\\frac{l}{2} \\right)} \\right|_{\\substack{ y=\\frac{l}{2} }} - \\left(l - 2 z\\right) \\left. \\frac{\\partial}{\\partial z} \\operatorname{A_{y}}{\\left(\\frac{l}{2},\\frac{l}{2},z \\right)} \\right|_{\\substack{ z=\\frac{l}{2} }} + \\left(l - 2 z\\right) \\left. \\frac{\\partial}{\\partial z} \\operatorname{A_{z}}{\\left(\\frac{l}{2},\\frac{l}{2},z \\right)} \\right|_{\\substack{ z=\\frac{l}{2} }} + 2 \\operatorname{A_{y}}{\\left(\\frac{l}{2},\\frac{l}{2},\\frac{l}{2} \\right)} - 2 \\operatorname{A_{z}}{\\left(\\frac{l}{2},\\frac{l}{2},\\frac{l}{2} \\right)}\\\\\\left(l - 2 x\\right) \\left. \\frac{\\partial}{\\partial x} \\operatorname{A_{x}}{\\left(x,\\frac{l}{2},\\frac{l}{2} \\right)} \\right|_{\\substack{ x=\\frac{l}{2} }} - \\left(l - 2 x\\right) \\left. \\frac{\\partial}{\\partial x} \\operatorname{A_{z}}{\\left(x,\\frac{l}{2},\\frac{l}{2} \\right)} \\right|_{\\substack{ x=\\frac{l}{2} }} + \\left(l - 2 y\\right) \\left. \\frac{\\partial}{\\partial y} \\operatorname{A_{x}}{\\left(\\frac{l}{2},y,\\frac{l}{2} \\right)} \\right|_{\\substack{ y=\\frac{l}{2} }} - \\left(l - 2 y\\right) \\left. \\frac{\\partial}{\\partial y} \\operatorname{A_{z}}{\\left(\\frac{l}{2},y,\\frac{l}{2} \\right)} \\right|_{\\substack{ y=\\frac{l}{2} }} + \\left(l - 2 z\\right) \\left. \\frac{\\partial}{\\partial z} \\operatorname{A_{x}}{\\left(\\frac{l}{2},\\frac{l}{2},z \\right)} \\right|_{\\substack{ z=\\frac{l}{2} }} - \\left(l - 2 z\\right) \\left. \\frac{\\partial}{\\partial z} \\operatorname{A_{z}}{\\left(\\frac{l}{2},\\frac{l}{2},z \\right)} \\right|_{\\substack{ z=\\frac{l}{2} }} - 2 \\operatorname{A_{x}}{\\left(\\frac{l}{2},\\frac{l}{2},\\frac{l}{2} \\right)} + 2 \\operatorname{A_{z}}{\\left(\\frac{l}{2},\\frac{l}{2},\\frac{l}{2} \\right)}\\\\- \\left(l - 2 x\\right) \\left. \\frac{\\partial}{\\partial x} \\operatorname{A_{x}}{\\left(x,\\frac{l}{2},\\frac{l}{2} \\right)} \\right|_{\\substack{ x=\\frac{l}{2} }} + \\left(l - 2 x\\right) \\left. \\frac{\\partial}{\\partial x} \\operatorname{A_{y}}{\\left(x,\\frac{l}{2},\\frac{l}{2} \\right)} \\right|_{\\substack{ x=\\frac{l}{2} }} - \\left(l - 2 y\\right) \\left. \\frac{\\partial}{\\partial y} \\operatorname{A_{x}}{\\left(\\frac{l}{2},y,\\frac{l}{2} \\right)} \\right|_{\\substack{ y=\\frac{l}{2} }} + \\left(l - 2 y\\right) \\left. \\frac{\\partial}{\\partial y} \\operatorname{A_{y}}{\\left(\\frac{l}{2},y,\\frac{l}{2} \\right)} \\right|_{\\substack{ y=\\frac{l}{2} }} - \\left(l - 2 z\\right) \\left. \\frac{\\partial}{\\partial z} \\operatorname{A_{x}}{\\left(\\frac{l}{2},\\frac{l}{2},z \\right)} \\right|_{\\substack{ z=\\frac{l}{2} }} + \\left(l - 2 z\\right) \\left. \\frac{\\partial}{\\partial z} \\operatorname{A_{y}}{\\left(\\frac{l}{2},\\frac{l}{2},z \\right)} \\right|_{\\substack{ z=\\frac{l}{2} }} + 2 \\operatorname{A_{x}}{\\left(\\frac{l}{2},\\frac{l}{2},\\frac{l}{2} \\right)} - 2 \\operatorname{A_{y}}{\\left(\\frac{l}{2},\\frac{l}{2},\\frac{l}{2} \\right)}\\end{matrix}\\right]$"
      ],
      "text/plain": [
       "Matrix([\n",
       "[-(l - 2*x)*Subs(Derivative(A_y(x, l/2, l/2), x), x, l/2) + (l - 2*x)*Subs(Derivative(A_z(x, l/2, l/2), x), x, l/2) - (l - 2*y)*Subs(Derivative(A_y(l/2, y, l/2), y), y, l/2) + (l - 2*y)*Subs(Derivative(A_z(l/2, y, l/2), y), y, l/2) - (l - 2*z)*Subs(Derivative(A_y(l/2, l/2, z), z), z, l/2) + (l - 2*z)*Subs(Derivative(A_z(l/2, l/2, z), z), z, l/2) + 2*A_y(l/2, l/2, l/2) - 2*A_z(l/2, l/2, l/2)],\n",
       "[ (l - 2*x)*Subs(Derivative(A_x(x, l/2, l/2), x), x, l/2) - (l - 2*x)*Subs(Derivative(A_z(x, l/2, l/2), x), x, l/2) + (l - 2*y)*Subs(Derivative(A_x(l/2, y, l/2), y), y, l/2) - (l - 2*y)*Subs(Derivative(A_z(l/2, y, l/2), y), y, l/2) + (l - 2*z)*Subs(Derivative(A_x(l/2, l/2, z), z), z, l/2) - (l - 2*z)*Subs(Derivative(A_z(l/2, l/2, z), z), z, l/2) - 2*A_x(l/2, l/2, l/2) + 2*A_z(l/2, l/2, l/2)],\n",
       "[-(l - 2*x)*Subs(Derivative(A_x(x, l/2, l/2), x), x, l/2) + (l - 2*x)*Subs(Derivative(A_y(x, l/2, l/2), x), x, l/2) - (l - 2*y)*Subs(Derivative(A_x(l/2, y, l/2), y), y, l/2) + (l - 2*y)*Subs(Derivative(A_y(l/2, y, l/2), y), y, l/2) - (l - 2*z)*Subs(Derivative(A_x(l/2, l/2, z), z), z, l/2) + (l - 2*z)*Subs(Derivative(A_y(l/2, l/2, z), z), z, l/2) + 2*A_x(l/2, l/2, l/2) - 2*A_y(l/2, l/2, l/2)]])"
      ]
     },
     "execution_count": 54,
     "metadata": {},
     "output_type": "execute_result"
    }
   ],
   "source": [
    "intgrnd"
   ]
  },
  {
   "cell_type": "markdown",
   "metadata": {},
   "source": [
    "## Calling it quits here on this one. Evidently, I would still need to go through the formal proof step by step and then implement this based on that work to make any real progress here. Also thought I would try to jettison the unit vectors & coordinate system here and just work things out in terms of lists of compenents, but that just seems to have muddied things further. Would be interested in seeing a 'clean' implementation of this, if possible. I'm sure I could do it if I had another day, and I will after 12.46 is done. "
   ]
  },
  {
   "cell_type": "code",
   "execution_count": null,
   "metadata": {},
   "outputs": [],
   "source": []
  }
 ],
 "metadata": {
  "kernelspec": {
   "display_name": "Python 3",
   "language": "python",
   "name": "python3"
  },
  "language_info": {
   "codemirror_mode": {
    "name": "ipython",
    "version": 3
   },
   "file_extension": ".py",
   "mimetype": "text/x-python",
   "name": "python",
   "nbconvert_exporter": "python",
   "pygments_lexer": "ipython3",
   "version": "3.6.8"
  }
 },
 "nbformat": 4,
 "nbformat_minor": 4
}
