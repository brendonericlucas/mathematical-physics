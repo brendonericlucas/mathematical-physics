{
 "cells": [
  {
   "cell_type": "markdown",
   "metadata": {},
   "source": [
    "# Assignment 59, Uniformly sampling SO(3)—2\n",
    "\n",
    "Here, rather than starting with unit quaternions and converting to matrices, we instead randomly sample unit vectors and angles. From these, we create the corresponding roation matrices, making free use of the fact that the rotation matrix $R_{(\\hat{u}, \\theta)}$ giving the rotation by angle $\\theta$ about the line containing the unit vector $\\hat{u}$ can be given by \n",
    "\n",
    "$$R_{(\\hat{u}, \\theta)} = \\cos(\\theta) \\cdot \\mathbf{I}_{3 \\times 3} + (\\sin(\\theta))\\cdot[\\hat{u}]_{\\times} + (1 - \\cos(\\theta)\\cdot (\\hat{u} \\otimes \\hat{u})$$\n",
    "\n",
    "where $[\\hat{u}]_{\\times}$ is given by\n",
    "\n",
    "$$[\\hat{u}]_{\\times} = \\sum_{i = 1}^{3}(\\hat{u} \\times \\hat{e}_{i}) \\otimes \\hat{e}_{i} $$"
   ]
  },
  {
   "cell_type": "code",
   "execution_count": null,
   "metadata": {},
   "outputs": [],
   "source": [
    "import numpy as np\n",
    "import matplotlib.pyplot as plt\n",
    "from scipy.stats import ks_2samp\n",
    "\n",
    "np.random.seed(42)\n",
    "\n",
    "# compute the cross - product matrix for a unit vector u\n",
    "def crossProductMatrix(u):\n",
    "    \"\"\"\n",
    "        u: a 3 compnent numpy array representing\n",
    "           a (normalized) vector \n",
    "               \n",
    "        returns: a 3 x 3 matrix representing the \n",
    "                 cross product matrix of u\n",
    "    \"\"\"\n",
    "    e1 = np.array([1.0, 0.0, 0.0])\n",
    "    e2 = np.array([0.0, 1.0, 0.0])\n",
    "    e3 = np.array([0.0, 0.0, 1.0])\n",
    "    e = [e1, e2, e3]\n",
    "    m = np.eye(3)\n",
    "    for i in range(3):\n",
    "        m += np.outer(np.cross(u, e[i]), e[i])\n",
    "    return m\n",
    "\n",
    "def rotationMatrix(theta, u):\n",
    "    ux = crossProductMatrix(u)\n",
    "    return (np.cos(theta) * np.eye(3)) + (np.sin(theta) * ux) + ((1.0 - np.cos(theta)) * np.outer(u, u))\n",
    "\n",
    "N = 10000\n",
    "\n",
    "vectors = np.array([np.random. normal(0, 1, 3) for i in range(N)])\n",
    "unit_vectors = np.array( [(1.0 / np.sqrt(np.dot(v, v))) * v for v in vectors] )\n",
    "angles = np.random.uniform(0, np.pi,  N)    \n",
    "\n",
    "M = list(map(rotationMatrix, angles, unit_vectors))\n",
    "\n",
    "# define a function on the matrix representations\n",
    "# this is the sum over the abs values of the matrix elements\n",
    "f = lambda M: np.sum(np.abs(M.flatten()))\n",
    "\n",
    "# pick one of the matrices at random to be R0\n",
    "R0 = M[int(np.random.randint(low=0, high=100, size=1))]\n",
    "\n",
    "f_R_values = list(map(f, M))\n",
    "\n",
    "f_R0_R_values = list(map(f, list(map(lambda R: R0 @ R, M))))\n",
    "\n",
    "def plot_hist(z, N):\n",
    "    plt.hist(z, density = True, bins = int(np.sqrt(N)))\n",
    "    plt.show()\n",
    "    plt.close()"
   ]
  },
  {
   "cell_type": "code",
   "execution_count": null,
   "metadata": {},
   "outputs": [],
   "source": [
    "plot_hist(f_R_values, N)"
   ]
  },
  {
   "cell_type": "code",
   "execution_count": null,
   "metadata": {},
   "outputs": [],
   "source": [
    "plot_hist(f_R0_R_values, N)"
   ]
  },
  {
   "cell_type": "code",
   "execution_count": null,
   "metadata": {},
   "outputs": [],
   "source": [
    "ks_2samp(f_R_values, f_R0_R_values)"
   ]
  },
  {
   "cell_type": "markdown",
   "metadata": {},
   "source": [
    "## Conclusions\n",
    "\n",
    "The manner in which the random matrices are generated obviously has an impact on the shape of the resulting distributions. The distributions obtained here are both roughly bimodal, and don't shoe the same pronounced skew that the distributions in the previous problem did. Note that we are mixing distributions in generating the matrices using axis and angle sampling as done above, since the unit vectors are chosen using a normal distribution and the angles are chosen using a uniform distribution. The bottom distribution is also shifted slightly relative to the top distribution, another difference with the former sampling methods. The value of the test statistic is over 10 times larger than it was using the prior sampling method, though the p - value we obtain here is indistinguishable from zero. The evidence that the two distributions arise from the same undelying density is thus here slighlty less strong than in the former case, but is still relatively string overall. "
   ]
  },
  {
   "cell_type": "code",
   "execution_count": null,
   "metadata": {},
   "outputs": [],
   "source": []
  }
 ],
 "metadata": {
  "kernelspec": {
   "display_name": "Python 3",
   "language": "python",
   "name": "python3"
  },
  "language_info": {
   "codemirror_mode": {
    "name": "ipython",
    "version": 3
   },
   "file_extension": ".py",
   "mimetype": "text/x-python",
   "name": "python",
   "nbconvert_exporter": "python",
   "pygments_lexer": "ipython3",
   "version": "3.6.8"
  }
 },
 "nbformat": 4,
 "nbformat_minor": 4
}
