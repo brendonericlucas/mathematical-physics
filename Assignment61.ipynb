{
 "cells": [
  {
   "cell_type": "markdown",
   "metadata": {},
   "source": [
    "# Assignment 61, Determinant: the Laplace expansion\n",
    "\n",
    "We have the Laplace expansion:\n",
    "\n",
    "$$det(M) = \\sum_{j=1}^{n}(-1)^{i + j}B_{i,j}M_{i, j}$$\n",
    "\n",
    "This implies a recursive computational routine for computing the determinant of any square matrix. Below, we implement the recursive routine and plot the dependance of its runtime upon the order of the matrix."
   ]
  },
  {
   "cell_type": "code",
   "execution_count": 1,
   "metadata": {},
   "outputs": [
    {
     "name": "stderr",
     "output_type": "stream",
     "text": [
      "/usr/lib/python3.6/site-packages/ipykernel_launcher.py:18: RuntimeWarning: invalid value encountered in double_scalars\n"
     ]
    }
   ],
   "source": [
    "import time\n",
    "import numpy as np\n",
    "import matplotlib.pyplot as plt\n",
    "\n",
    "plt.style.use('seaborn-whitegrid')\n",
    "\n",
    "N = 8\n",
    "\n",
    "def determinant(M, r):\n",
    "    # base case\n",
    "    if M.shape == (1,1): \n",
    "        return M[0][0]\n",
    "\n",
    "    det = 0\n",
    "    for c, e in enumerate(M[r]):\n",
    "        # Exclude row and column.\n",
    "        m = np.delete(np.delete(M, r, axis=0), c, axis=1)\n",
    "        det += ((-1.0) ** (r + e)) * e * determinant(m, r)\n",
    "    return det\n",
    "\n",
    "random_matrices = [np.random.rand(n, n) for n in range(1, N + 1)]\n",
    "\n",
    "execution_times = [0]*len(random_matrices)\n",
    "\n",
    "for i, M in enumerate(random_matrices):\n",
    "    ti = time.perf_counter()\n",
    "    determinant(M, 0)\n",
    "    tf = time.perf_counter()\n",
    "    execution_times[i] = tf - ti\n",
    "\n",
    "x = [n for n in range(1, N + 1)]"
   ]
  },
  {
   "cell_type": "code",
   "execution_count": 2,
   "metadata": {},
   "outputs": [
    {
     "data": {
      "text/plain": [
       "[<matplotlib.lines.Line2D at 0x7fc30dd01cf8>]"
      ]
     },
     "execution_count": 2,
     "metadata": {},
     "output_type": "execute_result"
    },
    {
     "data": {
      "image/png": "[encoded data removed]",
      "text/plain": [
       "<Figure size 432x288 with 1 Axes>"
      ]
     },
     "metadata": {
      "needs_background": "light"
     },
     "output_type": "display_data"
    }
   ],
   "source": [
    "plt.plot(x, execution_times)\n",
    "plt.plot(x, 0.0025*np.exp(x))\n",
    "plt.plot(x, 0.00001*np.exp(x))"
   ]
  },
  {
   "cell_type": "markdown",
   "metadata": {},
   "source": [
    "The graph above shows the runtime of the recursive algorithm for computing the determinant of an $n \\times n$ matrix as a function of the value of $n$ in blue. It is bounded between two exponentials, also given as functions of $n$. \n",
    "\n",
    "The graph sugggests that $\\exp(n)$ is an asymptotically tight bound for $T(n)$, so that $\\mathcal{O}(T(n)) \\sim \\exp(n)$. \n",
    "\n",
    "This is truly awful asymptotic performance. For an algorithm to be useful in practice, we generally want its asymptotic runtime to be at least polynomial in the size of its input (better, but more difficult to achieve, is a logarithmic runtime). \n",
    "\n",
    "So the recursive algorithm, though straightforward to implement, is not a computationally effective way of computing determinants. "
   ]
  },
  {
   "cell_type": "code",
   "execution_count": null,
   "metadata": {},
   "outputs": [],
   "source": []
  }
 ],
 "metadata": {
  "kernelspec": {
   "display_name": "Python 3",
   "language": "python",
   "name": "python3"
  },
  "language_info": {
   "codemirror_mode": {
    "name": "ipython",
    "version": 3
   },
   "file_extension": ".py",
   "mimetype": "text/x-python",
   "name": "python",
   "nbconvert_exporter": "python",
   "pygments_lexer": "ipython3",
   "version": "3.6.8"
  }
 },
 "nbformat": 4,
 "nbformat_minor": 4
}
