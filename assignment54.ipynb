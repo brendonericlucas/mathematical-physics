{
 "cells": [
  {
   "cell_type": "markdown",
   "metadata": {},
   "source": [
    "# Assignment 54 | Pauli matrices: completeness and orthogonality"
   ]
  },
  {
   "cell_type": "code",
   "execution_count": 1,
   "metadata": {},
   "outputs": [],
   "source": [
    "# define the pauli spin matrices\n",
    "import numpy as np\n",
    "import sympy as sp\n",
    "from sympy import *\n",
    "from sympy.physics.quantum.dagger import Dagger\n",
    "\n",
    "def pauli_matrix(s11, s12, s21, s22):\n",
    "    return Matrix([[s11, s12], [s21, s22]])\n",
    "\n",
    "args1, args2, args3, args4 = list(zip((1,0,0,1),(0,1,1,0),(0, -sp.I, sp.I, 0),(1,0,0,-1)))\n",
    "\n",
    "p0, p1, p2, p3 = list(map(pauli_matrix, args1, args2, args3, args4))"
   ]
  },
  {
   "cell_type": "code",
   "execution_count": 2,
   "metadata": {},
   "outputs": [
    {
     "data": {
      "text/latex": [
       "$\\displaystyle \\left[\\begin{matrix}1 & 0\\\\0 & 1\\end{matrix}\\right]$"
      ],
      "text/plain": [
       "Matrix([\n",
       "[1, 0],\n",
       "[0, 1]])"
      ]
     },
     "execution_count": 2,
     "metadata": {},
     "output_type": "execute_result"
    }
   ],
   "source": [
    "p0"
   ]
  },
  {
   "cell_type": "code",
   "execution_count": 3,
   "metadata": {},
   "outputs": [
    {
     "data": {
      "text/latex": [
       "$\\displaystyle \\left[\\begin{matrix}0 & 1\\\\1 & 0\\end{matrix}\\right]$"
      ],
      "text/plain": [
       "Matrix([\n",
       "[0, 1],\n",
       "[1, 0]])"
      ]
     },
     "execution_count": 3,
     "metadata": {},
     "output_type": "execute_result"
    }
   ],
   "source": [
    "p1"
   ]
  },
  {
   "cell_type": "code",
   "execution_count": 4,
   "metadata": {},
   "outputs": [
    {
     "data": {
      "text/latex": [
       "$\\displaystyle \\left[\\begin{matrix}0 & - i\\\\i & 0\\end{matrix}\\right]$"
      ],
      "text/plain": [
       "Matrix([\n",
       "[0, -I],\n",
       "[I,  0]])"
      ]
     },
     "execution_count": 4,
     "metadata": {},
     "output_type": "execute_result"
    }
   ],
   "source": [
    "p2"
   ]
  },
  {
   "cell_type": "code",
   "execution_count": 5,
   "metadata": {},
   "outputs": [
    {
     "data": {
      "text/latex": [
       "$\\displaystyle \\left[\\begin{matrix}1 & 0\\\\0 & -1\\end{matrix}\\right]$"
      ],
      "text/plain": [
       "Matrix([\n",
       "[1,  0],\n",
       "[0, -1]])"
      ]
     },
     "execution_count": 5,
     "metadata": {},
     "output_type": "execute_result"
    }
   ],
   "source": [
    "p3"
   ]
  },
  {
   "cell_type": "code",
   "execution_count": 6,
   "metadata": {},
   "outputs": [],
   "source": [
    "# define the basis quaternions\n",
    "e, i, j, k = [f*g for f, g in list(zip((1, -sp.I, -sp.I, -sp.I), (p0, p1, p2, p3)))]"
   ]
  },
  {
   "cell_type": "code",
   "execution_count": 7,
   "metadata": {},
   "outputs": [
    {
     "data": {
      "text/latex": [
       "$\\displaystyle \\left[\\begin{matrix}1 & 0\\\\0 & 1\\end{matrix}\\right]$"
      ],
      "text/plain": [
       "Matrix([\n",
       "[1, 0],\n",
       "[0, 1]])"
      ]
     },
     "execution_count": 7,
     "metadata": {},
     "output_type": "execute_result"
    }
   ],
   "source": [
    "e"
   ]
  },
  {
   "cell_type": "code",
   "execution_count": 8,
   "metadata": {},
   "outputs": [
    {
     "data": {
      "text/latex": [
       "$\\displaystyle \\left[\\begin{matrix}0 & - i\\\\- i & 0\\end{matrix}\\right]$"
      ],
      "text/plain": [
       "Matrix([\n",
       "[ 0, -I],\n",
       "[-I,  0]])"
      ]
     },
     "execution_count": 8,
     "metadata": {},
     "output_type": "execute_result"
    }
   ],
   "source": [
    "i"
   ]
  },
  {
   "cell_type": "code",
   "execution_count": 9,
   "metadata": {},
   "outputs": [
    {
     "data": {
      "text/latex": [
       "$\\displaystyle \\left[\\begin{matrix}0 & -1\\\\1 & 0\\end{matrix}\\right]$"
      ],
      "text/plain": [
       "Matrix([\n",
       "[0, -1],\n",
       "[1,  0]])"
      ]
     },
     "execution_count": 9,
     "metadata": {},
     "output_type": "execute_result"
    }
   ],
   "source": [
    "j"
   ]
  },
  {
   "cell_type": "code",
   "execution_count": 10,
   "metadata": {},
   "outputs": [
    {
     "data": {
      "text/latex": [
       "$\\displaystyle \\left[\\begin{matrix}- i & 0\\\\0 & i\\end{matrix}\\right]$"
      ],
      "text/plain": [
       "Matrix([\n",
       "[-I, 0],\n",
       "[ 0, I]])"
      ]
     },
     "execution_count": 10,
     "metadata": {},
     "output_type": "execute_result"
    }
   ],
   "source": [
    "k"
   ]
  },
  {
   "cell_type": "markdown",
   "metadata": {},
   "source": [
    "### NOTE: In finite dimensions where operators are represented by matrices, the Hermitian adjoint is given by the conjugate transpose (also known as the Hermitian transpose)."
   ]
  },
  {
   "cell_type": "markdown",
   "metadata": {},
   "source": [
    "Now, let's take a random quaternion, $\\mathbf{q}$ according to the below representation: \n",
    "\n",
    "$$\\mathbf{q} = \\sum_{k = 0}^{4}q_{k}\\mathbf{\\tau}^{k}$$"
   ]
  },
  {
   "cell_type": "code",
   "execution_count": 11,
   "metadata": {},
   "outputs": [],
   "source": [
    "q_comps = Matrix(np.random.randint(1, 10 + 1) * np.random.random(4))"
   ]
  },
  {
   "cell_type": "code",
   "execution_count": 12,
   "metadata": {},
   "outputs": [
    {
     "data": {
      "text/latex": [
       "$\\displaystyle \\left[\\begin{matrix}3.40341570069978\\\\2.88615638021737\\\\0.410707299538361\\\\3.7020476720964\\end{matrix}\\right]$"
      ],
      "text/plain": [
       "Matrix([\n",
       "[ 3.40341570069978],\n",
       "[ 2.88615638021737],\n",
       "[0.410707299538361],\n",
       "[  3.7020476720964]])"
      ]
     },
     "execution_count": 12,
     "metadata": {},
     "output_type": "execute_result"
    }
   ],
   "source": [
    "q_comps"
   ]
  },
  {
   "cell_type": "code",
   "execution_count": 13,
   "metadata": {},
   "outputs": [
    {
     "data": {
      "text/latex": [
       "$\\displaystyle \\left[\\begin{matrix}3.40341570069978 - 3.7020476720964 i & -0.410707299538361 - 2.88615638021737 i\\\\0.410707299538361 - 2.88615638021737 i & 3.40341570069978 + 3.7020476720964 i\\end{matrix}\\right]$"
      ],
      "text/plain": [
       "Matrix([\n",
       "[  3.40341570069978 - 3.7020476720964*I, -0.410707299538361 - 2.88615638021737*I],\n",
       "[0.410707299538361 - 2.88615638021737*I,    3.40341570069978 + 3.7020476720964*I]])"
      ]
     },
     "execution_count": 13,
     "metadata": {},
     "output_type": "execute_result"
    }
   ],
   "source": [
    "# to express q in this representation, we multiply its components by the corresponding \n",
    "# elements of the representation: e, i, j, k\n",
    "# we then sum over the resulting matrices to obtain a single matrix representation of q\n",
    "import functools\n",
    "q = [q_comp * t for q_comp, t in list(zip(list(q_comps),(e, i, j, k)))]\n",
    "Q = functools.reduce(lambda m1, m2: m1 + m2, q)\n",
    "Q"
   ]
  },
  {
   "cell_type": "code",
   "execution_count": 14,
   "metadata": {},
   "outputs": [],
   "source": [
    "# define a trace function that automatically simplifies the resulting sympy expression\n",
    "def trace(M):\n",
    "    return simplify(Trace(M))"
   ]
  },
  {
   "cell_type": "code",
   "execution_count": 15,
   "metadata": {},
   "outputs": [],
   "source": [
    "# define equation 13.59 as a function \n",
    "def equation_13_59(t, q):\n",
    "    return Rational(1, 2) * trace(Dagger(t) * q)"
   ]
  },
  {
   "cell_type": "code",
   "execution_count": 16,
   "metadata": {},
   "outputs": [
    {
     "data": {
      "text/latex": [
       "$\\displaystyle \\left[\\begin{matrix}3.40341570069978\\\\2.88615638021737\\\\0.410707299538361\\\\3.7020476720964\\end{matrix}\\right]$"
      ],
      "text/plain": [
       "Matrix([\n",
       "[ 3.40341570069978],\n",
       "[ 2.88615638021737],\n",
       "[0.410707299538361],\n",
       "[  3.7020476720964]])"
      ]
     },
     "execution_count": 16,
     "metadata": {},
     "output_type": "execute_result"
    }
   ],
   "source": [
    "# apply equation 13.59 to recover the componenets of q\n",
    "Matrix(list(map(equation_13_59, (e,i,j,k), (Q, Q, Q, Q))))"
   ]
  },
  {
   "cell_type": "markdown",
   "metadata": {},
   "source": [
    "The result above shows exactly what we're looking for, as the resulting components are excatly those we started out with. \n",
    "\n",
    "### Now we turn our attention to the orthogonality relation:\n",
    "\n",
    "$$\\frac{1}{2}\\text{Tr}(\\mathbf{\\tau}^{(i)\\dagger}\\mathbf{\\tau}^{(j)}) = \\delta_{ij}$$\n",
    "\n",
    "An efficient way of demonstrating the above is to arrage the basis matrices into a 4 by 1 vector:\n",
    "\n",
    "$$\\mathbf{T} = [\\mathbf{\\tau}^{(0)}, \\mathbf{\\tau}^{(1)}, \\mathbf{\\tau}^{(2)}, \\mathbf{\\tau}^{(3)}]^{T} $$\n",
    "\n",
    "We can then express the above orthogonality relation in terms of the outer product:\n",
    "\n",
    "$$\\mathbf{T} \\otimes \\mathbf{T}$$\n",
    "\n",
    "That is, orthogonality is respected if - and only if - the outer product of $\\mathbf{T}$ with itself yields a 8 by 8 matrix which has entries yielding non-zero traces only along its diagonals with each of these entries being a 4 by 4 matrix of trace 2. "
   ]
  },
  {
   "cell_type": "code",
   "execution_count": 17,
   "metadata": {},
   "outputs": [],
   "source": [
    "# define T\n",
    "T = Transpose(Matrix([[e], [i], [j], [k]]))"
   ]
  },
  {
   "cell_type": "code",
   "execution_count": 18,
   "metadata": {},
   "outputs": [
    {
     "data": {
      "text/latex": [
       "$\\displaystyle \\left(\\left[\\begin{matrix}1 & 0\\\\0 & 1\\\\0 & - i\\\\- i & 0\\\\0 & -1\\\\1 & 0\\\\- i & 0\\\\0 & i\\end{matrix}\\right]\\right)^{T}$"
      ],
      "text/plain": [
       "Matrix([\n",
       "[ 1,  0],\n",
       "[ 0,  1],\n",
       "[ 0, -I],\n",
       "[-I,  0],\n",
       "[ 0, -1],\n",
       "[ 1,  0],\n",
       "[-I,  0],\n",
       "[ 0,  I]]).T"
      ]
     },
     "execution_count": 18,
     "metadata": {},
     "output_type": "execute_result"
    }
   ],
   "source": [
    "T"
   ]
  },
  {
   "cell_type": "code",
   "execution_count": 19,
   "metadata": {},
   "outputs": [
    {
     "data": {
      "text/latex": [
       "$\\displaystyle \\left[\\begin{matrix}1 & 0 & 0 & - i & 0 & 1 & - i & 0\\\\0 & 1 & - i & 0 & -1 & 0 & 0 & i\\\\0 & i & 1 & 0 & - i & 0 & 0 & -1\\\\i & 0 & 0 & 1 & 0 & i & 1 & 0\\\\0 & -1 & i & 0 & 1 & 0 & 0 & - i\\\\1 & 0 & 0 & - i & 0 & 1 & - i & 0\\\\i & 0 & 0 & 1 & 0 & i & 1 & 0\\\\0 & - i & -1 & 0 & i & 0 & 0 & 1\\end{matrix}\\right]$"
      ],
      "text/plain": [
       "Matrix([\n",
       "[1,  0,  0, -I,  0, 1, -I,  0],\n",
       "[0,  1, -I,  0, -1, 0,  0,  I],\n",
       "[0,  I,  1,  0, -I, 0,  0, -1],\n",
       "[I,  0,  0,  1,  0, I,  1,  0],\n",
       "[0, -1,  I,  0,  1, 0,  0, -I],\n",
       "[1,  0,  0, -I,  0, 1, -I,  0],\n",
       "[I,  0,  0,  1,  0, I,  1,  0],\n",
       "[0, -I, -1,  0,  I, 0,  0,  1]])"
      ]
     },
     "execution_count": 19,
     "metadata": {},
     "output_type": "execute_result"
    }
   ],
   "source": [
    "# take the outer product of T with T\n",
    "otr_prod = Dagger(T) * T\n",
    "otr_prod"
   ]
  },
  {
   "cell_type": "code",
   "execution_count": 20,
   "metadata": {},
   "outputs": [
    {
     "name": "stdout",
     "output_type": "stream",
     "text": [
      "[1, 0, 0, 0, 0, 1, 0, 0, 0, 0, 1, 0, 0, 0, 0, 1]\n"
     ]
    },
    {
     "data": {
      "text/latex": [
       "$\\displaystyle \\left[\\begin{matrix}1 & 0 & 0 & 0\\\\0 & 1 & 0 & 0\\\\0 & 0 & 1 & 0\\\\0 & 0 & 0 & 1\\end{matrix}\\right]$"
      ],
      "text/plain": [
       "Matrix([\n",
       "[1, 0, 0, 0],\n",
       "[0, 1, 0, 0],\n",
       "[0, 0, 1, 0],\n",
       "[0, 0, 0, 1]])"
      ]
     },
     "execution_count": 20,
     "metadata": {},
     "output_type": "execute_result"
    }
   ],
   "source": [
    "# demonstrate the orthogonality relation holds\n",
    "# by looping over the outer product\n",
    "# and applying 1 / 2 trace(M) to each 4 by 4 block matrix\n",
    "traces = []\n",
    "for r in range(0, 8, 2):\n",
    "    for c in range(0, 8, 2):\n",
    "        tr = Rational(1,2)*trace(otr_prod[r:r+2, c:c+2])\n",
    "        traces.append(tr)\n",
    "print(traces)\n",
    "\n",
    "# put the traces into an array in their natural order\n",
    "array = np.array(traces)\n",
    "array.shape = (4, 4)\n",
    "\n",
    "Traces = Matrix(array)\n",
    "Traces"
   ]
  },
  {
   "cell_type": "markdown",
   "metadata": {},
   "source": [
    "The above suffices to prove the orthogonality relation holds. "
   ]
  },
  {
   "cell_type": "markdown",
   "metadata": {},
   "source": [
    "### Finally, we examine the completeness relation:\n"
   ]
  },
  {
   "cell_type": "code",
   "execution_count": 45,
   "metadata": {},
   "outputs": [
    {
     "data": {
      "text/latex": [
       "$\\displaystyle \\left[\\begin{matrix}1 & 0\\\\0 & 1\\end{matrix}\\right]$"
      ],
      "text/plain": [
       "Matrix([\n",
       "[1, 0],\n",
       "[0, 1]])"
      ]
     },
     "execution_count": 45,
     "metadata": {},
     "output_type": "execute_result"
    }
   ],
   "source": [
    "# Here is the key observation:\n",
    "Rational(1, 4) *( (e * Dagger(e)) + (i * Dagger(i)) + (j * Dagger(j)) + (k * Dagger(k)) )"
   ]
  },
  {
   "cell_type": "markdown",
   "metadata": {},
   "source": [
    "What the above shows us is that, in combintaion with the way we have defined an inner product between 'vectors' on the space of pauli quaternions, we can express *any* quaternion as a linear combination of the $\\mathbf{\\tau}^{(k)}$. \n",
    "\n",
    "To wit, we have\n",
    "\n",
    "$$\\langle{\\mathbf{p}}|{ \\mathbf{q}}\\rangle  = \\frac{1}{2}\\text{Tr}(\\mathbf{p}\\mathbf{q})$$\n",
    "\n",
    "where $\\mathbf{p}\\mathbf{q}$ is the ordinary product of 2 by 2 matrices. \n",
    "\n",
    "From the computation above, we have it that \n",
    "\n",
    "$$2\\hat{\\mathbf{e}} = \\frac{1}{2}\\sum_{k = 0}^{3}\\mathbf{\\tau}^{(k)}\\mathbf{\\tau}^{(k)\\dagger}$$\n",
    "\n",
    "or\n",
    "\n",
    "$$\\hat{\\mathbf{e}} = \\frac{1}{4}\\sum_{k = 0}^{3}\\mathbf{\\tau}^{(k)}\\mathbf{\\tau}^{(k)\\dagger}$$\n",
    "\n",
    "\n",
    "\n",
    "Thus, \n",
    "\n",
    "$$\\mathbf{q} = \\hat{\\mathbf{e}} \\cdot \\mathbf{q} = \\frac{1}{4}\\sum_{k = 0}^{3}\\mathbf{\\tau}^{(k)}\\mathbf{\\tau}^{(k)\\dagger}\\mathbf{q}$$\n",
    "\n",
    "Now, we know that the $i^{th}$ compenent of $\\mathbf{q}$ is given by: \n",
    "\n",
    "$$q_{i} = \\langle \\mathbf{\\tau}^{(i)} | \\mathbf{q}\\rangle = \\frac{1}{2}\\text{Tr}(\\mathbf{\\tau}^{(i)\\dagger}\\mathbf{q})$$\n",
    "\n",
    "Thus, \n",
    "\n",
    "$$q_{i} = \\langle \\mathbf{\\tau}^{(i)} | \\mathbf{q}\\rangle = \\frac{1}{2}\\text{Tr}(\\mathbf{\\tau}^{(i)\\dagger}\\frac{1}{4}\\sum_{k = 0}^{3}\\mathbf{\\tau}^{(k)}\\mathbf{\\tau}^{(k)\\dagger}\\mathbf{q})$$\n",
    "\n",
    "$$= \\frac{1}{8}\\text{Tr}(\\mathbf{\\tau}^{(i)\\dagger}\\sum_{k = 0}^{3}\\mathbf{\\tau}^{(k)}\\mathbf{\\tau}^{(k)\\dagger}\\mathbf{q})$$\n",
    "\n",
    "$$= \\frac{1}{8}\\sum_{k = 0}^{3}\\text{Tr}(\\mathbf{\\tau}^{(i)\\dagger}\\mathbf{\\tau}^{(k)}\\mathbf{\\tau}^{(k)\\dagger}\\mathbf{q}))$$\n",
    "\n",
    "$$= \\frac{1}{8}\\sum_{k = 0}^{3}\\text{Tr}(\\mathbf{\\tau}^{(i)\\dagger}\\mathbf{q}))$$\n",
    "\n",
    "$$=  \\frac{1}{8}\\sum_{k = 0}^{3}2q_{i}$$\n",
    "\n",
    "$$= \\frac{1}{4}\\sum_{k = 0}^{3}q_{i}$$\n",
    "\n",
    "$$= \\frac{4q_{i}}{4}$$\n",
    "\n",
    "$$= q_{i}$$"
   ]
  },
  {
   "cell_type": "code",
   "execution_count": 62,
   "metadata": {},
   "outputs": [],
   "source": [
    "pairs = ((e, Dagger(e)), (i, Dagger(i)), (j, Dagger(j)), (k, Dagger(k)))"
   ]
  },
  {
   "cell_type": "code",
   "execution_count": 63,
   "metadata": {},
   "outputs": [],
   "source": [
    "indices = [(i, j, k, l) for i in range(2) for j in range(2) for k in range(2) for l in range(2)]"
   ]
  },
  {
   "cell_type": "code",
   "execution_count": 93,
   "metadata": {},
   "outputs": [],
   "source": [
    "tupl_sums = {}\n",
    "for tupl in indices:\n",
    "    a = pairs[0][0][tupl[0],tupl[1]]\n",
    "    b = pairs[0][1][tupl[2],tupl[3]]\n",
    "\n",
    "    c = pairs[1][0][tupl[0],tupl[1]]\n",
    "    d = pairs[1][1][tupl[2],tupl[3]]\n",
    "\n",
    "    e = pairs[2][0][tupl[0],tupl[1]]\n",
    "    f = pairs[2][1][tupl[2],tupl[3]]\n",
    "\n",
    "    g = pairs[3][0][tupl[0],tupl[1]]\n",
    "    h = pairs[3][1][tupl[2],tupl[3]]\n",
    "        \n",
    "    tupl_sums[tupl] = (0.5*((a*b) + (c*d) + (e*f) + (g*h)),\n",
    "                       \"a1:{} = a4:{}?\".format(tupl[0], tupl[3]),\n",
    "                       tupl[0] == tupl[3],\n",
    "                       \"a2:{} = a3:{}?\".format(tupl[1], tupl[2]),\n",
    "                       tupl[1] == tupl[2])\n",
    "                 \n",
    "    "
   ]
  },
  {
   "cell_type": "code",
   "execution_count": 94,
   "metadata": {},
   "outputs": [
    {
     "data": {
      "text/plain": [
       "{(0, 0, 0, 0): (1.00000000000000, 'a1:0 = a4:0?', True, 'a2:0 = a3:0?', True),\n",
       " (0, 0, 0, 1): (0, 'a1:0 = a4:1?', False, 'a2:0 = a3:0?', True),\n",
       " (0, 0, 1, 0): (0, 'a1:0 = a4:0?', True, 'a2:0 = a3:1?', False),\n",
       " (0, 0, 1, 1): (0, 'a1:0 = a4:1?', False, 'a2:0 = a3:1?', False),\n",
       " (0, 1, 0, 0): (0, 'a1:0 = a4:0?', True, 'a2:1 = a3:0?', False),\n",
       " (0, 1, 0, 1): (0, 'a1:0 = a4:1?', False, 'a2:1 = a3:0?', False),\n",
       " (0, 1, 1, 0): (1.00000000000000, 'a1:0 = a4:0?', True, 'a2:1 = a3:1?', True),\n",
       " (0, 1, 1, 1): (0, 'a1:0 = a4:1?', False, 'a2:1 = a3:1?', True),\n",
       " (1, 0, 0, 0): (0, 'a1:1 = a4:0?', False, 'a2:0 = a3:0?', True),\n",
       " (1, 0, 0, 1): (1.00000000000000, 'a1:1 = a4:1?', True, 'a2:0 = a3:0?', True),\n",
       " (1, 0, 1, 0): (0, 'a1:1 = a4:0?', False, 'a2:0 = a3:1?', False),\n",
       " (1, 0, 1, 1): (0, 'a1:1 = a4:1?', True, 'a2:0 = a3:1?', False),\n",
       " (1, 1, 0, 0): (0, 'a1:1 = a4:0?', False, 'a2:1 = a3:0?', False),\n",
       " (1, 1, 0, 1): (0, 'a1:1 = a4:1?', True, 'a2:1 = a3:0?', False),\n",
       " (1, 1, 1, 0): (0, 'a1:1 = a4:0?', False, 'a2:1 = a3:1?', True),\n",
       " (1, 1, 1, 1): (1.00000000000000, 'a1:1 = a4:1?', True, 'a2:1 = a3:1?', True)}"
      ]
     },
     "execution_count": 94,
     "metadata": {},
     "output_type": "execute_result"
    }
   ],
   "source": [
    "tupl_sums"
   ]
  },
  {
   "cell_type": "code",
   "execution_count": 95,
   "metadata": {},
   "outputs": [
    {
     "data": {
      "text/plain": [
       "[(1.00000000000000, 'a1:0 = a4:0?', True, 'a2:0 = a3:0?', True),\n",
       " (1.00000000000000, 'a1:0 = a4:0?', True, 'a2:1 = a3:1?', True),\n",
       " (1.00000000000000, 'a1:1 = a4:1?', True, 'a2:0 = a3:0?', True),\n",
       " (1.00000000000000, 'a1:1 = a4:1?', True, 'a2:1 = a3:1?', True)]"
      ]
     },
     "execution_count": 95,
     "metadata": {},
     "output_type": "execute_result"
    }
   ],
   "source": [
    "list(filter(lambda x: x[2] and x[4], tupl_sums.values()))"
   ]
  },
  {
   "cell_type": "code",
   "execution_count": null,
   "metadata": {},
   "outputs": [],
   "source": []
  }
 ],
 "metadata": {
  "kernelspec": {
   "display_name": "Python 3",
   "language": "python",
   "name": "python3"
  },
  "language_info": {
   "codemirror_mode": {
    "name": "ipython",
    "version": 3
   },
   "file_extension": ".py",
   "mimetype": "text/x-python",
   "name": "python",
   "nbconvert_exporter": "python",
   "pygments_lexer": "ipython3",
   "version": "3.6.8"
  }
 },
 "nbformat": 4,
 "nbformat_minor": 4
}
