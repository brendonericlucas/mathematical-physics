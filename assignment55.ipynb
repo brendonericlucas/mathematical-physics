{
 "cells": [
  {
   "cell_type": "markdown",
   "metadata": {},
   "source": [
    "# Assignment 55: Pauli matrices and rotations\n",
    "\n",
    "## Part 1 - Recap of Assignment 53"
   ]
  },
  {
   "cell_type": "code",
   "execution_count": 1,
   "metadata": {},
   "outputs": [
    {
     "name": "stdout",
     "output_type": "stream",
     "text": [
      "\n",
      "Vectors: [[0.70900184 0.5458896  0.44645375]\n",
      " [0.68385953 0.68375381 0.25459158]\n",
      " [0.68201426 0.47330905 0.55752586]\n",
      " [0.01610273 0.75873616 0.65119901]\n",
      " [0.6350931  0.54382719 0.5485515 ]\n",
      " [0.40856876 0.7046986  0.58006159]\n",
      " [0.42095118 0.88439021 0.20162854]\n",
      " [0.44678097 0.56028238 0.69747432]\n",
      " [0.81824331 0.20808296 0.5358912 ]\n",
      " [0.69709176 0.05465801 0.7148955 ]\n",
      " [0.17647515 0.06732179 0.98200015]\n",
      " [0.74528059 0.62392592 0.23510273]\n",
      " [0.11919667 0.8350213  0.53715137]\n",
      " [0.23875149 0.96874743 0.06727654]\n",
      " [0.78766203 0.22415769 0.57388314]\n",
      " [0.38180663 0.63701753 0.66965093]\n",
      " [0.14729105 0.77255988 0.61762171]\n",
      " [0.65764244 0.62637265 0.41852565]\n",
      " [0.97385725 0.09348245 0.20703402]\n",
      " [0.08887674 0.63931088 0.76379482]\n",
      " [0.2880003  0.87959279 0.37864541]\n",
      " [0.44796237 0.86535265 0.22470984]\n",
      " [0.62967812 0.05851793 0.77464903]\n",
      " [0.96842782 0.24919792 0.00692497]\n",
      " [0.62615342 0.54276159 0.55976937]\n",
      " [0.90342283 0.08673175 0.41988665]\n",
      " [0.10819562 0.80594432 0.58202015]\n",
      " [0.72166098 0.13861546 0.6782265 ]\n",
      " [0.31817341 0.71387819 0.62381376]\n",
      " [0.87656741 0.46654899 0.11815928]\n",
      " [0.6022549  0.6423973  0.47393538]\n",
      " [0.73128425 0.46837913 0.49582692]\n",
      " [0.96799614 0.05755148 0.24427711]\n",
      " [0.04423463 0.89570821 0.44243656]\n",
      " [0.47538948 0.84835316 0.23302739]\n",
      " [0.4612441  0.84919106 0.25715447]\n",
      " [0.22614354 0.85120155 0.47361906]\n",
      " [0.67119684 0.58342391 0.45728694]\n",
      " [0.72618167 0.669694   0.15546745]\n",
      " [0.67674229 0.40893174 0.61220479]\n",
      " [0.93616635 0.33222525 0.11497367]\n",
      " [0.23979579 0.44933239 0.86058026]\n",
      " [0.85997059 0.00694599 0.51029633]\n",
      " [0.85573224 0.45534213 0.2457354 ]\n",
      " [0.32080831 0.8959706  0.30711353]\n",
      " [0.54819321 0.74286274 0.3842384 ]\n",
      " [0.69876954 0.69205727 0.18104656]\n",
      " [0.76826139 0.46486452 0.44008569]\n",
      " [0.04663575 0.77066527 0.63553139]\n",
      " [0.05410606 0.29286769 0.95462089]]\n",
      "\n",
      "Rotation vector: [0.29797254 0.75635891 0.58235175]\n"
     ]
    }
   ],
   "source": [
    "import functools\n",
    "import numpy as np\n",
    "from sympy import *\n",
    "from sympy import sin, cos\n",
    "from sympy.abc import a, b, c\n",
    "from sympy.vector import CoordSys3D\n",
    "from sympy.physics.quantum.dagger import Dagger\n",
    "\n",
    "def random3DUnitVector(seed=None, test=False):\n",
    "    unit_vector = 1.0 / np.sqrt([3.0, 3.0, 3.0])\n",
    "    if not test:\n",
    "        # set seed\n",
    "        if seed is not None:\n",
    "            np.random.seed(seed)\n",
    "        # unscaled vector components\n",
    "        vec = np.random.uniform(0.0, 1.0, 3)\n",
    "        norm = np.sqrt(np.sum((vec*vec)))\n",
    "        unit_vector = vec / norm\n",
    "    return unit_vector\n",
    "\n",
    "def generateRandom3DUnitVectors(seed=None, test=False, num=50):\n",
    "    return np.array([np.array(random3DUnitVector(seed=None, test=False)) for n in range(num)])\n",
    "\n",
    "def randomAngle(seed=None, n=1):\n",
    "    if seed is not None:\n",
    "            np.random.seed(seed)\n",
    "    return np.random.uniform(0, 2*np.pi,n)\n",
    "\n",
    "# define random angle\n",
    "rangle = randomAngle(seed=42)[0]\n",
    "\n",
    "# 50 random vectors\n",
    "vectors = generateRandom3DUnitVectors(seed=7, test=False, num=50)\n",
    "print(\"\\nVectors: {}\".format(vectors))\n",
    "\n",
    "# one random unit vector\n",
    "N = random3DUnitVector(seed=42)\n",
    "print(\"\\nRotation vector: {}\".format(N))"
   ]
  },
  {
   "cell_type": "code",
   "execution_count": 2,
   "metadata": {},
   "outputs": [
    {
     "data": {
      "text/plain": [
       "[array([0.        , 0.70900184, 0.5458896 , 0.44645375]),\n",
       " array([0.        , 0.68385953, 0.68375381, 0.25459158]),\n",
       " array([0.        , 0.68201426, 0.47330905, 0.55752586]),\n",
       " array([0.        , 0.01610273, 0.75873616, 0.65119901]),\n",
       " array([0.        , 0.6350931 , 0.54382719, 0.5485515 ]),\n",
       " array([0.        , 0.40856876, 0.7046986 , 0.58006159]),\n",
       " array([0.        , 0.42095118, 0.88439021, 0.20162854]),\n",
       " array([0.        , 0.44678097, 0.56028238, 0.69747432]),\n",
       " array([0.        , 0.81824331, 0.20808296, 0.5358912 ]),\n",
       " array([0.        , 0.69709176, 0.05465801, 0.7148955 ]),\n",
       " array([0.        , 0.17647515, 0.06732179, 0.98200015]),\n",
       " array([0.        , 0.74528059, 0.62392592, 0.23510273]),\n",
       " array([0.        , 0.11919667, 0.8350213 , 0.53715137]),\n",
       " array([0.        , 0.23875149, 0.96874743, 0.06727654]),\n",
       " array([0.        , 0.78766203, 0.22415769, 0.57388314]),\n",
       " array([0.        , 0.38180663, 0.63701753, 0.66965093]),\n",
       " array([0.        , 0.14729105, 0.77255988, 0.61762171]),\n",
       " array([0.        , 0.65764244, 0.62637265, 0.41852565]),\n",
       " array([0.        , 0.97385725, 0.09348245, 0.20703402]),\n",
       " array([0.        , 0.08887674, 0.63931088, 0.76379482]),\n",
       " array([0.        , 0.2880003 , 0.87959279, 0.37864541]),\n",
       " array([0.        , 0.44796237, 0.86535265, 0.22470984]),\n",
       " array([0.        , 0.62967812, 0.05851793, 0.77464903]),\n",
       " array([0.        , 0.96842782, 0.24919792, 0.00692497]),\n",
       " array([0.        , 0.62615342, 0.54276159, 0.55976937]),\n",
       " array([0.        , 0.90342283, 0.08673175, 0.41988665]),\n",
       " array([0.        , 0.10819562, 0.80594432, 0.58202015]),\n",
       " array([0.        , 0.72166098, 0.13861546, 0.6782265 ]),\n",
       " array([0.        , 0.31817341, 0.71387819, 0.62381376]),\n",
       " array([0.        , 0.87656741, 0.46654899, 0.11815928]),\n",
       " array([0.        , 0.6022549 , 0.6423973 , 0.47393538]),\n",
       " array([0.        , 0.73128425, 0.46837913, 0.49582692]),\n",
       " array([0.        , 0.96799614, 0.05755148, 0.24427711]),\n",
       " array([0.        , 0.04423463, 0.89570821, 0.44243656]),\n",
       " array([0.        , 0.47538948, 0.84835316, 0.23302739]),\n",
       " array([0.        , 0.4612441 , 0.84919106, 0.25715447]),\n",
       " array([0.        , 0.22614354, 0.85120155, 0.47361906]),\n",
       " array([0.        , 0.67119684, 0.58342391, 0.45728694]),\n",
       " array([0.        , 0.72618167, 0.669694  , 0.15546745]),\n",
       " array([0.        , 0.67674229, 0.40893174, 0.61220479]),\n",
       " array([0.        , 0.93616635, 0.33222525, 0.11497367]),\n",
       " array([0.        , 0.23979579, 0.44933239, 0.86058026]),\n",
       " array([0.        , 0.85997059, 0.00694599, 0.51029633]),\n",
       " array([0.        , 0.85573224, 0.45534213, 0.2457354 ]),\n",
       " array([0.        , 0.32080831, 0.8959706 , 0.30711353]),\n",
       " array([0.        , 0.54819321, 0.74286274, 0.3842384 ]),\n",
       " array([0.        , 0.69876954, 0.69205727, 0.18104656]),\n",
       " array([0.        , 0.76826139, 0.46486452, 0.44008569]),\n",
       " array([0.        , 0.04663575, 0.77066527, 0.63553139]),\n",
       " array([0.        , 0.05410606, 0.29286769, 0.95462089])]"
      ]
     },
     "execution_count": 2,
     "metadata": {},
     "output_type": "execute_result"
    }
   ],
   "source": [
    "quaternions = [np.concatenate((np.array([0]), v)) for v in vectors]\n",
    "quaternions"
   ]
  },
  {
   "cell_type": "code",
   "execution_count": 3,
   "metadata": {},
   "outputs": [
    {
     "data": {
      "text/plain": [
       "(array([-0.70506063,  0.21130634,  0.53636967,  0.41297301]),\n",
       " array([-0.70506063, -0.21130634, -0.53636967, -0.41297301]))"
      ]
     },
     "execution_count": 3,
     "metadata": {},
     "output_type": "execute_result"
    }
   ],
   "source": [
    "# construct conjugate quarternions\n",
    "p = np.concatenate((np.array([np.cos(rangle)]), np.sin(rangle) * N)) \n",
    "p_inv = np.concatenate((np.array([np.cos(rangle)]), -np.sin(rangle) * N)) \n",
    "p, p_inv"
   ]
  },
  {
   "cell_type": "code",
   "execution_count": 4,
   "metadata": {},
   "outputs": [],
   "source": [
    "# define quaternion multiplication\n",
    "def multiply_quaternions(P, Q):\n",
    "    r0 = np.array([P[0] * Q[0] - np.dot(P[1:], Q[1:])])\n",
    "    r1 = Q[0] * P[1:] + P[0] * Q[1:] + np.cross(P[1:], Q[1:])\n",
    "    return(np.concatenate((r0, r1)))"
   ]
  },
  {
   "cell_type": "code",
   "execution_count": 5,
   "metadata": {},
   "outputs": [],
   "source": [
    "rotated_via_quaternions = np.array([q[1:] for q in [multiply_quaternions(p, multiply_quaternions(q, p_inv)) for q in quaternions]])"
   ]
  },
  {
   "cell_type": "markdown",
   "metadata": {},
   "source": [
    "# Part 2\n",
    "\n",
    "## Implementing the rotations using the Pauli matrix representation"
   ]
  },
  {
   "cell_type": "code",
   "execution_count": 6,
   "metadata": {},
   "outputs": [],
   "source": [
    "# define the pauli spin matrices\n",
    "import numpy as np\n",
    "import sympy as sp\n",
    "from sympy import *\n",
    "from sympy.physics.quantum.dagger import Dagger\n",
    "\n",
    "def pauli_matrix(s11, s12, s21, s22):\n",
    "    return Matrix([[s11, s12], [s21, s22]])\n",
    "\n",
    "args1, args2, args3, args4 = list(zip((1,0,0,1),(0,1,1,0),(0, -sp.I, sp.I, 0),(1,0,0,-1)))\n",
    "\n",
    "p0, p1, p2, p3 = list(map(pauli_matrix, args1, args2, args3, args4))"
   ]
  },
  {
   "cell_type": "code",
   "execution_count": 7,
   "metadata": {},
   "outputs": [
    {
     "data": {
      "text/latex": [
       "$\\displaystyle \\left[\\begin{matrix}1 & 0\\\\0 & 1\\end{matrix}\\right]$"
      ],
      "text/plain": [
       "Matrix([\n",
       "[1, 0],\n",
       "[0, 1]])"
      ]
     },
     "execution_count": 7,
     "metadata": {},
     "output_type": "execute_result"
    }
   ],
   "source": [
    "p0"
   ]
  },
  {
   "cell_type": "code",
   "execution_count": 8,
   "metadata": {},
   "outputs": [
    {
     "data": {
      "text/latex": [
       "$\\displaystyle \\left[\\begin{matrix}0 & 1\\\\1 & 0\\end{matrix}\\right]$"
      ],
      "text/plain": [
       "Matrix([\n",
       "[0, 1],\n",
       "[1, 0]])"
      ]
     },
     "execution_count": 8,
     "metadata": {},
     "output_type": "execute_result"
    }
   ],
   "source": [
    "p1"
   ]
  },
  {
   "cell_type": "code",
   "execution_count": 9,
   "metadata": {},
   "outputs": [
    {
     "data": {
      "text/latex": [
       "$\\displaystyle \\left[\\begin{matrix}0 & - i\\\\i & 0\\end{matrix}\\right]$"
      ],
      "text/plain": [
       "Matrix([\n",
       "[0, -I],\n",
       "[I,  0]])"
      ]
     },
     "execution_count": 9,
     "metadata": {},
     "output_type": "execute_result"
    }
   ],
   "source": [
    "p2"
   ]
  },
  {
   "cell_type": "code",
   "execution_count": 10,
   "metadata": {},
   "outputs": [
    {
     "data": {
      "text/latex": [
       "$\\displaystyle \\left[\\begin{matrix}1 & 0\\\\0 & -1\\end{matrix}\\right]$"
      ],
      "text/plain": [
       "Matrix([\n",
       "[1,  0],\n",
       "[0, -1]])"
      ]
     },
     "execution_count": 10,
     "metadata": {},
     "output_type": "execute_result"
    }
   ],
   "source": [
    "p3"
   ]
  },
  {
   "cell_type": "code",
   "execution_count": 11,
   "metadata": {},
   "outputs": [],
   "source": [
    "# define the basis quaternions in matrix form\n",
    "e, i, j, k = [f*g for f, g in list(zip((1, -sp.I, -sp.I, -sp.I), (p0, p1, p2, p3)))]"
   ]
  },
  {
   "cell_type": "code",
   "execution_count": 12,
   "metadata": {},
   "outputs": [
    {
     "data": {
      "text/latex": [
       "$\\displaystyle \\left[\\begin{matrix}1 & 0\\\\0 & 1\\end{matrix}\\right]$"
      ],
      "text/plain": [
       "Matrix([\n",
       "[1, 0],\n",
       "[0, 1]])"
      ]
     },
     "execution_count": 12,
     "metadata": {},
     "output_type": "execute_result"
    }
   ],
   "source": [
    "e"
   ]
  },
  {
   "cell_type": "code",
   "execution_count": 13,
   "metadata": {},
   "outputs": [
    {
     "data": {
      "text/latex": [
       "$\\displaystyle \\left[\\begin{matrix}0 & - i\\\\- i & 0\\end{matrix}\\right]$"
      ],
      "text/plain": [
       "Matrix([\n",
       "[ 0, -I],\n",
       "[-I,  0]])"
      ]
     },
     "execution_count": 13,
     "metadata": {},
     "output_type": "execute_result"
    }
   ],
   "source": [
    "i"
   ]
  },
  {
   "cell_type": "code",
   "execution_count": 14,
   "metadata": {},
   "outputs": [
    {
     "data": {
      "text/latex": [
       "$\\displaystyle \\left[\\begin{matrix}0 & -1\\\\1 & 0\\end{matrix}\\right]$"
      ],
      "text/plain": [
       "Matrix([\n",
       "[0, -1],\n",
       "[1,  0]])"
      ]
     },
     "execution_count": 14,
     "metadata": {},
     "output_type": "execute_result"
    }
   ],
   "source": [
    "j"
   ]
  },
  {
   "cell_type": "code",
   "execution_count": 15,
   "metadata": {},
   "outputs": [
    {
     "data": {
      "text/latex": [
       "$\\displaystyle \\left[\\begin{matrix}- i & 0\\\\0 & i\\end{matrix}\\right]$"
      ],
      "text/plain": [
       "Matrix([\n",
       "[-I, 0],\n",
       "[ 0, I]])"
      ]
     },
     "execution_count": 15,
     "metadata": {},
     "output_type": "execute_result"
    }
   ],
   "source": [
    "k"
   ]
  },
  {
   "cell_type": "code",
   "execution_count": 16,
   "metadata": {},
   "outputs": [],
   "source": [
    "# to express p, p_inv in this representation, we multiply their components by the corresponding \n",
    "# elements of the representation: e, i, j, k\n",
    "# we then sum over the resulting matrices to obtain a single matrix representation of each of these\n",
    "to_pauli_matrix = lambda q: [q_ * t for q_, t in list(zip(list(q),(e, i, j, k)))]"
   ]
  },
  {
   "cell_type": "code",
   "execution_count": 17,
   "metadata": {},
   "outputs": [
    {
     "data": {
      "text/latex": [
       "$\\displaystyle \\left[\\begin{matrix}-0.70506063397579 - 0.41297301158258 i & -0.536369671723189 - 0.211306340126438 i\\\\0.536369671723189 - 0.211306340126438 i & -0.70506063397579 + 0.41297301158258 i\\end{matrix}\\right]$"
      ],
      "text/plain": [
       "Matrix([\n",
       "[ -0.70506063397579 - 0.41297301158258*I, -0.536369671723189 - 0.211306340126438*I],\n",
       "[0.536369671723189 - 0.211306340126438*I,   -0.70506063397579 + 0.41297301158258*I]])"
      ]
     },
     "execution_count": 17,
     "metadata": {},
     "output_type": "execute_result"
    }
   ],
   "source": [
    "P = functools.reduce(lambda m1, m2: m1 + m2, to_pauli_matrix(p))\n",
    "P"
   ]
  },
  {
   "cell_type": "code",
   "execution_count": 18,
   "metadata": {},
   "outputs": [
    {
     "data": {
      "text/latex": [
       "$\\displaystyle \\left[\\begin{matrix}-0.70506063397579 + 0.41297301158258 i & 0.536369671723189 + 0.211306340126438 i\\\\-0.536369671723189 + 0.211306340126438 i & -0.70506063397579 - 0.41297301158258 i\\end{matrix}\\right]$"
      ],
      "text/plain": [
       "Matrix([\n",
       "[  -0.70506063397579 + 0.41297301158258*I, 0.536369671723189 + 0.211306340126438*I],\n",
       "[-0.536369671723189 + 0.211306340126438*I,  -0.70506063397579 - 0.41297301158258*I]])"
      ]
     },
     "execution_count": 18,
     "metadata": {},
     "output_type": "execute_result"
    }
   ],
   "source": [
    "P_inv = functools.reduce(lambda m1, m2: m1 + m2, to_pauli_matrix(p_inv))\n",
    "P_inv"
   ]
  },
  {
   "cell_type": "code",
   "execution_count": 19,
   "metadata": {},
   "outputs": [
    {
     "data": {
      "text/plain": [
       "True"
      ]
     },
     "execution_count": 19,
     "metadata": {},
     "output_type": "execute_result"
    }
   ],
   "source": [
    "# check that p, p_inv are still conjugate and inverse\n",
    "simplify(P * P_inv) == simplify(P_inv * P) == Matrix([[1,0],[0,1]])"
   ]
  },
  {
   "cell_type": "code",
   "execution_count": 20,
   "metadata": {},
   "outputs": [],
   "source": [
    "# turn the quaternions in the Pauli spin matrix representation\n",
    "matrices = [simplify(P * functools.reduce(lambda m1, m2: m1 + m2, to_pauli_matrix(q)))  * P_inv for q in quaternions]"
   ]
  },
  {
   "cell_type": "code",
   "execution_count": 21,
   "metadata": {},
   "outputs": [
    {
     "data": {
      "text/latex": [
       "$\\displaystyle \\left[\\begin{matrix}\\left(-0.70506063397579 + 0.41297301158258 i\\right) \\left(-0.626988554112648 + 0.579714110483669 i\\right) + \\left(-0.536369671723189 + 0.211306340126438 i\\right) \\left(0.18642514830179 + 0.485862704062079 i\\right) & \\left(-0.70506063397579 - 0.41297301158258 i\\right) \\left(0.18642514830179 + 0.485862704062079 i\\right) + \\left(-0.626988554112648 + 0.579714110483669 i\\right) \\left(0.536369671723189 + 0.211306340126438 i\\right)\\\\\\left(-0.70506063397579 + 0.41297301158258 i\\right) \\left(-0.18642514830179 + 0.485862704062079 i\\right) + \\left(-0.626988554112648 - 0.579714110483669 i\\right) \\left(-0.536369671723189 + 0.211306340126438 i\\right) & \\left(-0.18642514830179 + 0.485862704062079 i\\right) \\left(0.536369671723189 + 0.211306340126438 i\\right) + \\left(-0.70506063397579 - 0.41297301158258 i\\right) \\left(-0.626988554112648 - 0.579714110483669 i\\right)\\end{matrix}\\right]$"
      ],
      "text/plain": [
       "Matrix([\n",
       "[ (-0.70506063397579 + 0.41297301158258*I)*(-0.626988554112648 + 0.579714110483669*I) + (-0.536369671723189 + 0.211306340126438*I)*(0.18642514830179 + 0.485862704062079*I),  (-0.70506063397579 - 0.41297301158258*I)*(0.18642514830179 + 0.485862704062079*I) + (-0.626988554112648 + 0.579714110483669*I)*(0.536369671723189 + 0.211306340126438*I)],\n",
       "[(-0.70506063397579 + 0.41297301158258*I)*(-0.18642514830179 + 0.485862704062079*I) + (-0.626988554112648 - 0.579714110483669*I)*(-0.536369671723189 + 0.211306340126438*I), (-0.18642514830179 + 0.485862704062079*I)*(0.536369671723189 + 0.211306340126438*I) + (-0.70506063397579 - 0.41297301158258*I)*(-0.626988554112648 - 0.579714110483669*I)]])"
      ]
     },
     "execution_count": 21,
     "metadata": {},
     "output_type": "execute_result"
    }
   ],
   "source": [
    "matrices[0]"
   ]
  },
  {
   "cell_type": "code",
   "execution_count": 22,
   "metadata": {},
   "outputs": [],
   "source": [
    "# define a trace function that automatically simplifies the resulting sympy expression\n",
    "def trace(M):\n",
    "    return simplify(Trace(M))"
   ]
  },
  {
   "cell_type": "code",
   "execution_count": 23,
   "metadata": {},
   "outputs": [],
   "source": [
    "# define func to map pauli spin representation back to a four - vector\n",
    "to_four_vector = lambda t, q: Rational(1, 2) * trace(Dagger(t) * q)"
   ]
  },
  {
   "cell_type": "code",
   "execution_count": 24,
   "metadata": {},
   "outputs": [],
   "source": [
    "rotated_via_matrices = np.array([[to_four_vector(t, q) for t in (e, i, j, k)][1:] for q in matrices])"
   ]
  },
  {
   "cell_type": "code",
   "execution_count": 25,
   "metadata": {},
   "outputs": [
    {
     "data": {
      "text/latex": [
       "$\\displaystyle 2.22044604925031 \\cdot 10^{-16}$"
      ],
      "text/plain": [
       "2.22044604925031e-16"
      ]
     },
     "execution_count": 25,
     "metadata": {},
     "output_type": "execute_result"
    }
   ],
   "source": [
    "np.max(np.abs(rotated_via_matrices - rotated_via_quaternions))"
   ]
  },
  {
   "cell_type": "code",
   "execution_count": 26,
   "metadata": {},
   "outputs": [
    {
     "data": {
      "image/png": "[encoded data removed]",
      "text/plain": [
       "<Figure size 432x288 with 1 Axes>"
      ]
     },
     "metadata": {},
     "output_type": "display_data"
    }
   ],
   "source": [
    "%matplotlib inline\n",
    "import matplotlib.pyplot as plt\n",
    "plt.style.use('seaborn-whitegrid')\n",
    "plt.plot(rotated_via_quaternions, rotated_via_matrices, 'o', color='black');\n"
   ]
  },
  {
   "cell_type": "code",
   "execution_count": null,
   "metadata": {},
   "outputs": [],
   "source": []
  }
 ],
 "metadata": {
  "kernelspec": {
   "display_name": "Python 3",
   "language": "python",
   "name": "python3"
  },
  "language_info": {
   "codemirror_mode": {
    "name": "ipython",
    "version": 3
   },
   "file_extension": ".py",
   "mimetype": "text/x-python",
   "name": "python",
   "nbconvert_exporter": "python",
   "pygments_lexer": "ipython3",
   "version": "3.6.8"
  }
 },
 "nbformat": 4,
 "nbformat_minor": 4
}
